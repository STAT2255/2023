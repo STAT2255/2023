{
 "cells": [
  {
   "cell_type": "markdown",
   "id": "1d5fa195",
   "metadata": {},
   "source": [
    "# Stat 2255 Homework 1\n",
    "1. Create a virtual environment named `homework1` with python 3.10.0.\n",
    "2. Install Jupyter notebook and update it to notebook 7 in the `homework1`\n",
    "virtual environment.\n",
    "3. Install the package `matplotlib` version `3.6.0` into the `homework1` virtual environment.\n",
    "4. Start `jupyter notebook` from the `homework1` virtual environment, open this notebook, and run the code in the following shells.\n",
    "5. Export with the outputs as a pdf file to submit in HuskyCT."
   ]
  },
  {
   "cell_type": "code",
   "execution_count": null,
   "id": "94b829d7-f2c4-4979-89b1-458442ac2b15",
   "metadata": {},
   "outputs": [],
   "source": [
    "import platform\n",
    "platform.python_version()"
   ]
  },
  {
   "cell_type": "code",
   "execution_count": null,
   "id": "43976169-21cf-4ac3-abd4-985de2580ee1",
   "metadata": {},
   "outputs": [],
   "source": [
    "import notebook\n",
    "notebook.__version__"
   ]
  },
  {
   "cell_type": "code",
   "execution_count": null,
   "id": "d85a0654-4150-4084-bb09-9cd1b695794c",
   "metadata": {},
   "outputs": [],
   "source": [
    "import matplotlib\n",
    "matplotlib.__version__"
   ]
  }
 ],
 "metadata": {
  "kernelspec": {
   "display_name": "Python 3 (ipykernel)",
   "language": "python",
   "name": "python3"
  },
  "language_info": {
   "codemirror_mode": {
    "name": "ipython",
    "version": 3
   },
   "file_extension": ".py",
   "mimetype": "text/x-python",
   "name": "python",
   "nbconvert_exporter": "python",
   "pygments_lexer": "ipython3",
   "version": "3.10.0"
  }
 },
 "nbformat": 4,
 "nbformat_minor": 5
}
