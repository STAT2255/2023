{
 "cells": [
  {
   "cell_type": "markdown",
   "metadata": {},
   "source": [
    "# Motivation\n",
    "\n",
    "Informally, **random variables** are possible outcomes of experiments. For example, let $X$ be the number of heads in 3 tosses of a fair coin. Then, \n",
    "\n",
    "* The values of the random variable are random before the experiment. ($X$ can be $0, 1, 2,$ or $3$).\n",
    "* Each possible value is associated with a probability, which tells you how likely is the corresponding event. (e.g. 1/8, 3/8, 3/8, 1/8).\n",
    "* The possible values and associated probabilities together form the distribution of the random variable.\n",
    "\n",
    "When calculating some quantities with respect to random variables, giving an exact answer sometime can be tedius:\n",
    "\n",
    "* In a shuffled deck, what is the probability that at least one of the top two cards is an ace?\n",
    "* In a shuffled deck, what is the probability that a 5 card hand contains at least one card of each suit?\n",
    "* In our class, what is the probability that at least two persons share the same birth?\n",
    "* If a random variable $X$ is from an arbitrary distribution. What is $E(X)$, $E(X^2)$, or $E\\left(\\frac{3X^2}{1+X^2}\\right)$?\n",
    "\n",
    "\n",
    "For the above questions, although there exist exact answers, some are easy to calculate, some are not. Instead of calculating the exact answers, we can run simulations to approximate those answer. The key is how to generate the random variables from the corresponding experiment, or distribution. "
   ]
  },
  {
   "cell_type": "markdown",
   "metadata": {},
   "source": [
    "# Random Variable Generation\n",
    "\n",
    "- To begin with, we assume that there exists a perfect Uniform(0, 1) random variable generator,\n",
    "- i.e. a generator capable of produclng a sequence $U_1$, $U_2$, $\\dots$, of independent random variables from Uniform(0,1).\n",
    "- We will use ```random.uniform``` method from the numpy package.\n",
    "- The question is how to use them to simulate other random variables.\n",
    "- We will go over some common algorithms that allow us to do this.\n",
    "  * The inversion method.\n",
    "  * The rejection method."
   ]
  },
  {
   "cell_type": "markdown",
   "metadata": {},
   "source": [
    "# Inversion method\n",
    "\n",
    "## Definitions\n",
    "\n",
    "For a random variable $X$, the distribution function ($F$), also refered as the cumulative distribution function (cdf) is defined as:\n",
    "\n",
    "$$F(x) = P(X\\le x) = \\sum_{x_i\\le x} p(x_i),\\ \\text{ or }\\ F(x) = P(X\\le x) = \\int_{-\\infty}^x f(y) dy.$$\n",
    "\n",
    "where $P(x_i)$ is the probability mass function (discrete), and $f(x) = F'(x)$ is the probability density function (continuous). \n",
    "\n",
    "A distribution is completely specified when its distribution function is given.\n",
    "\n",
    "### Continuous random variable\n",
    "\n",
    "Define $F^{-1}$ as the inverse function of $F$ such that:\n",
    "\n",
    "$$F^{-1}(u) = inf\\{x: F(x) = u, 0\\le u\\le 1\\}.$$\n",
    "\n",
    "The inversion method is applied to continuous random variables and it is based on the following theorem:\n",
    "\n",
    "## Theorem\n",
    "\n",
    "> If $U\\sim Uniform(0,1)$, then random variable $F^{-1}(U)$ is a random variable that has distribution function $F$.\n",
    "\n",
    "Why?\n",
    "\n",
    "\n",
    "## Procedure\n",
    "\n",
    "Using the above theorem, for a random variable $X$ with distribution function $F$, provided that $F^{-1}$ is explicitly known, we can generate $X$ by the following steps:\n",
    "\n",
    "1. Generate $U\\sim Uniform(0,1)$.\n",
    "2. Return $F^{-1}(U)$.\n",
    "\n",
    "\n",
    "## Example: Exponential Random Variable\n",
    "\n",
    "For an exponential distribution with parameter $\\theta>0$, denoted as Exp$(\\theta)$, the cdf is \n",
    "\n",
    "$$F(x) = 1-e^{-x/\\theta}, \\ x\\ge 0.$$\n",
    "\n",
    "The pdf is \n",
    "\n",
    "$$f(x) = \\frac{1}{\\theta}e^{-\\frac{x}{\\theta}}.$$\n",
    "\n",
    "Then, \n",
    "\n",
    "$$F^{-1}(u) = -\\theta \\ln (1-u), \\text{ for } u\\in [0,1].$$\n",
    "\n",
    "Here is how we generate random variable from Exp$(\\theta)$:\n",
    "\n",
    "1. Generate $U\\sim Uniform(0,1)$.\n",
    "2. Return $-\\theta \\ln (1-U)$, or $-\\theta \\ln U$ (why?)."
   ]
  },
  {
   "cell_type": "code",
   "execution_count": 5,
   "metadata": {},
   "outputs": [],
   "source": [
    "import numpy as np\n",
    "np.random.seed(1)\n",
    "# use theta=1\n",
    "def random_exp(theta = 1):\n",
    "    U = np.random.uniform()\n",
    "    return(-theta * np.log(1 - U))"
   ]
  },
  {
   "cell_type": "code",
   "execution_count": 19,
   "metadata": {},
   "outputs": [],
   "source": [
    "Exp = [random_exp() for i in range(5000)]\n",
    "# print(Exp)"
   ]
  },
  {
   "cell_type": "code",
   "execution_count": 20,
   "metadata": {},
   "outputs": [],
   "source": [
    "Exp1 = np.random.exponential(scale = 1, size = 5000)\n",
    "# print(Exp1)"
   ]
  },
  {
   "cell_type": "code",
   "execution_count": 21,
   "metadata": {},
   "outputs": [
    {
     "data": {
      "image/png": "[encoded data removed]",
      "text/plain": [
       "<Figure size 1200x600 with 1 Axes>"
      ]
     },
     "metadata": {},
     "output_type": "display_data"
    }
   ],
   "source": [
    "import matplotlib.pyplot as plt\n",
    "plt.figure(figsize=(12,6))\n",
    "plt.hist(Exp, alpha=0.5, label=\"data1\")\n",
    "plt.hist(Exp1, alpha=0.5, label=\"data2\")\n",
    "plt.legend(fontsize = 'x-large')\n",
    "plt.show()"
   ]
  },
  {
   "cell_type": "markdown",
   "metadata": {},
   "source": [
    "## Numerical evaluation of $F^{-1}$\n",
    "\n",
    "If $F^{-1}$ is not known explicitly, the inverse method is still applicable by numerical evaluation of $F^{-1}$.\n",
    "\n",
    "Given $F$ is continuous and differentialable, computing $F^{-1}(u)$ is equivalent to find the root x such that $F(x)-u = 0$.\n",
    "\n",
    "We can use the Newton's method to find $F^{-1}(u)$ using\n",
    "\n",
    "$$x_{n+1} = x_n-\\frac{F(x_n)-u}{f(x_n)}.$$\n",
    "\n",
    "At convergence, $x_n \\approx F^{-1}(u)$."
   ]
  },
  {
   "cell_type": "code",
   "execution_count": 22,
   "metadata": {},
   "outputs": [],
   "source": [
    "def exp_F(x, theta=1):\n",
    "    return 1 - np.exp(-x / theta)\n",
    "\n",
    "def exp_f(x, theta=1):\n",
    "    return (1/theta) * np.exp(-x / theta)"
   ]
  },
  {
   "cell_type": "code",
   "execution_count": 23,
   "metadata": {},
   "outputs": [],
   "source": [
    "def inv_function(u, F, f, init, theta, eps = 10**(-7), maxit = 100):\n",
    "    old_value = init\n",
    "    for i in range(maxit):\n",
    "        try:\n",
    "            new_value = old_value - (F(old_value, theta) - u) / f(old_value, theta)\n",
    "        except ZeroDivisionError:\n",
    "            print(\"Zero division\")\n",
    "            return None\n",
    "        if abs(new_value-old_value) < eps:\n",
    "            return new_value\n",
    "        old_value = new_value\n",
    "    print(\"Fail to converge\")"
   ]
  },
  {
   "cell_type": "code",
   "execution_count": 24,
   "metadata": {},
   "outputs": [],
   "source": [
    "def random_exp2(theta = 1):\n",
    "    U = np.random.uniform()\n",
    "    return (inv_function(U, exp_F, exp_f, 0, theta))"
   ]
  },
  {
   "cell_type": "code",
   "execution_count": 28,
   "metadata": {},
   "outputs": [],
   "source": [
    "Exp2 = [random_exp2() for i in range(5000)]"
   ]
  },
  {
   "cell_type": "code",
   "execution_count": 29,
   "metadata": {},
   "outputs": [
    {
     "data": {
      "text/plain": [
       "<matplotlib.legend.Legend at 0x127acd190>"
      ]
     },
     "execution_count": 29,
     "metadata": {},
     "output_type": "execute_result"
    },
    {
     "data": {
      "image/png": "[encoded data removed]",
      "text/plain": [
       "<Figure size 1200x600 with 1 Axes>"
      ]
     },
     "metadata": {},
     "output_type": "display_data"
    }
   ],
   "source": [
    "plt.figure(figsize=(12,6))\n",
    "plt.hist(Exp, alpha=0.5, label=\"data1\")\n",
    "plt.hist(Exp2, alpha=0.5, label=\"data2\")\n",
    "plt.legend(fontsize = 'x-large')"
   ]
  },
  {
   "cell_type": "markdown",
   "metadata": {},
   "source": [
    "## Example: Gamma Random Variable\n",
    "\n",
    "The exponential distribution is a special case of gamma distribution.\n",
    "- If $X\\sim Exp(\\theta)$, $X\\sim Gamma(1, \\theta)$.\n",
    "- The Gamma distribution has the following property:\n",
    "   * If $X_1\\sim Gamma (\\alpha_1, \\theta)$, $X_2\\sim Gamma (\\alpha_2, \\theta)$, $\\dots,$, $\\sum_{i=1}^n X_i \\sim Gamma(\\sum_{i=1}^n \\alpha_i, \\theta)$.\n",
    "   * If $X\\sim Gamma (\\alpha, \\theta)$, $c X \\sim Gamma(\\alpha, c\\theta)$.\n",
    "\n",
    "Using the above fact, we can generate random numbers from a gamma distribution if $\\alpha$ is an integer."
   ]
  },
  {
   "cell_type": "code",
   "execution_count": 30,
   "metadata": {},
   "outputs": [],
   "source": [
    "def random_gamma(alpha=1, theta=1):\n",
    "    exp = [random_exp(theta) for i in range(alpha)]\n",
    "    return sum(exp)"
   ]
  },
  {
   "cell_type": "code",
   "execution_count": 32,
   "metadata": {},
   "outputs": [
    {
     "data": {
      "text/plain": [
       "<matplotlib.legend.Legend at 0x127caee90>"
      ]
     },
     "execution_count": 32,
     "metadata": {},
     "output_type": "execute_result"
    },
    {
     "data": {
      "image/png": "[encoded data removed]",
      "text/plain": [
       "<Figure size 1200x600 with 1 Axes>"
      ]
     },
     "metadata": {},
     "output_type": "display_data"
    }
   ],
   "source": [
    "gamma1 = [random_gamma(2, 3) for i in range(5000)]\n",
    "gamma2 = np.random.gamma(2, 3, size = 5000)\n",
    "plt.figure(figsize=(12,6))\n",
    "plt.hist(gamma1, alpha=0.5, label=\"data1\", bins = 10)\n",
    "plt.hist(gamma2, alpha=0.5, label=\"data2\", bins = 10)\n",
    "plt.legend(fontsize = 'x-large')"
   ]
  },
  {
   "cell_type": "markdown",
   "metadata": {},
   "source": [
    "## Example: Laplace Random Variable\n",
    "\n",
    "The Laplace distribution has the following density function (pdf):\n",
    "\n",
    "$$f(x) = \\frac{1}{2}e^{-|x|} = \\begin{cases}\\frac{1}{2}e^{-x}, & x\\ge 0\\\\ \\frac{1}{2}e^{x}, & x <0\\end{cases}. $$\n",
    "\n",
    "- It can be shown that if $X$ has a Laplace distribution, then $|X|\\sim Exp(1)$.\n",
    "- So, if we let $T = |X|$, given $T = t$, $X$ can only take two possible values $t$, or $-t$, each with probability 0.5.\n",
    "- We can use this fact to generate random numbers from Laplace distribution:\n",
    "\n",
    "1. Generate $T\\sim Exp(1)$ and $U\\sim Uniform(0,1)$. \n",
    "2. \n",
    "    * Return $T$ if $U>0.5$.\n",
    "    * Return $-T$ if $U \\le 0.5$.\n",
    "    \n",
    "In this case, joint density function of $(U, X)$ is \n",
    "\n",
    "$$f(u, t) = \\begin{cases}e^{-x}, & u> 0.5, x \\ge0\\\\ e^{x}, & u \\le 0.5, x < 0\\end{cases}. $$\n",
    "\n",
    "Integrate out $u$, we have $f(x)$ is the same as the pdf above."
   ]
  },
  {
   "cell_type": "code",
   "execution_count": 33,
   "metadata": {},
   "outputs": [],
   "source": [
    "def random_Laplace():\n",
    "    T = random_exp()\n",
    "    U = np.random.uniform()\n",
    "    return (T**(U>0.5) * (-T)**(U<=0.5))"
   ]
  },
  {
   "cell_type": "code",
   "execution_count": 38,
   "metadata": {},
   "outputs": [],
   "source": [
    "def random_Laplace():\n",
    "    T = random_exp()\n",
    "    U = np.random.uniform()\n",
    "    if U > 0.5:\n",
    "        return T\n",
    "    else:\n",
    "        return -T"
   ]
  },
  {
   "cell_type": "markdown",
   "metadata": {},
   "source": [
    "### Discrete Random Variable\n",
    "\n",
    "Discrete random variable can be generated from a comparable way. Suppose we have a discrete random variable $X$ with support $\\mathcal{S} = \\{x_1, x_2, \\dots, x_n\\}$ with associated probabilities $p_1, p_2, \\dots, p_n$, such that:\n",
    "\n",
    "| $X$   | $P(X=x_i)$ |\n",
    "|-------|-----------:|\n",
    "| $x_1$ |      $p_1$ |\n",
    "| $x_2$ |      $p_2$ |\n",
    "| ...   |        ... |\n",
    "| $x_n$ |      $p_n$ |\n",
    "\n",
    "Recall \n",
    "\n",
    "$$F(x_j) = \\sum_{i\\le j}P(x_i)$$\n",
    "\n",
    "we can split the interval $[0, 1]$ into $[0, F(x_1))$, $[F(x_1), F(x_2))$, $\\dots$, $[F(x_n), 1]$.\n",
    "\n",
    "Then, for $U\\sim Uniform(0,1)$\n",
    "$$P(F(x_{j-1})\\le U < F(x_{j})) = F(x_{j})-F(x_{j-1}) = P(X = x_j),$$\n",
    "\n",
    "where $F(x_0) = 0$.\n",
    "\n",
    "Then, the procedure to generate a discrete random variable can be done as follows:\n",
    "\n",
    "1. Sample $U\\sim Uniform(0,1)$.\n",
    "2. Return $x_j$ if $F(x_{j-1})\\le U < F(x_{j})$."
   ]
  },
  {
   "cell_type": "code",
   "execution_count": null,
   "metadata": {},
   "outputs": [],
   "source": [
    "def discrete_random(X, P):\n",
    "    index = 0\n",
    "    U = np.random.uniform()\n",
    "    p_i = P[index]\n",
    "    while U > p_i:\n",
    "        U = U-p_i\n",
    "        index += 1\n",
    "        p_i = P[index]\n",
    "    return X[index]"
   ]
  },
  {
   "cell_type": "markdown",
   "metadata": {},
   "source": [
    "### Example: generating a birthday\n",
    "\n",
    "Assume we have 365 days in a year and the chance of born in each day is the same. How do we generate a birthday of a person?"
   ]
  },
  {
   "cell_type": "code",
   "execution_count": null,
   "metadata": {},
   "outputs": [],
   "source": [
    "def birthday_random():\n",
    "    pass"
   ]
  },
  {
   "cell_type": "markdown",
   "metadata": {},
   "source": [
    "## Rejection method\n",
    "\n",
    "Suppose the goal is to generate a random variable that has pdf $f$ defined on $\\mathcal{X}$. The basic version of rejection algorithm assumes:\n",
    "* there exist a density function $g$ defined on $\\mathcal{X}$ which we know how to generate samples (easily);\n",
    "* $g$ has the property that for some constant $c>0$, \n",
    "\n",
    "$$f(x) \\le cg(x), \\ \\text{ for all } x\\in \\mathcal{X}.$$\n",
    "\n",
    "In this case, the $g$ density is called the \"instrumental\" density and $cg(x)$ is known as an envelope.\n",
    "\n",
    "The procesure to generate a random variable from $f$ can be done this way:\n",
    "\n",
    "1. sample $X\\sim g$, and $U\\sim Uniform(0,1)$.\n",
    "2. \n",
    "    * accept and return $X$, if $U \\le f(X)/(cg(X))$.\n",
    "    * else, go to step 1."
   ]
  },
  {
   "cell_type": "markdown",
   "metadata": {},
   "source": [
    "### Example\n",
    "\n",
    "Suppose we would like to generate a random variable that has the following density function\n",
    "\n",
    "$$f(x) = 1-|x|, x\\in [0,1] = \\begin{cases}x+1, & -1\\le x < 0\\\\ -x+1, & 0\\le x \\le 1 \\\\ 0, & elsewhere\\end{cases}.$$"
   ]
  },
  {
   "cell_type": "code",
   "execution_count": null,
   "metadata": {},
   "outputs": [],
   "source": [
    "plt.figure(figsize=(8,6))\n",
    "plt.plot([-1, 0, 1], [0, 1, 0], label = \"f(x)\")\n",
    "plt.plot([-1, 0, 1], [1, 1, 1], color = 'r', label = \"cg(x)\")\n",
    "plt.plot([-1, -1], [1, 0], color = 'r', linestyle = '--')\n",
    "plt.plot([1, 1], [0, 1], color = 'r', linestyle = '--')\n",
    "plt.plot([-1, 1], [0.5, 0.5], color = 'k', linestyle = '--', label = 'g(x)')\n",
    "plt.legend(fontsize = 'x-large')"
   ]
  },
  {
   "cell_type": "markdown",
   "metadata": {},
   "source": [
    "In this case, we can let $g$ be the pdf of Uniform(-1, 1) and $c = 2$, such that $f(x) \\le cg(x) = 1$ for all x."
   ]
  },
  {
   "cell_type": "code",
   "execution_count": null,
   "metadata": {},
   "outputs": [],
   "source": [
    "def random_triangle():\n",
    "    c = 2\n",
    "    while True:\n",
    "        U = np.random.uniform()\n",
    "        X = np.random.uniform(-1, 1)\n",
    "        if U * c * 0.5 <= (1 - abs(X)):\n",
    "            return X"
   ]
  },
  {
   "cell_type": "code",
   "execution_count": null,
   "metadata": {},
   "outputs": [],
   "source": [
    "triangle = [random_triangle() for i in range(5000)]\n",
    "plt.figure(figsize=(8,6))\n",
    "plt.hist(triangle, label=\"tringle distribution\", bins = 10)\n",
    "plt.legend(fontsize = 'x-large')"
   ]
  },
  {
   "cell_type": "markdown",
   "metadata": {},
   "source": [
    "### Remark\n",
    "\n",
    "In the above algorithms, other values of $c$ also works as long as $c\\ge 2$. However, since our accepting rule is accecpt when $U \\le f(X)/(cg(X))$. So, as $c$ gets larger and larger, the chance of accepting is lower and we will need more iterations until accept. \n",
    "\n",
    "So, the rule is to set $c$ to be\n",
    "\n",
    "$$c = sup_{x}\\frac{f(x)}{g(x)}.$$"
   ]
  },
  {
   "cell_type": "code",
   "execution_count": null,
   "metadata": {},
   "outputs": [],
   "source": [
    "def random_triangle2(c = 2):\n",
    "    itr = 0\n",
    "    while True:\n",
    "        U = np.random.uniform()\n",
    "        X = np.random.uniform(-1, 1)\n",
    "        if U * c * 0.5 <= (1 - abs(X)):\n",
    "            return X, itr\n",
    "        itr += 1"
   ]
  },
  {
   "cell_type": "code",
   "execution_count": null,
   "metadata": {},
   "outputs": [],
   "source": [
    "triangle2 = [random_triangle2()[1] for i in range(1000)] # c = 2\n",
    "triangle10 = [random_triangle2(c = 10)[1] for i in range(1000)] # c = 10\n",
    "\n",
    "print(\"Average number of iterations until accept when c = 2 is {}\".format(sum(triangle2)/len(triangle2)))\n",
    "print(\"Average number of iterations until accept when c = 10 is {}\".format(sum(triangle10)/len(triangle10)))"
   ]
  },
  {
   "cell_type": "markdown",
   "metadata": {},
   "source": [
    "### Example: Generating Normal random variable\n",
    "\n",
    "When using the rejection method, the domin of $f(x)$ and $g(x)$ should be the same.\n",
    "\n",
    "Suppose we would like to generate random variables from a standard normal distribution. We know if $X\\sim N(0,1)$, the density function $f(x)$ has the following form:\n",
    "\n",
    "$$f(x) = \\frac{1}{\\sqrt{2\\pi}}e^{-\\frac{x^2}{2}},\\ x\\in \\mathbb{R}.$$\n",
    "\n",
    "The distribution is symmetric and $x\\in \\mathbb{R}$. Since we know the Laplace distribution is also symmetric with support $\\mathbb{R}$, we can use it as the instrumental density to generate normal random variable.\n",
    "\n",
    "Since \n",
    "\n",
    "$$\\frac{1}{2}(|x|-1)^2 = \\frac{x^2}{2}+\\frac{1}{2}-|x|\\ge 0,$$\n",
    "\n",
    "$$\\frac{1}{\\sqrt{2\\pi}}e^{-\\frac{x^2}{2}}\\le \\frac{1}{\\sqrt{2\\pi}}e^{\\frac{1}{2}-|x|}= (\\sqrt{2e/\\pi})(1/2e^{-|x|}) = cg(x),$$\n",
    "\n",
    "where $g(x) = 1/2e^{-|x|}$ is the Laplace density and $c = \\sqrt{2e/\\pi}$.\n",
    "\n",
    "So, to generate standard normal random variable, we can use the following procedure:\n",
    "\n",
    "1. Generate $X$ from Laplace distribution and $U$ independently from $Uniform(0,1)$.\n",
    "   ($X$ can be created from $T\\sim Exp(1)$ and $V\\sim Uniform(0,1)$)\n",
    "3. \n",
    "    * return $X$ if $U \\frac{1}{\\sqrt{2\\pi}}e^{\\frac{1}{2}-|X|} \\le \\frac{1}{\\sqrt{2\\pi}}e^{-\\frac{X^2}{2}}$ (Can be simplified).\n",
    "    * else, go back to step 1."
   ]
  },
  {
   "cell_type": "code",
   "execution_count": null,
   "metadata": {},
   "outputs": [],
   "source": [
    "def random_normal(mu=0, sigma=1):\n",
    "    while True:\n",
    "        U = np.random.uniform()\n",
    "        X = random_Laplace()\n",
    "        if U * ((1/((2*np.pi)**0.5)) * np.exp(0.5 - abs(X))) <= ((1/((2*np.pi)**0.5)) * np.exp(-X**2 / 2)):\n",
    "            return sigma * X + mu"
   ]
  },
  {
   "cell_type": "code",
   "execution_count": null,
   "metadata": {},
   "outputs": [],
   "source": [
    "norm1 = [random_normal() for i in range(5000)]\n",
    "norm2 = np.random.normal(size = 5000)\n",
    "plt.figure(figsize=(10,8))\n",
    "plt.hist(norm1, alpha=0.5, label=\"data1\", bins=10)\n",
    "plt.hist(norm2, alpha=0.5, label=\"data2\", bins=10)\n",
    "plt.legend()"
   ]
  }
 ],
 "metadata": {
  "kernelspec": {
   "display_name": "Python 3 (ipykernel)",
   "language": "python",
   "name": "python3"
  },
  "language_info": {
   "codemirror_mode": {
    "name": "ipython",
    "version": 3
   },
   "file_extension": ".py",
   "mimetype": "text/x-python",
   "name": "python",
   "nbconvert_exporter": "python",
   "pygments_lexer": "ipython3",
   "version": "3.11.2"
  }
 },
 "nbformat": 4,
 "nbformat_minor": 4
}
