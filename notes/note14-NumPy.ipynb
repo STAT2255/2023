{
 "cells": [
  {
   "cell_type": "markdown",
   "metadata": {},
   "source": [
    "## NumPy Basics: Arrays and Vectorized Computation\n",
    "\n"
   ]
  },
  {
   "cell_type": "markdown",
   "metadata": {},
   "source": [
    "### Introduction\n",
    "\n"
   ]
  },
  {
   "cell_type": "markdown",
   "metadata": {},
   "source": [
    "NumPy, short for Numerical Python, is one of the most important\n",
    "foundational packages for numerical computing in Python. \n",
    "\n"
   ]
  },
  {
   "cell_type": "code",
   "execution_count": 1,
   "metadata": {},
   "outputs": [],
   "source": [
    "import numpy as np\n",
    "np.random.seed(2255)\n",
    "import matplotlib.pyplot as plt"
   ]
  },
  {
   "cell_type": "markdown",
   "metadata": {},
   "source": [
    "Here are some of the things in NumPy:\n",
    "\n",
    "-   ndarray, an efficient multidimensional array providing fast\n",
    "    array-oriented arithmetic operations and flexible *broadcasting*\n",
    "    capabilities;\n",
    "-   Mathematical functions for fast operations on entire arrays of data\n",
    "    without having to write loops;\n",
    "-   Tools for reading/writing array data to disk and working with\n",
    "    memory-mapped files;\n",
    "-   Linear algebra, random number generation, and Fourier transform\n",
    "    capabilities;\n",
    "-   A C API for connecting NumPy with libraries written in C, C++, or\n",
    "    FORTRAN.\n",
    "\n",
    "To see the performance difference, consider a NumPy array of one million integers, and the equivalent Python list\n",
    "\n"
   ]
  },
  {
   "cell_type": "code",
   "execution_count": 2,
   "metadata": {},
   "outputs": [],
   "source": [
    "my_arr = np.arange(1_000_000)\n",
    "my_list = list(range(1_000_000))"
   ]
  },
  {
   "cell_type": "markdown",
   "metadata": {},
   "source": [
    "Now let's multiply each sequence by 2:\n",
    "\n"
   ]
  },
  {
   "cell_type": "code",
   "execution_count": 3,
   "metadata": {},
   "outputs": [
    {
     "name": "stdout",
     "output_type": "stream",
     "text": [
      "0.0054929256439208984\n",
      "0.031707048416137695\n"
     ]
    }
   ],
   "source": [
    "import time\n",
    "\n",
    "start = time.time()\n",
    "my_arr2 = my_arr * 2 \n",
    "print(time.time() - start)\n",
    "\n",
    "start = time.time()\n",
    "my_list2 = [x * 2 for x in my_list]\n",
    "print(time.time() - start)"
   ]
  },
  {
   "cell_type": "markdown",
   "metadata": {},
   "source": [
    "NumPy-based algorithms are generally 10 to 100 times faster (or more)\n",
    "than their pure Python counterparts and use significantly less memory.\n",
    "\n"
   ]
  },
  {
   "cell_type": "markdown",
   "metadata": {},
   "source": [
    "### The NumPy ndarray: A Multidimensional Array"
   ]
  },
  {
   "cell_type": "markdown",
   "metadata": {},
   "source": [
    "One of the key features of NumPy is its N-dimensional array object, or\n",
    "ndarray, which is a fast, flexible container for large datasets in\n",
    "Python. Arrays enable you to perform mathematical operations on whole\n",
    "blocks of data using similar syntax to the equivalent operations between\n",
    "scalar elements.\n",
    "\n"
   ]
  },
  {
   "cell_type": "code",
   "execution_count": 4,
   "metadata": {},
   "outputs": [
    {
     "data": {
      "text/plain": [
       "array([[ 1.5, -0.1,  3. ],\n",
       "       [ 0. , -3. ,  6.5]])"
      ]
     },
     "execution_count": 4,
     "metadata": {},
     "output_type": "execute_result"
    }
   ],
   "source": [
    "data = np.array([[1.5, -0.1, 3], [0, -3, 6.5]])\n",
    "data"
   ]
  },
  {
   "cell_type": "markdown",
   "metadata": {},
   "source": [
    "Mathematical operations with `data`:\n",
    "\n"
   ]
  },
  {
   "cell_type": "code",
   "execution_count": 5,
   "metadata": {},
   "outputs": [
    {
     "data": {
      "text/plain": [
       "[[1.5, -0.1, 3], [0, -3, 6.5]]"
      ]
     },
     "execution_count": 5,
     "metadata": {},
     "output_type": "execute_result"
    }
   ],
   "source": [
    "L = [[1.5, -0.1, 3], [0, -3, 6.5]]\n",
    "L"
   ]
  },
  {
   "cell_type": "code",
   "execution_count": 6,
   "metadata": {},
   "outputs": [
    {
     "data": {
      "text/plain": [
       "[[1.5, -0.1, 3], [0, -3, 6.5], [1.5, -0.1, 3], [0, -3, 6.5]]"
      ]
     },
     "execution_count": 6,
     "metadata": {},
     "output_type": "execute_result"
    }
   ],
   "source": [
    "L * 2"
   ]
  },
  {
   "cell_type": "code",
   "execution_count": 7,
   "metadata": {},
   "outputs": [
    {
     "data": {
      "text/plain": [
       "array([[ 15.,  -1.,  30.],\n",
       "       [  0., -30.,  65.]])"
      ]
     },
     "execution_count": 7,
     "metadata": {},
     "output_type": "execute_result"
    }
   ],
   "source": [
    "data * 10"
   ]
  },
  {
   "cell_type": "code",
   "execution_count": 8,
   "metadata": {},
   "outputs": [
    {
     "data": {
      "text/plain": [
       "array([[ 3. , -0.2,  6. ],\n",
       "       [ 0. , -6. , 13. ]])"
      ]
     },
     "execution_count": 8,
     "metadata": {},
     "output_type": "execute_result"
    }
   ],
   "source": [
    "data + data"
   ]
  },
  {
   "cell_type": "code",
   "execution_count": 9,
   "metadata": {},
   "outputs": [
    {
     "data": {
      "text/plain": [
       "[[1.5, -0.1, 3], [0, -3, 6.5], [1.5, -0.1, 3], [0, -3, 6.5]]"
      ]
     },
     "execution_count": 9,
     "metadata": {},
     "output_type": "execute_result"
    }
   ],
   "source": [
    "L + L"
   ]
  },
  {
   "cell_type": "markdown",
   "metadata": {},
   "source": [
    "-   An ndarray is a generic multidimensional container for homogeneous data; that is, all of the elements must be the same type.\n",
    "-   Every array has a `shape`, a tuple indicating the size of each dimension, and a `dtype`, an object describing the *data type* of the array:\n",
    "\n"
   ]
  },
  {
   "cell_type": "code",
   "execution_count": 10,
   "metadata": {},
   "outputs": [
    {
     "data": {
      "text/plain": [
       "(2, 3)"
      ]
     },
     "execution_count": 10,
     "metadata": {},
     "output_type": "execute_result"
    }
   ],
   "source": [
    "data.shape"
   ]
  },
  {
   "cell_type": "code",
   "execution_count": 11,
   "metadata": {},
   "outputs": [
    {
     "data": {
      "text/plain": [
       "dtype('float64')"
      ]
     },
     "execution_count": 11,
     "metadata": {},
     "output_type": "execute_result"
    }
   ],
   "source": [
    "data.dtype"
   ]
  },
  {
   "cell_type": "markdown",
   "metadata": {},
   "source": [
    "#### Creating\n",
    "\n"
   ]
  },
  {
   "cell_type": "markdown",
   "metadata": {},
   "source": [
    "The easiest way to create an array is to use the `array` function. This\n",
    "accepts any sequence-like object (including other arrays) and produces a\n",
    "new NumPy array containing the passed data. For example, a list is a\n",
    "good candidate for conversion:\n",
    "\n"
   ]
  },
  {
   "cell_type": "code",
   "execution_count": 12,
   "metadata": {},
   "outputs": [
    {
     "data": {
      "text/plain": [
       "array([6. , 7.5, 8. , 0. , 1. ])"
      ]
     },
     "execution_count": 12,
     "metadata": {},
     "output_type": "execute_result"
    }
   ],
   "source": [
    "data1 = [6, 7.5, 8, 0, 1]\n",
    "arr1 = np.array(data1)\n",
    "arr1"
   ]
  },
  {
   "cell_type": "markdown",
   "metadata": {},
   "source": [
    "Nested sequences, like a list of equal-length lists, will be converted\n",
    "into a multidimensional array:\n",
    "\n"
   ]
  },
  {
   "cell_type": "code",
   "execution_count": 13,
   "metadata": {},
   "outputs": [
    {
     "data": {
      "text/plain": [
       "array([[1, 2, 3, 4],\n",
       "       [5, 6, 7, 8]])"
      ]
     },
     "execution_count": 13,
     "metadata": {},
     "output_type": "execute_result"
    }
   ],
   "source": [
    "data2 = [[1, 2, 3, 4], [5, 6, 7, 8]]\n",
    "arr2 = np.array(data2)\n",
    "arr2"
   ]
  },
  {
   "cell_type": "markdown",
   "metadata": {},
   "source": [
    "Since `data2` was a list of lists, the NumPy array `arr2` has two\n",
    "dimensions, with shape inferred from the data. We can confirm this by\n",
    "inspecting the `ndim` and `shape` attributes:\n",
    "\n"
   ]
  },
  {
   "cell_type": "code",
   "execution_count": 14,
   "metadata": {},
   "outputs": [
    {
     "data": {
      "text/plain": [
       "2"
      ]
     },
     "execution_count": 14,
     "metadata": {},
     "output_type": "execute_result"
    }
   ],
   "source": [
    "arr2.ndim"
   ]
  },
  {
   "cell_type": "code",
   "execution_count": 15,
   "metadata": {},
   "outputs": [
    {
     "data": {
      "text/plain": [
       "(2, 4)"
      ]
     },
     "execution_count": 15,
     "metadata": {},
     "output_type": "execute_result"
    }
   ],
   "source": [
    "arr2.shape"
   ]
  },
  {
   "cell_type": "markdown",
   "metadata": {},
   "source": [
    "Unless explicitly specified, `numpy.array` tries to infer a good data type for the array\n",
    "that it creates. The data type is stored in a special `dtype` metadata\n",
    "object; for example, in the previous two examples we have:\n",
    "\n"
   ]
  },
  {
   "cell_type": "code",
   "execution_count": 16,
   "metadata": {},
   "outputs": [
    {
     "data": {
      "text/plain": [
       "dtype('float64')"
      ]
     },
     "execution_count": 16,
     "metadata": {},
     "output_type": "execute_result"
    }
   ],
   "source": [
    "arr1.dtype"
   ]
  },
  {
   "cell_type": "code",
   "execution_count": 17,
   "metadata": {},
   "outputs": [
    {
     "data": {
      "text/plain": [
       "dtype('int64')"
      ]
     },
     "execution_count": 17,
     "metadata": {},
     "output_type": "execute_result"
    }
   ],
   "source": [
    "arr2.dtype"
   ]
  },
  {
   "cell_type": "markdown",
   "metadata": {},
   "source": [
    "In addition to `numpy.array`, there are a number of other functions for\n",
    "creating new arrays. As examples, `numpy.zeros` and `numpy.ones` create\n",
    "arrays of 0s or 1s, respectively, with a given length or shape.\n",
    "`numpy.empty` creates an array without initializing its values to any\n",
    "particular value. To create a higher dimensional array with these\n",
    "methods, pass a tuple for the shape:\n",
    "\n"
   ]
  },
  {
   "cell_type": "code",
   "execution_count": 18,
   "metadata": {},
   "outputs": [
    {
     "data": {
      "text/plain": [
       "array([0., 0., 0., 0., 0., 0., 0., 0., 0., 0.])"
      ]
     },
     "execution_count": 18,
     "metadata": {},
     "output_type": "execute_result"
    }
   ],
   "source": [
    "np.zeros(10)"
   ]
  },
  {
   "cell_type": "code",
   "execution_count": 19,
   "metadata": {},
   "outputs": [
    {
     "data": {
      "text/plain": [
       "array([[0., 0., 0., 0., 0., 0.],\n",
       "       [0., 0., 0., 0., 0., 0.],\n",
       "       [0., 0., 0., 0., 0., 0.]])"
      ]
     },
     "execution_count": 19,
     "metadata": {},
     "output_type": "execute_result"
    }
   ],
   "source": [
    "np.zeros((3, 6))"
   ]
  },
  {
   "cell_type": "code",
   "execution_count": 20,
   "metadata": {},
   "outputs": [
    {
     "data": {
      "text/plain": [
       "array([[0., 0., 0., 0., 0., 0.],\n",
       "       [0., 0., 0., 0., 0., 0.],\n",
       "       [0., 0., 0., 0., 0., 0.]])"
      ]
     },
     "execution_count": 20,
     "metadata": {},
     "output_type": "execute_result"
    }
   ],
   "source": [
    "np.empty((3, 6))"
   ]
  },
  {
   "cell_type": "code",
   "execution_count": 21,
   "metadata": {},
   "outputs": [
    {
     "data": {
      "text/plain": [
       "array([[[0.00000000e+000, 2.45246866e-314, 0.00000000e+000,\n",
       "         2.12199582e-314, 0.00000000e+000, 0.00000000e+000,\n",
       "         2.45246864e-314, 2.45246865e-314, 2.12199580e-314,\n",
       "         0.00000000e+000, 3.95252517e-323, 2.12199579e-314,\n",
       "         1.90979621e-313, 0.00000000e+000, 0.00000000e+000,\n",
       "         2.17536845e-314, 2.12199579e-314, 2.14491815e-314,\n",
       "         2.26083638e-314, 1.48539705e-313, 2.76676762e-322,\n",
       "         0.00000000e+000, 2.26083638e-314, 2.12199579e-314,\n",
       "         2.14491816e-314, 2.26083638e-314, 6.36598737e-314,\n",
       "         5.53353523e-322, 0.00000000e+000, 4.24399158e-314,\n",
       "         2.12199579e-314, 2.14491818e-314, 2.26083638e-314,\n",
       "         1.90979621e-313, 8.30030285e-322, 3.95252517e-323,\n",
       "         6.01346953e-154, 2.12199579e-314, 2.14491819e-314,\n",
       "         2.26083638e-314, 1.90979621e-313, 1.10670705e-321,\n",
       "         7.35952325e+223, 9.28601695e+242, 6.36598738e-314,\n",
       "         2.14491823e-314, 2.26083638e-314, 1.90979621e-313,\n",
       "         1.38338381e-321, 5.92878775e-323, 6.09123342e+247,\n",
       "         6.36598738e-314, 2.14491823e-314, 2.26083639e-314,\n",
       "         2.33419537e-313, 1.66006057e-321, 1.36730157e+161,\n",
       "         2.91127322e-152, 5.28757355e+180, 2.14491824e-314,\n",
       "         1.69374414e+190, 0.00000000e+000, 0.00000000e+000,\n",
       "         0.00000000e+000, 7.08519404e+194, 1.73302464e+156,\n",
       "         6.98107090e+194, 4.89567108e-109, 8.12490488e-138,\n",
       "         6.01346953e-154],\n",
       "        [9.92132508e+247, 1.67709717e+243, 2.19993033e-152,\n",
       "         7.27378071e+175, 3.99550968e+252, 6.77407710e-109,\n",
       "         7.10699714e+159, 4.24817646e+180, 1.69338238e-152,\n",
       "         5.28757355e+180, 7.20881796e+159, 1.69374414e+190,\n",
       "         1.55456200e+155, 6.01347002e-154, 2.30666090e+155,\n",
       "         7.08519663e+194, 1.72976619e+156, 6.98107090e+194,\n",
       "         4.89567108e-109, 7.10699714e+159, 3.03694606e-314,\n",
       "         2.64522411e+185, 3.48319726e+228, 2.30517144e+161,\n",
       "         5.02065932e+276, 1.45889350e-152, 1.62198176e-118,\n",
       "         6.01346953e-154, 1.02359996e-259, 4.95239000e+223,\n",
       "         7.34065997e+223, 2.64521041e+185, 3.48319726e+228,\n",
       "         1.02703819e+160, 1.73273897e+156, 6.01347002e-154,\n",
       "         1.07246847e-090, 1.55142268e+155, 2.52720684e-110,\n",
       "         2.90435030e-144, 9.03239274e+271, 2.91183471e-014,\n",
       "         6.01347002e-154, 3.64609883e+175, 2.46479439e-154,\n",
       "         2.41079391e+198, 8.78422049e+247, 2.51968629e+180,\n",
       "         1.28512389e+248, 1.42800645e+248, 6.01347002e-154,\n",
       "         2.62613920e-144, 4.61013971e+169, 4.19316934e+228,\n",
       "         5.47820448e+241, 7.29494495e+175, 1.05019323e-153,\n",
       "         8.26793700e+140, 1.02277481e-259, 5.98147367e-154,\n",
       "         2.44525576e-154, 5.37625007e+241, 2.90329042e-144,\n",
       "         2.02016149e+180, 4.14112187e-114, 4.19316954e+228,\n",
       "         2.46003691e+198, 2.56710277e+161, 1.75713487e+243,\n",
       "         5.48800912e+247],\n",
       "        [5.09832895e-109, 2.43906467e-154, 2.65648959e+233,\n",
       "         7.51303797e+252, 6.01334542e-154, 4.91347426e+252,\n",
       "         2.65575841e-260, 3.23145142e+209, 1.29804743e+184,\n",
       "         9.15627920e+242, 9.40398277e+077, 9.75361764e+199,\n",
       "         6.01346953e-154, 4.25932742e+180, 1.81786184e+185,\n",
       "         2.26723914e+161, 9.75384927e+199, 2.04748745e+161,\n",
       "         1.02188685e-152, 9.08367206e+223, 1.84862620e-258,\n",
       "         9.45312994e+218, 1.33856863e-152, 1.35507324e+248,\n",
       "         8.53445029e+088, 9.81577023e-153, 5.33808743e+184,\n",
       "         4.03235650e+175, 1.69337696e-152, 4.76660077e+180,\n",
       "         7.63910737e-095, 3.17095803e+180, 4.19334302e+228,\n",
       "         1.21696636e-152, 5.70727135e+188, 1.23762450e+224,\n",
       "         5.98742052e+247, 4.82408859e+228, 3.52054409e+257,\n",
       "         5.98189662e-154, 2.19529486e-152, 3.55760866e+180,\n",
       "         7.26613223e+223, 5.97697613e+194, 1.19490107e+190,\n",
       "         1.67182248e+243, 1.89134139e+219, 1.95335796e+233,\n",
       "         4.44025857e+252, 3.55760872e+180, 1.77835452e-313,\n",
       "         1.68676795e+155, 2.45246880e-314, 2.45246881e-314,\n",
       "         2.45246881e-314, 2.26724745e+161, 0.00000000e+000,\n",
       "         0.00000000e+000, 2.45246880e-314, 2.45246881e-314,\n",
       "         2.66055282e-260, 0.00000000e+000, 3.95252517e-323,\n",
       "         3.17095778e+180, 7.62870734e+228, 3.68777421e+180,\n",
       "         1.99552173e+161, 1.28512416e+248, 6.19633416e+223,\n",
       "         3.30260319e+185]],\n",
       "\n",
       "       [[8.82893851e+199, 2.42768534e-154, 3.67857957e+193,\n",
       "         2.32160960e-152, 5.56443724e+193, 1.41133817e+131,\n",
       "         2.34699608e-085, 1.28515829e+248, 9.08367206e+223,\n",
       "         6.93455051e+218, 1.06112833e-153, 6.01334503e-154,\n",
       "         9.04725102e+271, 5.45990143e+257, 7.90005898e-114,\n",
       "         6.01346953e-154, 6.01347002e-154, 6.72321456e-067,\n",
       "         7.02746952e-077, 1.11814370e-258, 6.01347002e-154,\n",
       "         1.92547445e-110, 6.01347002e-154, 2.37271403e+267,\n",
       "         2.19137140e+228, 1.71796322e+161, 1.95335796e+233,\n",
       "         4.44025857e+252, 3.55760872e+180, 8.77860981e+252,\n",
       "         4.89565504e-109, 6.01347002e-154, 2.37271403e+267,\n",
       "         1.62596747e-086, 4.98517316e+151, 4.48407644e-120,\n",
       "         6.01347002e-154, 8.06713410e+276, 1.38518781e+219,\n",
       "         3.73650230e+193, 6.01334637e-154, 6.01347002e-154,\n",
       "         2.42766105e-154, 0.00000000e+000, 0.00000000e+000,\n",
       "         0.00000000e+000, 9.30265340e+242, 4.76763682e+228,\n",
       "         4.97492697e+151, 5.93734805e-085, 1.02280725e-259,\n",
       "         6.01347002e-154, 3.02878210e-086, 1.95335796e+233,\n",
       "         4.44025857e+252, 2.32500674e-086, 5.45956224e+257,\n",
       "         7.90005898e-114, 6.01346953e-154, 6.01347002e-154,\n",
       "         2.35566768e+251, 5.29874900e+180, 2.28676494e+243,\n",
       "         6.97302581e+252, 2.64279682e+180, 4.71650772e+257,\n",
       "         1.14302844e+243, 8.88254272e+247, 1.33856862e-152,\n",
       "         6.01334651e-154],\n",
       "        [6.01347002e-154, 2.42766105e-154, 3.05140914e-314,\n",
       "         6.01334412e-154, 1.20735547e-153, 1.20386476e+161,\n",
       "         7.07286685e-077, 6.01334628e-154, 7.65733063e-096,\n",
       "         9.45685031e-096, 1.89240869e-052, 2.42312574e-314,\n",
       "         2.67921025e-260, 6.01347002e-154, 4.63621749e+175,\n",
       "         7.22594635e+159, 2.46090682e-154, 8.94213159e+130,\n",
       "         1.10749975e+054, 5.45461896e-096, 1.04989570e-153,\n",
       "         8.53487301e+073, 2.42773502e-154, 2.91447100e+222,\n",
       "         1.46923443e+195, 1.14448785e+243, 2.20274360e-152,\n",
       "         5.29877244e+180, 1.27639726e-152, 1.49873221e+248,\n",
       "         2.19528216e-152, 2.31647114e-152, 2.83905250e+275,\n",
       "         6.01346953e-154, 1.42865655e+228, 3.15474963e+180,\n",
       "         2.19529491e-152, 1.51697745e+020, 6.20428116e+223,\n",
       "         4.25666130e+034, 2.32207757e-152, 3.53193633e+010,\n",
       "         2.68087414e+092, 2.38094731e+228, 6.01334619e-154,\n",
       "         5.98129732e-154, 2.26725044e+161, 2.31596012e+251,\n",
       "         6.01347002e-154, 2.28896110e+243, 3.94527706e-114,\n",
       "         1.14782396e+160, 1.67494805e+243, 7.26611034e+223,\n",
       "         6.01334435e-154, 2.13505872e+161, 4.90363004e+252,\n",
       "         1.23763157e+224, 2.13505411e+161, 5.62939547e+188,\n",
       "         1.29847780e+184, 2.54778658e+151, 9.88131292e-324,\n",
       "         2.17249460e-314, 6.01346930e-154, 2.45246864e-314,\n",
       "         3.32221624e+257, 0.00000000e+000, 0.00000000e+000,\n",
       "         0.00000000e+000],\n",
       "        [2.45246864e-314, 2.45246864e-314, 0.00000000e+000,\n",
       "         0.00000000e+000, 0.00000000e+000, 2.42004332e+252,\n",
       "         7.62873628e+228, 2.16054957e+185, 5.32287851e+222,\n",
       "         2.64520133e+185, 2.19529312e-152, 1.42853560e+248,\n",
       "         5.98189082e-154, 2.58634340e+161, 4.17309436e+199,\n",
       "         4.81433253e+199, 1.10639505e+200, 4.23969182e+175,\n",
       "         9.69724030e+189, 5.98150397e-154, 5.98143388e-154,\n",
       "         2.11777553e+161, 2.19343341e-152, 3.11494540e+150,\n",
       "         3.80985851e+180, 5.24860599e+170, 1.36621098e+161,\n",
       "         1.02768314e+248, 6.01346953e-154, 2.45183991e+198,\n",
       "         9.17244453e+170, 9.36388643e+077, 1.78168980e-313,\n",
       "         4.95237179e+223, 0.00000000e+000, 2.71736105e-322,\n",
       "         0.00000000e+000, 2.12199582e-314, 0.00000000e+000,\n",
       "         5.08887615e-322, 0.00000000e+000, 0.00000000e+000,\n",
       "         2.12199579e-314, 4.45619116e-313, 4.94065646e-322,\n",
       "         0.00000000e+000, 0.00000000e+000, 2.12199579e-314,\n",
       "         4.45619116e-313, 2.12199587e-314, 0.00000000e+000,\n",
       "         0.00000000e+000, 2.12199579e-314, 4.45619116e-313,\n",
       "         5.08887615e-322, 0.00000000e+000, 0.00000000e+000,\n",
       "         2.12199579e-314, 7.42698527e-313, 2.12199584e-314,\n",
       "         0.00000000e+000, 0.00000000e+000, 2.12199579e-314,\n",
       "         7.42698527e-313, 2.12199587e-314, 0.00000000e+000,\n",
       "         0.00000000e+000, 2.12199579e-314, 7.42698527e-313,\n",
       "         4.24399163e-314]]])"
      ]
     },
     "execution_count": 21,
     "metadata": {},
     "output_type": "execute_result"
    }
   ],
   "source": [
    "np.empty((2, 3, 70))"
   ]
  },
  {
   "cell_type": "markdown",
   "metadata": {},
   "source": [
    "It's not safe to assume that `numpy.empty` will return an array of all\n",
    "zeros. This function returns uninitialized memory and thus may contain\n",
    "nonzero \"garbage\" values. You should use this function only if you\n",
    "intend to populate the new array with data.\n",
    "\n",
    "`numpy.arange` is an array-valued version of the built-in Python `range`\n",
    "function:\n",
    "\n"
   ]
  },
  {
   "cell_type": "code",
   "execution_count": 22,
   "metadata": {},
   "outputs": [
    {
     "data": {
      "text/plain": [
       "array([ 0,  1,  2,  3,  4,  5,  6,  7,  8,  9, 10, 11, 12, 13, 14])"
      ]
     },
     "execution_count": 22,
     "metadata": {},
     "output_type": "execute_result"
    }
   ],
   "source": [
    "np.arange(15)"
   ]
  },
  {
   "cell_type": "markdown",
   "metadata": {},
   "source": [
    "Here is a short list of standard array creation functions. Since NumPy is\n",
    "focused on numerical computing, the data type, if not specified, will in\n",
    "many cases be `float64` (floating point).\n",
    "\n",
    "\n",
    "| Function|Description|\n",
    "|---|---|\n",
    "| <code>array</code>|Convert input data (list, tuple, array, or other sequence type) to an ndarray either by inferring a data type or explicitly specifying a data type; copies the input data by default|\n",
    "| <code>asarray</code>|Convert input to ndarray, but do not copy if the input is already an ndarray|\n",
    "| <code>arange</code>|Like the built-in <code>range</code> but returns an ndarray instead of a list|\n",
    "| <code>ones, ones_like</code>|Produce an array of all 1s with the given shape and data type; <code>ones_like</code> takes another array and produces a <code>ones</code> array of the same shape and data type|\n",
    "| <code>zeros, zeros_like</code>|Like <code>ones</code> and <code>ones_like</code> but producing arrays of 0s instead|\n",
    "| <code>empty, empty_like</code>|Create new arrays by allocating new memory, but do not populate with any values like <code>ones</code> and <code>zeros</code>|\n",
    "| <code>full, full_like</code>|Produce an array of the given shape and data type with all values set to the indicated \"fill value\"; <code>full_like</code> takes another array and produces a filled array of the same shape and data type|\n",
    "| <code>eye, identity</code>|Create a square N × N identity matrix (1s on the diagonal and 0s elsewhere)|\n",
    "\n"
   ]
  },
  {
   "cell_type": "markdown",
   "metadata": {},
   "source": [
    "#### Data Types"
   ]
  },
  {
   "cell_type": "markdown",
   "metadata": {},
   "source": [
    "The *data type* or `dtype` is a special object containing the\n",
    "information (or *metadata*, data about data) the ndarray needs to\n",
    "interpret a chunk of memory as a particular type of data:\n",
    "\n"
   ]
  },
  {
   "cell_type": "code",
   "execution_count": 25,
   "metadata": {},
   "outputs": [
    {
     "data": {
      "text/plain": [
       "(dtype('float64'), dtype('int32'))"
      ]
     },
     "execution_count": 25,
     "metadata": {},
     "output_type": "execute_result"
    }
   ],
   "source": [
    "arr1 = np.array([1, 2, 3], dtype=np.float64)\n",
    "arr2 = np.array([1, 2, 3], dtype=np.int32)\n",
    "arr1.dtype, arr2.dtype"
   ]
  },
  {
   "cell_type": "markdown",
   "metadata": {},
   "source": [
    "Data types are a source of NumPy's flexibility for interacting with data\n",
    "coming from other systems. In most cases they provide a mapping directly\n",
    "onto an underlying disk or memory representation, which makes it\n",
    "possible to read and write binary streams of data to disk and to connect\n",
    "to code written in a low-level language like C or FORTRAN. The numerical\n",
    "data types are named the same way: a type name, like `float` or `int`,\n",
    "followed by a number indicating the number of bits per element. A\n",
    "standard double-precision floating-point value (what's used under the\n",
    "hood in Python's `float` object) takes up 8 bytes or 64 bits. Thus, this\n",
    "type is known in NumPy as `float64`.\n",
    "\n",
    "Here is a full listing of NumPy's supported data types.\n",
    "\n",
    "\n",
    "| Type|Type code|Description|\n",
    "|---|---|---|\n",
    "| <code>int8, uint8</code>|<code>i1, u1</code>|Signed and unsigned 8-bit (1 byte) integer types|\n",
    "| <code>int16, uint16</code>|<code>i2, u2</code>|Signed and unsigned 16-bit integer types|\n",
    "| <code>int32, uint32</code>|<code>i4, u4</code>|Signed and unsigned 32-bit integer types|\n",
    "| <code>int64, uint64</code>|<code>i8, u8</code>|Signed and unsigned 64-bit integer types|\n",
    "| <code>float16</code>|<code>f2</code>|Half-precision floating point|\n",
    "| <code>float32</code>|<code>f4 or f</code>|Standard single-precision floating point; compatible with C float|\n",
    "| <code>float64</code>|<code>f8 or d</code>|Standard double-precision floating point; compatible with C double and Python <code>float</code> object|\n",
    "| <code>float128</code>|<code>f16 or g</code>|Extended-precision floating point|\n",
    "| <code>complex64</code>, <code>complex128</code>, <code>complex256</code>|<code>c8, c16, c32</code>|Complex numbers represented by two 32, 64, or 128 floats, respectively|\n",
    "| <code>bool</code>|?|Boolean type storing <code>True</code> and <code>False</code> values|\n",
    "| <code>object</code>|O|Python object type; a value can be any Python object|\n",
    "| <code>string_</code>|S|Fixed-length ASCII string type (1 byte per character); for example, to create a string data type with length 10, use <code>'S10'</code>|\n",
    "| <code>unicode_</code>|U|Fixed-length Unicode type (number of bytes platform specific); same specification semantics as <code>string_</code> (e.g., <code>'U10'</code>)|\n",
    "\n",
    "You can explicitly convert or *cast* an array from one data type to\n",
    "another using ndarray's `astype` method:\n",
    "\n"
   ]
  },
  {
   "cell_type": "code",
   "execution_count": 26,
   "metadata": {},
   "outputs": [
    {
     "data": {
      "text/plain": [
       "dtype('int64')"
      ]
     },
     "execution_count": 26,
     "metadata": {},
     "output_type": "execute_result"
    }
   ],
   "source": [
    "arr = np.array([1, 2, 3, 4, 5])\n",
    "arr.dtype"
   ]
  },
  {
   "cell_type": "code",
   "execution_count": 27,
   "metadata": {},
   "outputs": [
    {
     "data": {
      "text/plain": [
       "array([1., 2., 3., 4., 5.])"
      ]
     },
     "execution_count": 27,
     "metadata": {},
     "output_type": "execute_result"
    }
   ],
   "source": [
    "float_arr = arr.astype(np.float64)\n",
    "float_arr"
   ]
  },
  {
   "cell_type": "code",
   "execution_count": 28,
   "metadata": {},
   "outputs": [
    {
     "data": {
      "text/plain": [
       "dtype('float64')"
      ]
     },
     "execution_count": 28,
     "metadata": {},
     "output_type": "execute_result"
    }
   ],
   "source": [
    "float_arr.dtype"
   ]
  },
  {
   "cell_type": "code",
   "execution_count": 29,
   "metadata": {},
   "outputs": [
    {
     "data": {
      "text/plain": [
       "array([ 3.7, -1.2, -2.6,  0.5, 12.9, 10.1])"
      ]
     },
     "execution_count": 29,
     "metadata": {},
     "output_type": "execute_result"
    }
   ],
   "source": [
    "arr = np.array([3.7, -1.2, -2.6, 0.5, 12.9, 10.1])\n",
    "arr"
   ]
  },
  {
   "cell_type": "code",
   "execution_count": 30,
   "metadata": {},
   "outputs": [
    {
     "data": {
      "text/plain": [
       "array([ 3, -1, -2,  0, 12, 10], dtype=int32)"
      ]
     },
     "execution_count": 30,
     "metadata": {},
     "output_type": "execute_result"
    }
   ],
   "source": [
    "arr.astype(np.int32)"
   ]
  },
  {
   "cell_type": "markdown",
   "metadata": {},
   "source": [
    "If you have an array of strings representing numbers, you can use\n",
    "`astype` to convert them to numeric form:\n",
    "\n"
   ]
  },
  {
   "cell_type": "code",
   "execution_count": 31,
   "metadata": {},
   "outputs": [
    {
     "data": {
      "text/plain": [
       "array([b'1.25', b'-9.6', b'42'], dtype='|S4')"
      ]
     },
     "execution_count": 31,
     "metadata": {},
     "output_type": "execute_result"
    }
   ],
   "source": [
    "numeric_strings = np.array([\"1.25\", \"-9.6\", \"42\"], dtype=np.string_)\n",
    "numeric_strings"
   ]
  },
  {
   "cell_type": "code",
   "execution_count": 32,
   "metadata": {},
   "outputs": [
    {
     "data": {
      "text/plain": [
       "array([ 1.25, -9.6 , 42.  ])"
      ]
     },
     "execution_count": 32,
     "metadata": {},
     "output_type": "execute_result"
    }
   ],
   "source": [
    "numeric_strings.astype(float)"
   ]
  },
  {
   "cell_type": "markdown",
   "metadata": {},
   "source": [
    "Be cautious when using the `numpy.string_` type, as string data in NumPy\n",
    "is fixed size and may truncate input without warning. pandas has more\n",
    "intuitive out-of-the-box behavior on non-numeric data.\n",
    "\n",
    "You can also use another array's `dtype` attribute:\n",
    "\n"
   ]
  },
  {
   "cell_type": "code",
   "execution_count": 36,
   "metadata": {},
   "outputs": [
    {
     "data": {
      "text/plain": [
       "array([0, 1, 2, 3, 4, 5, 6, 7, 8, 9])"
      ]
     },
     "execution_count": 36,
     "metadata": {},
     "output_type": "execute_result"
    }
   ],
   "source": [
    "int_array = np.arange(10)\n",
    "int_array"
   ]
  },
  {
   "cell_type": "code",
   "execution_count": 34,
   "metadata": {},
   "outputs": [
    {
     "data": {
      "text/plain": [
       "array([0.22 , 0.27 , 0.357, 0.38 , 0.44 , 0.5  ])"
      ]
     },
     "execution_count": 34,
     "metadata": {},
     "output_type": "execute_result"
    }
   ],
   "source": [
    "calibers = np.array([.22, .270, .357, .380, .44, .50], dtype=np.float64)\n",
    "calibers"
   ]
  },
  {
   "cell_type": "code",
   "execution_count": 37,
   "metadata": {},
   "outputs": [
    {
     "data": {
      "text/plain": [
       "array([0., 1., 2., 3., 4., 5., 6., 7., 8., 9.])"
      ]
     },
     "execution_count": 37,
     "metadata": {},
     "output_type": "execute_result"
    }
   ],
   "source": [
    "int_array.astype(calibers.dtype)"
   ]
  },
  {
   "cell_type": "code",
   "execution_count": 38,
   "metadata": {},
   "outputs": [
    {
     "data": {
      "text/plain": [
       "dtype('float64')"
      ]
     },
     "execution_count": 38,
     "metadata": {},
     "output_type": "execute_result"
    }
   ],
   "source": [
    "calibers.dtype"
   ]
  },
  {
   "cell_type": "markdown",
   "metadata": {},
   "source": [
    "#### Arithmetic with NumPy\n",
    "\n"
   ]
  },
  {
   "cell_type": "markdown",
   "metadata": {},
   "source": [
    "Arrays are important because they enable you to express batch operations\n",
    "on data without writing any `for` loops. NumPy users call this\n",
    "*vectorization*. Any arithmetic operations between equal-size arrays\n",
    "apply the operation element-wise:\n",
    "\n"
   ]
  },
  {
   "cell_type": "code",
   "execution_count": 39,
   "metadata": {},
   "outputs": [
    {
     "data": {
      "text/plain": [
       "array([[1., 2., 3.],\n",
       "       [4., 5., 6.]])"
      ]
     },
     "execution_count": 39,
     "metadata": {},
     "output_type": "execute_result"
    }
   ],
   "source": [
    "arr = np.array([[1., 2., 3.], [4., 5., 6.]])\n",
    "arr"
   ]
  },
  {
   "cell_type": "code",
   "execution_count": 40,
   "metadata": {},
   "outputs": [
    {
     "data": {
      "text/plain": [
       "array([[ 1.,  4.,  9.],\n",
       "       [16., 25., 36.]])"
      ]
     },
     "execution_count": 40,
     "metadata": {},
     "output_type": "execute_result"
    }
   ],
   "source": [
    "arr * arr"
   ]
  },
  {
   "cell_type": "code",
   "execution_count": 41,
   "metadata": {},
   "outputs": [
    {
     "data": {
      "text/plain": [
       "array([[0., 0., 0.],\n",
       "       [0., 0., 0.]])"
      ]
     },
     "execution_count": 41,
     "metadata": {},
     "output_type": "execute_result"
    }
   ],
   "source": [
    "arr - arr"
   ]
  },
  {
   "cell_type": "markdown",
   "metadata": {},
   "source": [
    "Arithmetic operations with scalars propagate the scalar argument to each\n",
    "element in the array:\n",
    "\n"
   ]
  },
  {
   "cell_type": "code",
   "execution_count": 42,
   "metadata": {},
   "outputs": [
    {
     "data": {
      "text/plain": [
       "array([[1.        , 0.5       , 0.33333333],\n",
       "       [0.25      , 0.2       , 0.16666667]])"
      ]
     },
     "execution_count": 42,
     "metadata": {},
     "output_type": "execute_result"
    }
   ],
   "source": [
    "1 / arr"
   ]
  },
  {
   "cell_type": "code",
   "execution_count": 43,
   "metadata": {},
   "outputs": [
    {
     "data": {
      "text/plain": [
       "array([[ 1.,  4.,  9.],\n",
       "       [16., 25., 36.]])"
      ]
     },
     "execution_count": 43,
     "metadata": {},
     "output_type": "execute_result"
    }
   ],
   "source": [
    "arr ** 2"
   ]
  },
  {
   "cell_type": "markdown",
   "metadata": {},
   "source": [
    "Comparisons between arrays of the same size yield Boolean arrays:\n",
    "\n"
   ]
  },
  {
   "cell_type": "code",
   "execution_count": 44,
   "metadata": {},
   "outputs": [
    {
     "data": {
      "text/plain": [
       "array([[ 0.,  4.,  1.],\n",
       "       [ 7.,  2., 12.]])"
      ]
     },
     "execution_count": 44,
     "metadata": {},
     "output_type": "execute_result"
    }
   ],
   "source": [
    "arr2 = np.array([[0., 4., 1.], [7., 2., 12.]])\n",
    "arr2"
   ]
  },
  {
   "cell_type": "code",
   "execution_count": 45,
   "metadata": {},
   "outputs": [
    {
     "data": {
      "text/plain": [
       "array([[False,  True, False],\n",
       "       [ True, False,  True]])"
      ]
     },
     "execution_count": 45,
     "metadata": {},
     "output_type": "execute_result"
    }
   ],
   "source": [
    "arr2 > arr"
   ]
  },
  {
   "cell_type": "markdown",
   "metadata": {},
   "source": [
    "#### Basic Indexing and slicing"
   ]
  },
  {
   "cell_type": "markdown",
   "metadata": {},
   "source": [
    "NumPy array indexing is a deep topic, as there are many ways you may\n",
    "want to select a subset of your data or individual elements.\n",
    "One-dimensional arrays are simple; on the surface they act similarly to\n",
    "Python lists:\n",
    "\n"
   ]
  },
  {
   "cell_type": "code",
   "execution_count": 46,
   "metadata": {},
   "outputs": [
    {
     "data": {
      "text/plain": [
       "array([0, 1, 2, 3, 4, 5, 6, 7, 8, 9])"
      ]
     },
     "execution_count": 46,
     "metadata": {},
     "output_type": "execute_result"
    }
   ],
   "source": [
    "arr = np.arange(10)\n",
    "arr"
   ]
  },
  {
   "cell_type": "code",
   "execution_count": 47,
   "metadata": {},
   "outputs": [
    {
     "data": {
      "text/plain": [
       "5"
      ]
     },
     "execution_count": 47,
     "metadata": {},
     "output_type": "execute_result"
    }
   ],
   "source": [
    "arr[5]"
   ]
  },
  {
   "cell_type": "code",
   "execution_count": 48,
   "metadata": {},
   "outputs": [
    {
     "data": {
      "text/plain": [
       "array([5, 6, 7])"
      ]
     },
     "execution_count": 48,
     "metadata": {},
     "output_type": "execute_result"
    }
   ],
   "source": [
    "arr[5:8]"
   ]
  },
  {
   "cell_type": "code",
   "execution_count": 49,
   "metadata": {},
   "outputs": [
    {
     "data": {
      "text/plain": [
       "array([ 0,  1,  2,  3,  4, 12, 12, 12,  8,  9])"
      ]
     },
     "execution_count": 49,
     "metadata": {},
     "output_type": "execute_result"
    }
   ],
   "source": [
    "arr[5:8] = 12\n",
    "arr"
   ]
  },
  {
   "cell_type": "markdown",
   "metadata": {},
   "source": [
    "As you can see, if you assign a scalar value to a slice, as in\n",
    "`arr[5:8] = 12`, the value is propagated (or *broadcast* henceforth) to\n",
    "the entire selection.\n",
    "\n",
    "An important first distinction from Python's built-in lists is that\n",
    "array slices are views on the original array. This means that the data\n",
    "is not copied, and any modifications to the view will be reflected in\n",
    "the source array.\n",
    "\n",
    "To give an example of this, I first create a slice of `arr`:\n",
    "\n"
   ]
  },
  {
   "cell_type": "code",
   "execution_count": 50,
   "metadata": {},
   "outputs": [
    {
     "data": {
      "text/plain": [
       "array([12, 12, 12])"
      ]
     },
     "execution_count": 50,
     "metadata": {},
     "output_type": "execute_result"
    }
   ],
   "source": [
    "arr_slice = arr[5:8]\n",
    "arr_slice"
   ]
  },
  {
   "cell_type": "markdown",
   "metadata": {},
   "source": [
    "Now, when I change values in `arr_slice`, the mutations are reflected in\n",
    "the original array `arr`:\n",
    "\n"
   ]
  },
  {
   "cell_type": "code",
   "execution_count": 51,
   "metadata": {},
   "outputs": [
    {
     "data": {
      "text/plain": [
       "array([    0,     1,     2,     3,     4,    12, 12345,    12,     8,\n",
       "           9])"
      ]
     },
     "execution_count": 51,
     "metadata": {},
     "output_type": "execute_result"
    }
   ],
   "source": [
    "arr_slice[1] = 12345\n",
    "arr"
   ]
  },
  {
   "cell_type": "markdown",
   "metadata": {},
   "source": [
    "The \"bare\" slice `[:]` will assign to all values in an array:\n",
    "\n"
   ]
  },
  {
   "cell_type": "code",
   "execution_count": 52,
   "metadata": {},
   "outputs": [
    {
     "data": {
      "text/plain": [
       "array([ 0,  1,  2,  3,  4, 64, 64, 64,  8,  9])"
      ]
     },
     "execution_count": 52,
     "metadata": {},
     "output_type": "execute_result"
    }
   ],
   "source": [
    "arr_slice[:] = 64\n",
    "arr"
   ]
  },
  {
   "cell_type": "markdown",
   "metadata": {},
   "source": [
    "If you are new to NumPy, you might be surprised by this, especially if\n",
    "you have used other array programming languages that copy data more\n",
    "eagerly. As NumPy has been designed to be able to work with very large\n",
    "arrays, you could imagine performance and memory problems if NumPy\n",
    "insisted on always copying data.\n",
    "\n",
    "If you want a copy of a slice of an ndarray instead of a view, you will\n",
    "need to explicitly copy the array&#x2014;for example, `arr[5:8].copy()`. As\n",
    "you will see, pandas works this way, too.\n",
    "\n",
    "With higher dimensional arrays, you have many more options. In a\n",
    "two-dimensional array, the elements at each index are no longer scalars\n",
    "but rather one-dimensional arrays:\n",
    "\n"
   ]
  },
  {
   "cell_type": "code",
   "execution_count": 53,
   "metadata": {},
   "outputs": [
    {
     "data": {
      "text/plain": [
       "array([[1, 2, 3],\n",
       "       [4, 5, 6],\n",
       "       [7, 8, 9]])"
      ]
     },
     "execution_count": 53,
     "metadata": {},
     "output_type": "execute_result"
    }
   ],
   "source": [
    "arr2d = np.array([[1, 2, 3], [4, 5, 6], [7, 8, 9]])\n",
    "arr2d"
   ]
  },
  {
   "cell_type": "code",
   "execution_count": 54,
   "metadata": {},
   "outputs": [
    {
     "data": {
      "text/plain": [
       "array([7, 8, 9])"
      ]
     },
     "execution_count": 54,
     "metadata": {},
     "output_type": "execute_result"
    }
   ],
   "source": [
    "arr2d[2]"
   ]
  },
  {
   "cell_type": "markdown",
   "metadata": {},
   "source": [
    "Thus, individual elements can be accessed recursively. But that is a bit\n",
    "too much work, so you can pass a comma-separated list of indices to\n",
    "select individual elements. So these are equivalent:\n",
    "\n"
   ]
  },
  {
   "cell_type": "code",
   "execution_count": 55,
   "metadata": {},
   "outputs": [
    {
     "data": {
      "text/plain": [
       "3"
      ]
     },
     "execution_count": 55,
     "metadata": {},
     "output_type": "execute_result"
    }
   ],
   "source": [
    "arr2d[0][2]"
   ]
  },
  {
   "cell_type": "code",
   "execution_count": 56,
   "metadata": {},
   "outputs": [
    {
     "data": {
      "text/plain": [
       "3"
      ]
     },
     "execution_count": 56,
     "metadata": {},
     "output_type": "execute_result"
    }
   ],
   "source": [
    "arr2d[0, 2]"
   ]
  },
  {
   "cell_type": "markdown",
   "metadata": {},
   "source": [
    "![img](./figures/pda3_0401.png)\n",
    "\n",
    "In multidimensional arrays, if you omit later indices, the returned\n",
    "object will be a lower dimensional ndarray consisting of all the data\n",
    "along the higher dimensions. So in the 2 × 2 × 3 array `arr3d`:\n",
    "\n"
   ]
  },
  {
   "cell_type": "code",
   "execution_count": 57,
   "metadata": {},
   "outputs": [
    {
     "data": {
      "text/plain": [
       "array([[[ 1,  2,  3],\n",
       "        [ 4,  5,  6]],\n",
       "\n",
       "       [[ 7,  8,  9],\n",
       "        [10, 11, 12]]])"
      ]
     },
     "execution_count": 57,
     "metadata": {},
     "output_type": "execute_result"
    }
   ],
   "source": [
    "arr3d = np.array([[[1, 2, 3], [4, 5, 6]], [[7, 8, 9], [10, 11, 12]]])\n",
    "arr3d"
   ]
  },
  {
   "cell_type": "markdown",
   "metadata": {},
   "source": [
    "`arr3d[0]` is a 2 × 3 array:\n",
    "\n"
   ]
  },
  {
   "cell_type": "code",
   "execution_count": 58,
   "metadata": {},
   "outputs": [
    {
     "data": {
      "text/plain": [
       "array([[1, 2, 3],\n",
       "       [4, 5, 6]])"
      ]
     },
     "execution_count": 58,
     "metadata": {},
     "output_type": "execute_result"
    }
   ],
   "source": [
    "arr3d[0]"
   ]
  },
  {
   "cell_type": "markdown",
   "metadata": {},
   "source": [
    "Both scalar values and arrays can be assigned to `arr3d[0]`:\n",
    "\n"
   ]
  },
  {
   "cell_type": "code",
   "execution_count": 59,
   "metadata": {},
   "outputs": [
    {
     "data": {
      "text/plain": [
       "array([[[42, 42, 42],\n",
       "        [42, 42, 42]],\n",
       "\n",
       "       [[ 7,  8,  9],\n",
       "        [10, 11, 12]]])"
      ]
     },
     "execution_count": 59,
     "metadata": {},
     "output_type": "execute_result"
    }
   ],
   "source": [
    "old_values = arr3d[0].copy()\n",
    "arr3d[0] = 42\n",
    "arr3d"
   ]
  },
  {
   "cell_type": "code",
   "execution_count": 60,
   "metadata": {},
   "outputs": [
    {
     "data": {
      "text/plain": [
       "array([[[ 1,  2,  3],\n",
       "        [ 4,  5,  6]],\n",
       "\n",
       "       [[ 7,  8,  9],\n",
       "        [10, 11, 12]]])"
      ]
     },
     "execution_count": 60,
     "metadata": {},
     "output_type": "execute_result"
    }
   ],
   "source": [
    "arr3d[0] = old_values\n",
    "arr3d"
   ]
  },
  {
   "cell_type": "markdown",
   "metadata": {},
   "source": [
    "Similarly, `arr3d[1, 0]` gives you all of the values whose indices start\n",
    "with `(1, 0)`, forming a one-dimensional array:\n",
    "\n"
   ]
  },
  {
   "cell_type": "code",
   "execution_count": 61,
   "metadata": {},
   "outputs": [
    {
     "data": {
      "text/plain": [
       "array([7, 8, 9])"
      ]
     },
     "execution_count": 61,
     "metadata": {},
     "output_type": "execute_result"
    }
   ],
   "source": [
    "arr3d[1, 0]"
   ]
  },
  {
   "cell_type": "markdown",
   "metadata": {},
   "source": [
    "This expression is the same as though we had indexed in two steps:\n",
    "\n"
   ]
  },
  {
   "cell_type": "code",
   "execution_count": 62,
   "metadata": {},
   "outputs": [
    {
     "data": {
      "text/plain": [
       "array([7, 8, 9])"
      ]
     },
     "execution_count": 62,
     "metadata": {},
     "output_type": "execute_result"
    }
   ],
   "source": [
    "x = arr3d[1]\n",
    "x\n",
    "x[0]"
   ]
  },
  {
   "cell_type": "markdown",
   "metadata": {},
   "source": [
    "Note that in all of these cases where subsections of the array have been\n",
    "selected, the returned arrays are views.\n",
    "\n",
    "This multidimensional indexing syntax for NumPy arrays will not work\n",
    "with regular Python objects, such as lists of lists.\n",
    "\n"
   ]
  },
  {
   "cell_type": "markdown",
   "metadata": {},
   "source": [
    "##### Indexing with slices"
   ]
  },
  {
   "cell_type": "markdown",
   "metadata": {},
   "source": [
    "Like one-dimensional objects such as Python lists, ndarrays can be\n",
    "sliced with the familiar syntax:\n",
    "\n"
   ]
  },
  {
   "cell_type": "code",
   "execution_count": 63,
   "metadata": {},
   "outputs": [
    {
     "data": {
      "text/plain": [
       "array([ 1,  2,  3,  4, 64])"
      ]
     },
     "execution_count": 63,
     "metadata": {},
     "output_type": "execute_result"
    }
   ],
   "source": [
    "arr\n",
    "arr[1:6]"
   ]
  },
  {
   "cell_type": "markdown",
   "metadata": {},
   "source": [
    "Consider the two-dimensional array from before, `arr2d`. Slicing this\n",
    "array is a bit different:\n",
    "\n"
   ]
  },
  {
   "cell_type": "code",
   "execution_count": 64,
   "metadata": {},
   "outputs": [
    {
     "data": {
      "text/plain": [
       "array([[1, 2, 3],\n",
       "       [4, 5, 6],\n",
       "       [7, 8, 9]])"
      ]
     },
     "execution_count": 64,
     "metadata": {},
     "output_type": "execute_result"
    }
   ],
   "source": [
    "arr2d"
   ]
  },
  {
   "cell_type": "code",
   "execution_count": 65,
   "metadata": {},
   "outputs": [
    {
     "data": {
      "text/plain": [
       "array([[1, 2, 3],\n",
       "       [4, 5, 6]])"
      ]
     },
     "execution_count": 65,
     "metadata": {},
     "output_type": "execute_result"
    }
   ],
   "source": [
    "arr2d[:2]"
   ]
  },
  {
   "cell_type": "markdown",
   "metadata": {},
   "source": [
    "As you can see, it has sliced along axis 0, the first axis. A slice,\n",
    "therefore, selects a range of elements along an axis. It can be helpful\n",
    "to read the expression `arr2d[:2]` as \"select the first two rows of\n",
    "`arr2d`.\"\n",
    "\n",
    "You can pass multiple slices just like you can pass multiple indexes:\n",
    "\n"
   ]
  },
  {
   "cell_type": "code",
   "execution_count": 66,
   "metadata": {},
   "outputs": [
    {
     "data": {
      "text/plain": [
       "array([[2, 3],\n",
       "       [5, 6]])"
      ]
     },
     "execution_count": 66,
     "metadata": {},
     "output_type": "execute_result"
    }
   ],
   "source": [
    "arr2d[:2, 1:]"
   ]
  },
  {
   "cell_type": "markdown",
   "metadata": {},
   "source": [
    "When slicing like this, you always obtain array views of the same number\n",
    "of dimensions. By mixing integer indexes and slices, you get lower\n",
    "dimensional slices.\n",
    "\n",
    "For example, I can select the second row but only the first two columns,\n",
    "like so:\n",
    "\n"
   ]
  },
  {
   "cell_type": "code",
   "execution_count": 69,
   "metadata": {},
   "outputs": [
    {
     "data": {
      "text/plain": [
       "array([[1, 2, 3],\n",
       "       [4, 5, 6],\n",
       "       [7, 8, 9]])"
      ]
     },
     "execution_count": 69,
     "metadata": {},
     "output_type": "execute_result"
    }
   ],
   "source": [
    "arr2d"
   ]
  },
  {
   "cell_type": "code",
   "execution_count": 74,
   "metadata": {},
   "outputs": [
    {
     "data": {
      "text/plain": [
       "array([4, 5])"
      ]
     },
     "execution_count": 74,
     "metadata": {},
     "output_type": "execute_result"
    }
   ],
   "source": [
    "lower_dim_slice = arr2d[1, :2]\n",
    "lower_dim_slice"
   ]
  },
  {
   "cell_type": "markdown",
   "metadata": {},
   "source": [
    "Here, while `arr2d` is two-dimensional, `lower_dim_slice` is\n",
    "one-dimensional, and its shape is a tuple with one axis size:\n",
    "\n"
   ]
  },
  {
   "cell_type": "code",
   "execution_count": 75,
   "metadata": {},
   "outputs": [
    {
     "data": {
      "text/plain": [
       "(2,)"
      ]
     },
     "execution_count": 75,
     "metadata": {},
     "output_type": "execute_result"
    }
   ],
   "source": [
    "lower_dim_slice.shape"
   ]
  },
  {
   "cell_type": "markdown",
   "metadata": {},
   "source": [
    "Similarly, I can select the third column but only the first two rows,\n",
    "like so:\n",
    "\n"
   ]
  },
  {
   "cell_type": "code",
   "execution_count": 76,
   "metadata": {},
   "outputs": [
    {
     "data": {
      "text/plain": [
       "array([3, 6])"
      ]
     },
     "execution_count": 76,
     "metadata": {},
     "output_type": "execute_result"
    }
   ],
   "source": [
    "arr2d[:2, 2]"
   ]
  },
  {
   "cell_type": "markdown",
   "metadata": {},
   "source": [
    "Note that a colon by itself means to take the\n",
    "entire axis, so you can slice only higher dimensional axes by doing:\n",
    "\n"
   ]
  },
  {
   "cell_type": "code",
   "execution_count": 77,
   "metadata": {},
   "outputs": [
    {
     "data": {
      "text/plain": [
       "array([[1],\n",
       "       [4],\n",
       "       [7]])"
      ]
     },
     "execution_count": 77,
     "metadata": {},
     "output_type": "execute_result"
    }
   ],
   "source": [
    "arr2d[:, :1]"
   ]
  },
  {
   "cell_type": "code",
   "execution_count": 80,
   "metadata": {},
   "outputs": [
    {
     "data": {
      "text/plain": [
       "array([2, 5, 8])"
      ]
     },
     "execution_count": 80,
     "metadata": {},
     "output_type": "execute_result"
    }
   ],
   "source": [
    "arr2d[:, 1]"
   ]
  },
  {
   "cell_type": "code",
   "execution_count": 79,
   "metadata": {},
   "outputs": [
    {
     "data": {
      "text/plain": [
       "array([[1],\n",
       "       [4],\n",
       "       [7]])"
      ]
     },
     "execution_count": 79,
     "metadata": {},
     "output_type": "execute_result"
    }
   ],
   "source": [
    "arr2d[:, [0]]"
   ]
  },
  {
   "cell_type": "markdown",
   "metadata": {},
   "source": [
    "Of course, assigning to a slice expression assigns to the whole\n",
    "selection:\n",
    "\n"
   ]
  },
  {
   "cell_type": "code",
   "execution_count": 81,
   "metadata": {},
   "outputs": [
    {
     "data": {
      "text/plain": [
       "array([[1, 0, 0],\n",
       "       [4, 0, 0],\n",
       "       [7, 8, 9]])"
      ]
     },
     "execution_count": 81,
     "metadata": {},
     "output_type": "execute_result"
    }
   ],
   "source": [
    "arr2d[:2, 1:] = 0\n",
    "arr2d"
   ]
  },
  {
   "cell_type": "markdown",
   "metadata": {},
   "source": [
    "![img](./figures/pda3_0402.png)\n",
    "\n"
   ]
  },
  {
   "cell_type": "markdown",
   "metadata": {},
   "source": [
    "#### Boolean\n",
    "\n"
   ]
  },
  {
   "cell_type": "markdown",
   "metadata": {},
   "source": [
    "Let's consider an example where we have some data in an array and an\n",
    "array of names with duplicates:\n",
    "\n"
   ]
  },
  {
   "cell_type": "code",
   "execution_count": 82,
   "metadata": {},
   "outputs": [
    {
     "data": {
      "text/plain": [
       "array(['Bob', 'Joe', 'Will', 'Bob', 'Will', 'Joe', 'Joe'], dtype='<U4')"
      ]
     },
     "execution_count": 82,
     "metadata": {},
     "output_type": "execute_result"
    }
   ],
   "source": [
    "names = np.array([\"Bob\", \"Joe\", \"Will\", \"Bob\", \"Will\", \"Joe\", \"Joe\"])\n",
    "names"
   ]
  },
  {
   "cell_type": "code",
   "execution_count": 83,
   "metadata": {},
   "outputs": [
    {
     "data": {
      "text/plain": [
       "array([[  4,   7],\n",
       "       [  0,   2],\n",
       "       [ -5,   6],\n",
       "       [  0,   0],\n",
       "       [  1,   2],\n",
       "       [-12,  -4],\n",
       "       [  3,   4]])"
      ]
     },
     "execution_count": 83,
     "metadata": {},
     "output_type": "execute_result"
    }
   ],
   "source": [
    "data = np.array([[4, 7], [0, 2], [-5, 6], [0, 0], [1, 2], [-12, -4], [3, 4]])\n",
    "data"
   ]
  },
  {
   "cell_type": "markdown",
   "metadata": {},
   "source": [
    "Suppose each name corresponds to a row in the `data` array and we wanted\n",
    "to select all the rows with the corresponding name `\"Bob\"`. Like\n",
    "arithmetic operations, comparisons (such as `==`) with arrays are also\n",
    "vectorized. Thus, comparing `names` with the string `\"Bob\"` yields a\n",
    "Boolean array:\n",
    "\n"
   ]
  },
  {
   "cell_type": "code",
   "execution_count": 84,
   "metadata": {},
   "outputs": [
    {
     "data": {
      "text/plain": [
       "array([ True, False, False,  True, False, False, False])"
      ]
     },
     "execution_count": 84,
     "metadata": {},
     "output_type": "execute_result"
    }
   ],
   "source": [
    "names == \"Bob\""
   ]
  },
  {
   "cell_type": "markdown",
   "metadata": {},
   "source": [
    "This Boolean array can be passed when indexing the array:\n",
    "\n"
   ]
  },
  {
   "cell_type": "code",
   "execution_count": 85,
   "metadata": {},
   "outputs": [
    {
     "data": {
      "text/plain": [
       "array([[4, 7],\n",
       "       [0, 0]])"
      ]
     },
     "execution_count": 85,
     "metadata": {},
     "output_type": "execute_result"
    }
   ],
   "source": [
    "data[names == \"Bob\"]"
   ]
  },
  {
   "cell_type": "code",
   "execution_count": 86,
   "metadata": {},
   "outputs": [
    {
     "data": {
      "text/plain": [
       "array(['Bob', 'Bob'], dtype='<U4')"
      ]
     },
     "execution_count": 86,
     "metadata": {},
     "output_type": "execute_result"
    }
   ],
   "source": [
    "names[names == \"Bob\"]"
   ]
  },
  {
   "cell_type": "markdown",
   "metadata": {},
   "source": [
    "The Boolean array must be of the same length as the array axis it's\n",
    "indexing. You can even mix and match Boolean arrays with slices or\n",
    "integers (or sequences of integers; more on this later).\n",
    "\n",
    "In these examples, I select from the rows where `names =` \"Bob\"= and\n",
    "index the columns, too:\n",
    "\n"
   ]
  },
  {
   "cell_type": "code",
   "execution_count": 87,
   "metadata": {},
   "outputs": [
    {
     "data": {
      "text/plain": [
       "array([[7],\n",
       "       [0]])"
      ]
     },
     "execution_count": 87,
     "metadata": {},
     "output_type": "execute_result"
    }
   ],
   "source": [
    "data[names == \"Bob\", 1:]"
   ]
  },
  {
   "cell_type": "code",
   "execution_count": 89,
   "metadata": {},
   "outputs": [
    {
     "data": {
      "text/plain": [
       "array([7, 0])"
      ]
     },
     "execution_count": 89,
     "metadata": {},
     "output_type": "execute_result"
    }
   ],
   "source": [
    "data[names == \"Bob\", 1]"
   ]
  },
  {
   "cell_type": "markdown",
   "metadata": {},
   "source": [
    "To select everything but `\"Bob\"` you can either use `!=` or negate the\n",
    "condition using `~`:\n",
    "\n"
   ]
  },
  {
   "cell_type": "code",
   "execution_count": 90,
   "metadata": {},
   "outputs": [
    {
     "data": {
      "text/plain": [
       "array([False,  True,  True, False,  True,  True,  True])"
      ]
     },
     "execution_count": 90,
     "metadata": {},
     "output_type": "execute_result"
    }
   ],
   "source": [
    "names != \"Bob\""
   ]
  },
  {
   "cell_type": "code",
   "execution_count": 92,
   "metadata": {},
   "outputs": [
    {
     "data": {
      "text/plain": [
       "array([False,  True,  True, False,  True,  True,  True])"
      ]
     },
     "execution_count": 92,
     "metadata": {},
     "output_type": "execute_result"
    }
   ],
   "source": [
    "~(names == \"Bob\")"
   ]
  },
  {
   "cell_type": "code",
   "execution_count": 93,
   "metadata": {},
   "outputs": [
    {
     "data": {
      "text/plain": [
       "array([[  0,   2],\n",
       "       [ -5,   6],\n",
       "       [  1,   2],\n",
       "       [-12,  -4],\n",
       "       [  3,   4]])"
      ]
     },
     "execution_count": 93,
     "metadata": {},
     "output_type": "execute_result"
    }
   ],
   "source": [
    "data[names != \"Bob\"]"
   ]
  },
  {
   "cell_type": "markdown",
   "metadata": {},
   "source": [
    "The `~` operator can be useful when you want to invert a Boolean array\n",
    "referenced by a variable:\n",
    "\n"
   ]
  },
  {
   "cell_type": "code",
   "execution_count": 94,
   "metadata": {},
   "outputs": [
    {
     "data": {
      "text/plain": [
       "array([[  0,   2],\n",
       "       [ -5,   6],\n",
       "       [  1,   2],\n",
       "       [-12,  -4],\n",
       "       [  3,   4]])"
      ]
     },
     "execution_count": 94,
     "metadata": {},
     "output_type": "execute_result"
    }
   ],
   "source": [
    "cond = names == \"Bob\"\n",
    "data[~cond]"
   ]
  },
  {
   "cell_type": "markdown",
   "metadata": {},
   "source": [
    "To select two of the three names to combine multiple Boolean conditions,\n",
    "use Boolean arithmetic operators like `&` (and) and `|` (or):\n",
    "\n"
   ]
  },
  {
   "cell_type": "code",
   "execution_count": 95,
   "metadata": {},
   "outputs": [
    {
     "data": {
      "text/plain": [
       "array([ True, False,  True,  True,  True, False, False])"
      ]
     },
     "execution_count": 95,
     "metadata": {},
     "output_type": "execute_result"
    }
   ],
   "source": [
    "mask = (names == \"Bob\") | (names == \"Will\")\n",
    "mask"
   ]
  },
  {
   "cell_type": "code",
   "execution_count": 96,
   "metadata": {},
   "outputs": [
    {
     "data": {
      "text/plain": [
       "array([[ 4,  7],\n",
       "       [-5,  6],\n",
       "       [ 0,  0],\n",
       "       [ 1,  2]])"
      ]
     },
     "execution_count": 96,
     "metadata": {},
     "output_type": "execute_result"
    }
   ],
   "source": [
    "data[mask]"
   ]
  },
  {
   "cell_type": "markdown",
   "metadata": {},
   "source": [
    "Selecting data from an array by Boolean indexing and assigning the\n",
    "result to a new variable *always* creates a copy of the data, even if\n",
    "the returned array is unchanged.\n",
    "\n",
    "The Python keywords `and` and `or` do not work with Boolean arrays. Use\n",
    "`&` (and) and `|` (or) instead.\n",
    "\n",
    "Setting values with Boolean arrays works by substituting the value or\n",
    "values on the righthand side into the locations where the Boolean\n",
    "array's values are `True`. To set all of the negative values in `data`\n",
    "to 0, we need only do:\n",
    "\n"
   ]
  },
  {
   "cell_type": "code",
   "execution_count": 97,
   "metadata": {},
   "outputs": [
    {
     "data": {
      "text/plain": [
       "array([[4, 7],\n",
       "       [0, 2],\n",
       "       [0, 6],\n",
       "       [0, 0],\n",
       "       [1, 2],\n",
       "       [0, 0],\n",
       "       [3, 4]])"
      ]
     },
     "execution_count": 97,
     "metadata": {},
     "output_type": "execute_result"
    }
   ],
   "source": [
    "data[data < 0] = 0\n",
    "data"
   ]
  },
  {
   "cell_type": "markdown",
   "metadata": {},
   "source": [
    "You can also set whole rows or columns using a one-dimensional Boolean\n",
    "array:\n",
    "\n"
   ]
  },
  {
   "cell_type": "code",
   "execution_count": 98,
   "metadata": {},
   "outputs": [
    {
     "data": {
      "text/plain": [
       "array([[7, 7],\n",
       "       [0, 2],\n",
       "       [7, 7],\n",
       "       [7, 7],\n",
       "       [7, 7],\n",
       "       [0, 0],\n",
       "       [3, 4]])"
      ]
     },
     "execution_count": 98,
     "metadata": {},
     "output_type": "execute_result"
    }
   ],
   "source": [
    "data[names != \"Joe\"] = 7\n",
    "data"
   ]
  },
  {
   "cell_type": "markdown",
   "metadata": {},
   "source": [
    "As we will see later, these types of operations on two-dimensional data\n",
    "are convenient to do with pandas.\n",
    "\n"
   ]
  },
  {
   "cell_type": "markdown",
   "metadata": {},
   "source": [
    "#### Fancy indexing"
   ]
  },
  {
   "cell_type": "markdown",
   "metadata": {},
   "source": [
    "*Fancy indexing* is a term adopted by NumPy to describe indexing using\n",
    "integer arrays. Suppose we had an 8 × 4 array:\n",
    "\n"
   ]
  },
  {
   "cell_type": "code",
   "execution_count": 99,
   "metadata": {},
   "outputs": [
    {
     "data": {
      "text/plain": [
       "array([[0., 0., 0., 0.],\n",
       "       [1., 1., 1., 1.],\n",
       "       [2., 2., 2., 2.],\n",
       "       [3., 3., 3., 3.],\n",
       "       [4., 4., 4., 4.],\n",
       "       [5., 5., 5., 5.],\n",
       "       [6., 6., 6., 6.],\n",
       "       [7., 7., 7., 7.]])"
      ]
     },
     "execution_count": 99,
     "metadata": {},
     "output_type": "execute_result"
    }
   ],
   "source": [
    "arr = np.zeros((8, 4))\n",
    "for i in range(8):\n",
    "    arr[i] = i\n",
    "arr"
   ]
  },
  {
   "cell_type": "markdown",
   "metadata": {},
   "source": [
    "To select a subset of the rows in a particular order, you can simply\n",
    "pass a list or ndarray of integers specifying the desired order:\n",
    "\n"
   ]
  },
  {
   "cell_type": "code",
   "execution_count": 100,
   "metadata": {},
   "outputs": [
    {
     "data": {
      "text/plain": [
       "array([[4., 4., 4., 4.],\n",
       "       [3., 3., 3., 3.],\n",
       "       [0., 0., 0., 0.],\n",
       "       [6., 6., 6., 6.]])"
      ]
     },
     "execution_count": 100,
     "metadata": {},
     "output_type": "execute_result"
    }
   ],
   "source": [
    "arr[[4, 3, 0, 6]]"
   ]
  },
  {
   "cell_type": "markdown",
   "metadata": {},
   "source": [
    "Hopefully this code did what you expected! Using negative indices\n",
    "selects rows from the end:\n",
    "\n"
   ]
  },
  {
   "cell_type": "code",
   "execution_count": 101,
   "metadata": {},
   "outputs": [
    {
     "data": {
      "text/plain": [
       "array([[5., 5., 5., 5.],\n",
       "       [3., 3., 3., 3.],\n",
       "       [1., 1., 1., 1.]])"
      ]
     },
     "execution_count": 101,
     "metadata": {},
     "output_type": "execute_result"
    }
   ],
   "source": [
    "arr[[-3, -5, -7]]"
   ]
  },
  {
   "cell_type": "markdown",
   "metadata": {},
   "source": [
    "Passing multiple index arrays does something slightly different; it\n",
    "selects a one-dimensional array of elements corresponding to each tuple\n",
    "of indices:\n",
    "\n"
   ]
  },
  {
   "cell_type": "code",
   "execution_count": 102,
   "metadata": {},
   "outputs": [
    {
     "data": {
      "text/plain": [
       "array([[ 0,  1,  2,  3],\n",
       "       [ 4,  5,  6,  7],\n",
       "       [ 8,  9, 10, 11],\n",
       "       [12, 13, 14, 15],\n",
       "       [16, 17, 18, 19],\n",
       "       [20, 21, 22, 23],\n",
       "       [24, 25, 26, 27],\n",
       "       [28, 29, 30, 31]])"
      ]
     },
     "execution_count": 102,
     "metadata": {},
     "output_type": "execute_result"
    }
   ],
   "source": [
    "arr = np.arange(32).reshape((8, 4))\n",
    "arr"
   ]
  },
  {
   "cell_type": "code",
   "execution_count": 103,
   "metadata": {},
   "outputs": [
    {
     "data": {
      "text/plain": [
       "array([ 4, 23, 29, 10])"
      ]
     },
     "execution_count": 103,
     "metadata": {},
     "output_type": "execute_result"
    }
   ],
   "source": [
    "arr[[1, 5, 7, 2], [0, 3, 1, 2]]"
   ]
  },
  {
   "cell_type": "markdown",
   "metadata": {},
   "source": [
    "Here the elements `(1, 0), (5, 3), (7, 1)`, and `(2, 2)` were selected.\n",
    "The result of fancy indexing with as many integer arrays as there are\n",
    "axes is always one-dimensional.\n",
    "\n",
    "The behavior of fancy indexing in this case is a bit different from what\n",
    "some users might have expected, which is the\n",
    "rectangular region formed by selecting a subset of the matrix's rows and\n",
    "columns. Here is one way to get that:\n",
    "\n"
   ]
  },
  {
   "cell_type": "code",
   "execution_count": 106,
   "metadata": {},
   "outputs": [
    {
     "data": {
      "text/plain": [
       "array([[ 4,  5,  6,  7],\n",
       "       [20, 21, 22, 23],\n",
       "       [28, 29, 30, 31],\n",
       "       [ 8,  9, 10, 11]])"
      ]
     },
     "execution_count": 106,
     "metadata": {},
     "output_type": "execute_result"
    }
   ],
   "source": [
    "x = arr[[1, 5, 7, 2]]\n",
    "x"
   ]
  },
  {
   "cell_type": "code",
   "execution_count": 107,
   "metadata": {},
   "outputs": [
    {
     "data": {
      "text/plain": [
       "array([[ 4,  7,  5,  6],\n",
       "       [20, 23, 21, 22],\n",
       "       [28, 31, 29, 30],\n",
       "       [ 8, 11,  9, 10]])"
      ]
     },
     "execution_count": 107,
     "metadata": {},
     "output_type": "execute_result"
    }
   ],
   "source": [
    "x[:, [0, 3, 1, 2]]"
   ]
  },
  {
   "cell_type": "code",
   "execution_count": 108,
   "metadata": {},
   "outputs": [
    {
     "data": {
      "text/plain": [
       "array([[ 4,  7,  5,  6],\n",
       "       [20, 23, 21, 22],\n",
       "       [28, 31, 29, 30],\n",
       "       [ 8, 11,  9, 10]])"
      ]
     },
     "execution_count": 108,
     "metadata": {},
     "output_type": "execute_result"
    }
   ],
   "source": [
    "arr[[1, 5, 7, 2]][:, [0, 3, 1, 2]]"
   ]
  },
  {
   "cell_type": "markdown",
   "metadata": {},
   "source": [
    "Keep in mind that fancy indexing, unlike slicing, always copies the data\n",
    "into a new array when assigning the result to a new variable. If you\n",
    "assign values with fancy indexing, the indexed values will be modified:\n",
    "\n"
   ]
  },
  {
   "cell_type": "code",
   "execution_count": 109,
   "metadata": {},
   "outputs": [
    {
     "data": {
      "text/plain": [
       "array([[ 0,  1,  2,  3],\n",
       "       [ 0,  5,  6,  7],\n",
       "       [ 8,  9,  0, 11],\n",
       "       [12, 13, 14, 15],\n",
       "       [16, 17, 18, 19],\n",
       "       [20, 21, 22,  0],\n",
       "       [24, 25, 26, 27],\n",
       "       [28,  0, 30, 31]])"
      ]
     },
     "execution_count": 109,
     "metadata": {},
     "output_type": "execute_result"
    }
   ],
   "source": [
    "arr[[1, 5, 7, 2], [0, 3, 1, 2]] = 0\n",
    "arr"
   ]
  },
  {
   "cell_type": "markdown",
   "metadata": {},
   "source": [
    "#### Transposing Arrays and Swapping\n",
    "\n"
   ]
  },
  {
   "cell_type": "markdown",
   "metadata": {},
   "source": [
    "Transposing is a special form of reshaping that similarly returns a view\n",
    "on the underlying data without copying anything. Arrays have the\n",
    "`transpose` method and the special `T` attribute:\n",
    "\n"
   ]
  },
  {
   "cell_type": "code",
   "execution_count": 110,
   "metadata": {},
   "outputs": [
    {
     "data": {
      "text/plain": [
       "array([[ 0,  1,  2,  3,  4],\n",
       "       [ 5,  6,  7,  8,  9],\n",
       "       [10, 11, 12, 13, 14]])"
      ]
     },
     "execution_count": 110,
     "metadata": {},
     "output_type": "execute_result"
    }
   ],
   "source": [
    "arr = np.arange(15).reshape((3, 5))\n",
    "arr"
   ]
  },
  {
   "cell_type": "code",
   "execution_count": 111,
   "metadata": {},
   "outputs": [
    {
     "data": {
      "text/plain": [
       "array([[ 0,  5, 10],\n",
       "       [ 1,  6, 11],\n",
       "       [ 2,  7, 12],\n",
       "       [ 3,  8, 13],\n",
       "       [ 4,  9, 14]])"
      ]
     },
     "execution_count": 111,
     "metadata": {},
     "output_type": "execute_result"
    }
   ],
   "source": [
    "arr.T"
   ]
  },
  {
   "cell_type": "markdown",
   "metadata": {},
   "source": [
    "When doing matrix computations, you may do this very often&#x2014;for\n",
    "example, when computing the inner matrix product using `numpy.dot`:\n",
    "\n"
   ]
  },
  {
   "cell_type": "code",
   "execution_count": 112,
   "metadata": {},
   "outputs": [
    {
     "data": {
      "text/plain": [
       "array([[ 0,  1,  0],\n",
       "       [ 1,  2, -2],\n",
       "       [ 6,  3,  2],\n",
       "       [-1,  0, -1],\n",
       "       [ 1,  0,  1]])"
      ]
     },
     "execution_count": 112,
     "metadata": {},
     "output_type": "execute_result"
    }
   ],
   "source": [
    "arr = np.array([[0, 1, 0], [1, 2, -2], [6, 3, 2], [-1, 0, -1], [1, 0, 1]])\n",
    "arr"
   ]
  },
  {
   "cell_type": "code",
   "execution_count": 114,
   "metadata": {},
   "outputs": [
    {
     "data": {
      "text/plain": [
       "array([[ 0,  1,  6, -1,  1],\n",
       "       [ 1,  2,  3,  0,  0],\n",
       "       [ 0, -2,  2, -1,  1]])"
      ]
     },
     "execution_count": 114,
     "metadata": {},
     "output_type": "execute_result"
    }
   ],
   "source": [
    "arr.T"
   ]
  },
  {
   "cell_type": "code",
   "execution_count": 113,
   "metadata": {},
   "outputs": [
    {
     "data": {
      "text/plain": [
       "array([[39, 20, 12],\n",
       "       [20, 14,  2],\n",
       "       [12,  2, 10]])"
      ]
     },
     "execution_count": 113,
     "metadata": {},
     "output_type": "execute_result"
    }
   ],
   "source": [
    "np.dot(arr.T, arr)"
   ]
  },
  {
   "cell_type": "markdown",
   "metadata": {},
   "source": [
    "The `@` infix operator is another way to do matrix multiplication:\n",
    "\n"
   ]
  },
  {
   "cell_type": "code",
   "execution_count": 115,
   "metadata": {},
   "outputs": [
    {
     "data": {
      "text/plain": [
       "array([[39, 20, 12],\n",
       "       [20, 14,  2],\n",
       "       [12,  2, 10]])"
      ]
     },
     "execution_count": 115,
     "metadata": {},
     "output_type": "execute_result"
    }
   ],
   "source": [
    "arr.T @ arr"
   ]
  },
  {
   "cell_type": "markdown",
   "metadata": {},
   "source": [
    "Simple transposing with `.T` is a special case of swapping axes. ndarray\n",
    "has the method `swapaxes`, which takes a pair of axis numbers and\n",
    "switches the indicated axes to rearrange the data:\n",
    "\n"
   ]
  },
  {
   "cell_type": "code",
   "execution_count": 117,
   "metadata": {},
   "outputs": [
    {
     "data": {
      "text/plain": [
       "array([[ 0,  1,  0],\n",
       "       [ 1,  2, -2],\n",
       "       [ 6,  3,  2],\n",
       "       [-1,  0, -1],\n",
       "       [ 1,  0,  1]])"
      ]
     },
     "execution_count": 117,
     "metadata": {},
     "output_type": "execute_result"
    }
   ],
   "source": [
    "arr"
   ]
  },
  {
   "cell_type": "code",
   "execution_count": 116,
   "metadata": {},
   "outputs": [
    {
     "data": {
      "text/plain": [
       "array([[ 0,  1,  6, -1,  1],\n",
       "       [ 1,  2,  3,  0,  0],\n",
       "       [ 0, -2,  2, -1,  1]])"
      ]
     },
     "execution_count": 116,
     "metadata": {},
     "output_type": "execute_result"
    }
   ],
   "source": [
    "arr.swapaxes(0, 1)"
   ]
  },
  {
   "cell_type": "markdown",
   "metadata": {},
   "source": [
    "`swapaxes` similarly returns a view on the data without making a copy.\n",
    "\n"
   ]
  },
  {
   "cell_type": "markdown",
   "metadata": {},
   "source": [
    "### Pseudorandom Number\n",
    "\n"
   ]
  },
  {
   "cell_type": "markdown",
   "metadata": {},
   "source": [
    "The `numpy.random` module supplements the built-in Python `random`\n",
    "module with functions for efficiently generating whole arrays of sample\n",
    "values from many kinds of probability distributions. For example, you\n",
    "can get a 4 × 4 array of samples from the standard normal distribution\n",
    "using `numpy.random.standard_normal`:\n",
    "\n"
   ]
  },
  {
   "cell_type": "code",
   "execution_count": 118,
   "metadata": {},
   "outputs": [
    {
     "data": {
      "text/plain": [
       "array([[ 0.11155009,  0.93165991,  0.98594645,  1.96368997],\n",
       "       [-1.07899697,  0.63125455,  0.55619786,  0.45388409],\n",
       "       [-1.95283347,  0.55808707, -0.08721455, -0.90218119],\n",
       "       [ 0.86433933, -1.12917924, -0.18582244,  1.24985018]])"
      ]
     },
     "execution_count": 118,
     "metadata": {},
     "output_type": "execute_result"
    }
   ],
   "source": [
    "samples = np.random.standard_normal(size=(4, 4))\n",
    "samples"
   ]
  },
  {
   "cell_type": "markdown",
   "metadata": {},
   "source": [
    "Python's built-in `random` module, by contrast, samples only one value\n",
    "at a time. As you can see from this benchmark, `numpy.random` is well\n",
    "over an order of magnitude faster for generating very large samples:\n",
    "\n"
   ]
  },
  {
   "cell_type": "code",
   "execution_count": 119,
   "metadata": {},
   "outputs": [],
   "source": [
    "def random_exp(theta = 1):\n",
    "    U = np.random.uniform()\n",
    "    return(-theta * np.log(1 - U))\n",
    "    \n",
    "def random_Laplace():\n",
    "    T = random_exp()\n",
    "    U = np.random.uniform()\n",
    "    if U > 0.5:\n",
    "        return T\n",
    "    else:\n",
    "        return -T\n",
    "\n",
    "def random_normal(mu=0, sigma=1):\n",
    "    while True:\n",
    "        U = np.random.uniform()\n",
    "        X = random_Laplace()\n",
    "        if U * ((1/((2*np.pi)**0.5)) * np.exp(0.5 - abs(X))) <= ((1/((2*np.pi)**0.5)) * np.exp(-X**2 / 2)):\n",
    "            return sigma * X + mu"
   ]
  },
  {
   "cell_type": "code",
   "execution_count": 120,
   "metadata": {},
   "outputs": [
    {
     "name": "stdout",
     "output_type": "stream",
     "text": [
      "6.010757207870483\n",
      "0.30835986137390137\n",
      "0.015435934066772461\n"
     ]
    }
   ],
   "source": [
    "from random import normalvariate\n",
    "N = 1_000_000\n",
    "\n",
    "start = time.time()\n",
    "samples = [random_normal() for _ in range(N)]\n",
    "print(time.time() - start)\n",
    "\n",
    "start = time.time()\n",
    "samples = [normalvariate(0, 1) for _ in range(N)]\n",
    "print(time.time() - start)\n",
    "\n",
    "start = time.time()\n",
    "np.random.standard_normal(N)\n",
    "print(time.time() - start)"
   ]
  },
  {
   "cell_type": "markdown",
   "metadata": {},
   "source": [
    "These random numbers are not truly random (rather, *pseudorandom*) but\n",
    "instead are generated by a configurable random number generator that\n",
    "determines deterministically what values are created. Functions like\n",
    "`numpy.random.standard_normal` use the `numpy.random` module's default\n",
    "random number generator, but your code can be configured to use an\n",
    "explicit generator:\n",
    "\n"
   ]
  },
  {
   "cell_type": "code",
   "execution_count": 132,
   "metadata": {},
   "outputs": [
    {
     "data": {
      "text/plain": [
       "array([[-1.42382504,  1.26372846, -0.87066174],\n",
       "       [-0.25917323, -0.07534331, -0.74088465]])"
      ]
     },
     "execution_count": 132,
     "metadata": {},
     "output_type": "execute_result"
    }
   ],
   "source": [
    "rng = np.random.default_rng(seed=12345)\n",
    "data = rng.standard_normal((2, 3))\n",
    "data"
   ]
  },
  {
   "cell_type": "markdown",
   "metadata": {},
   "source": [
    "The `seed` argument is what determines the initial state of the\n",
    "generator, and the state changes each time the `rng` object is used to\n",
    "generate data. The generator object `rng` is also isolated from other\n",
    "code which might use the `numpy.random` module:\n",
    "\n"
   ]
  },
  {
   "cell_type": "code",
   "execution_count": null,
   "metadata": {},
   "outputs": [],
   "source": [
    "type(rng)"
   ]
  },
  {
   "cell_type": "markdown",
   "metadata": {},
   "source": [
    "Here is a partial list of methods available on random generator objects like\n",
    "`rng`.\n",
    "\n",
    "\n",
    "| Method|Description|\n",
    "|---|---|\n",
    "| <code>permutation</code>|Return a random permutation of a sequence, or return a permuted range|\n",
    "| <code>shuffle</code>|Randomly permute a sequence in place|\n",
    "| <code>uniform</code>|Draw samples from a uniform distribution|\n",
    "| <code>integers</code>|Draw random integers from a given low-to-high range|\n",
    "| <code>standard_normal</code>|Draw samples from a normal distribution with mean 0 and standard deviation 1|\n",
    "| <code>binomial</code>|Draw samples from a binomial distribution|\n",
    "| <code>normal</code>|Draw samples from a normal (Gaussian) distribution|\n",
    "| <code>beta</code>|Draw samples from a beta distribution|\n",
    "| <code>chisquare</code>|Draw samples from a chi-square distribution|\n",
    "| <code>gamma</code>|Draw samples from a gamma distribution|\n",
    "| <code>uniform</code>|Draw samples from a uniform [0, 1) distribution|\n",
    "\n"
   ]
  },
  {
   "cell_type": "markdown",
   "metadata": {},
   "source": [
    "### Universal Functions: Fast Element-Wise Array\n",
    "\n"
   ]
  },
  {
   "cell_type": "markdown",
   "metadata": {},
   "source": [
    "A universal function, or *ufunc*, is a function that performs\n",
    "element-wise operations on data in ndarrays. You can think of them as\n",
    "fast vectorized wrappers for simple functions that take one or more\n",
    "scalar values and produce one or more scalar results.\n",
    "\n",
    "Many ufuncs are simple element-wise transformations, like `numpy.sqrt`\n",
    "or `numpy.exp`:\n",
    "\n"
   ]
  },
  {
   "cell_type": "code",
   "execution_count": null,
   "metadata": {},
   "outputs": [],
   "source": [
    "arr = np.arange(10)\n",
    "arr"
   ]
  },
  {
   "cell_type": "code",
   "execution_count": null,
   "metadata": {},
   "outputs": [],
   "source": [
    "np.sqrt(arr)"
   ]
  },
  {
   "cell_type": "code",
   "execution_count": null,
   "metadata": {},
   "outputs": [],
   "source": [
    "np.exp(arr)"
   ]
  },
  {
   "cell_type": "markdown",
   "metadata": {},
   "source": [
    "These are referred to as *unary* ufuncs. Others, such as `numpy.add` or\n",
    "`numpy.maximum`, take two arrays (thus, *binary* ufuncs) and return a\n",
    "single array as the result:\n",
    "\n"
   ]
  },
  {
   "cell_type": "code",
   "execution_count": null,
   "metadata": {},
   "outputs": [],
   "source": [
    "x = rng.standard_normal(8)\n",
    "x"
   ]
  },
  {
   "cell_type": "code",
   "execution_count": null,
   "metadata": {},
   "outputs": [],
   "source": [
    "y = rng.standard_normal(8)\n",
    "y"
   ]
  },
  {
   "cell_type": "code",
   "execution_count": null,
   "metadata": {},
   "outputs": [],
   "source": [
    "np.maximum(x, y)"
   ]
  },
  {
   "cell_type": "markdown",
   "metadata": {},
   "source": [
    "In this example, `numpy.maximum` computed the element-wise maximum of\n",
    "the elements in `x` and `y`.\n",
    "\n",
    "While not common, a ufunc can return multiple arrays. `numpy.modf` is\n",
    "one example: a vectorized version of the built-in Python `math.modf`, it\n",
    "returns the fractional and integral parts of a floating-point array:\n",
    "\n"
   ]
  },
  {
   "cell_type": "code",
   "execution_count": null,
   "metadata": {},
   "outputs": [],
   "source": [
    "arr = rng.standard_normal(7) * 5\n",
    "arr"
   ]
  },
  {
   "cell_type": "code",
   "execution_count": null,
   "metadata": {},
   "outputs": [],
   "source": [
    "remainder, whole_part = np.modf(arr)\n",
    "remainder"
   ]
  },
  {
   "cell_type": "code",
   "execution_count": null,
   "metadata": {},
   "outputs": [],
   "source": [
    "whole_part"
   ]
  },
  {
   "cell_type": "markdown",
   "metadata": {},
   "source": [
    "Ufuncs accept an optional `out` argument that allows them to assign\n",
    "their results into an existing array rather than create a new one:\n",
    "\n"
   ]
  },
  {
   "cell_type": "code",
   "execution_count": null,
   "metadata": {},
   "outputs": [],
   "source": [
    "arr"
   ]
  },
  {
   "cell_type": "code",
   "execution_count": null,
   "metadata": {},
   "outputs": [],
   "source": [
    "np.add(arr, 1)"
   ]
  },
  {
   "cell_type": "code",
   "execution_count": null,
   "metadata": {},
   "outputs": [],
   "source": [
    "out = np.zeros_like(arr)\n",
    "out"
   ]
  },
  {
   "cell_type": "code",
   "execution_count": null,
   "metadata": {},
   "outputs": [],
   "source": [
    "np.add(arr, 1, out=out)\n",
    "out"
   ]
  },
  {
   "cell_type": "markdown",
   "metadata": {},
   "source": [
    "Here are two lists of some of NumPy' ufuncs. New ufuncs continue to be added\n",
    "to NumPy, so consulting the online NumPy documentation is the best way\n",
    "to get a comprehensive listing and stay up to date.\n",
    "\n",
    "\n",
    "| Function|Description|\n",
    "|---|---|\n",
    "| <code>abs, fabs</code>|Compute the absolute value element-wise for integer, floating-point, or complex values|\n",
    "| <code>sqrt</code>|Compute the square root of each element (equivalent to <code>arr ** 0.5</code>)|\n",
    "| <code>square</code>|Compute the square of each element (equivalent to <code>arr ** 2</code>)|\n",
    "| <code>exp</code>|Compute the exponent e<sup>x</sup> of each element|\n",
    "| <code>log, log10, log2, log1p</code>|Natural logarithm (base <i>e</i>), log base 10, log base 2, and log(1 + x), respectively|\n",
    "| <code>sign</code>|Compute the sign of each element: 1 (positive), 0 (zero), or &#x2013;1 (negative)|\n",
    "| <code>ceil</code>|Compute the ceiling of each element (i.e., the smallest integer greater than or equal to that number)|\n",
    "| <code>floor</code>|Compute the floor of each element (i.e., the largest integer less than or equal to each element)|\n",
    "| <code>rint</code>|Round elements to the nearest integer, preserving the <code>dtype</code>|\n",
    "| <code>modf</code>|Return fractional and integral parts of array as separate arrays|\n",
    "| <code>isnan</code>|Return Boolean array indicating whether each value is <code>NaN</code> (Not a Number)|\n",
    "| <code>isfinite, isinf</code>|Return Boolean array indicating whether each element is finite (non-<code>inf</code>, non-<code>NaN</code>) or infinite, respectively|\n",
    "| <code>cos, cosh, sin, sinh, tan, tanh</code>|Regular and hyperbolic trigonometric functions|\n",
    "| <code>arccos, arccosh, arcsin, arcsinh, arctan, arctanh</code>|Inverse trigonometric functions|\n",
    "| <code>logical_not</code>|Compute truth value of <code>not</code> <code>x</code> element-wise (equivalent to <code>~arr</code>)|\n",
    "\n",
    "\n",
    "| Function|Description|\n",
    "|---|---|\n",
    "| <code>add</code>|Add corresponding elements in arrays|\n",
    "| <code>subtract</code>|Subtract elements in second array from first array|\n",
    "| <code>multiply</code>|Multiply array elements|\n",
    "| <code>divide, floor_divide</code>|Divide or floor divide (truncating the remainder)|\n",
    "| <code>power</code>|Raise elements in first array to powers indicated in second array|\n",
    "| <code>maximum, fmax</code>|Element-wise maximum; <code>fmax</code> ignores <code>NaN</code>|\n",
    "| <code>minimum, fmin</code>|Element-wise minimum; <code>fmin</code> ignores <code>NaN</code>|\n",
    "| <code>mod</code>|Element-wise modulus (remainder of division)|\n",
    "| <code>copysign</code>|Copy sign of values in second argument to values in first argument|\n",
    "| <code>greater, greater_equal, less, less_equal, equal, not_equal</code>|Perform element-wise comparison, yielding Boolean array (equivalent to infix operators <code>&gt;, &gt;</code>, &lt;, &lt;=, <code>=, !=</code>)|\n",
    "| <code>logical_and</code>|Compute element-wise truth value of AND (<code>&amp;</code>) logical operation|\n",
    "| <code>logical_or</code>|Compute element-wise truth value of OR (=|=) logical operation|\n",
    "| <code>logical_xor</code>|Compute element-wise truth value of XOR (<code>^</code>) logical operation|\n",
    "\n"
   ]
  },
  {
   "cell_type": "markdown",
   "metadata": {},
   "source": [
    "### Array-Oriented Programming with Arrays"
   ]
  },
  {
   "cell_type": "markdown",
   "metadata": {},
   "source": [
    "-   Using NumPy arrays enables you to express many kinds of data processing\n",
    "    tasks as concise array expressions that might otherwise require writing\n",
    "    loops. \n",
    "    -   This practice of replacing explicit loops with array expressions is referred to by some people as *vectorization*.\n",
    "    -   In general, vectorized array operations will usually be significantly faster than their pure Python equivalents, with the biggest impact in any kind of numerical computations.\n",
    "\n",
    "As a simple example, suppose we wished to evaluate the function\n",
    "`sqrt(x^2 + y^2)` across a regular grid of values.\n",
    "The `numpy.meshgrid`\n",
    "function takes two one-dimensional arrays and produces two\n",
    "two-dimensional matrices corresponding to all pairs of `(x, y)` in the\n",
    "two arrays:\n",
    "\n"
   ]
  },
  {
   "cell_type": "code",
   "execution_count": null,
   "metadata": {},
   "outputs": [],
   "source": [
    "points = np.arange(-5, 5, 0.01) # 100 equally spaced points\n",
    "xs, ys = np.meshgrid(points, points)\n",
    "xs"
   ]
  },
  {
   "cell_type": "code",
   "execution_count": null,
   "metadata": {},
   "outputs": [],
   "source": [
    "ys"
   ]
  },
  {
   "cell_type": "markdown",
   "metadata": {},
   "source": [
    "Now, evaluating the function is a matter of writing the same expression\n",
    "you would write with two points:\n",
    "\n"
   ]
  },
  {
   "cell_type": "code",
   "execution_count": null,
   "metadata": {},
   "outputs": [],
   "source": [
    "z = np.sqrt(xs ** 2 + ys ** 2)\n",
    "z"
   ]
  },
  {
   "cell_type": "markdown",
   "metadata": {},
   "source": [
    "Here, I used the matplotlib function\n",
    "`imshow` to create an image plot from a two-dimensional array of\n",
    "function values.\n",
    "\n"
   ]
  },
  {
   "cell_type": "code",
   "execution_count": null,
   "metadata": {},
   "outputs": [],
   "source": [
    "import matplotlib.pyplot as plt\n",
    "plt.imshow(z, cmap=plt.cm.gray, extent=[-5, 5, -5, 5])\n",
    "plt.colorbar()\n",
    "plt.title(\"Image plot of $\\sqrt{x^2 + y^2}$ for a grid of values\")\n",
    "plt.show()"
   ]
  },
  {
   "cell_type": "markdown",
   "metadata": {},
   "source": [
    "#### Expressing Conditional Logic as Array\n",
    "\n"
   ]
  },
  {
   "cell_type": "markdown",
   "metadata": {},
   "source": [
    "The `numpy.where` function is a vectorized version of the ternary\n",
    "expression `x if condition else y`. Suppose we had a Boolean array and\n",
    "two arrays of values:\n",
    "\n"
   ]
  },
  {
   "cell_type": "code",
   "execution_count": null,
   "metadata": {},
   "outputs": [],
   "source": [
    "xarr = np.array([1.1, 1.2, 1.3, 1.4, 1.5])\n",
    "yarr = np.array([2.1, 2.2, 2.3, 2.4, 2.5])\n",
    "cond = np.array([True, False, True, True, False])"
   ]
  },
  {
   "cell_type": "markdown",
   "metadata": {},
   "source": [
    "Suppose we wanted to take a value from `xarr` whenever the corresponding\n",
    "value in `cond` is `True`, and otherwise take the value from `yarr`. A\n",
    "list comprehension doing this might look like:\n",
    "\n"
   ]
  },
  {
   "cell_type": "code",
   "execution_count": null,
   "metadata": {},
   "outputs": [],
   "source": [
    "result = [(x if c else y) for x, y, c in zip(xarr, yarr, cond)]\n",
    "result"
   ]
  },
  {
   "cell_type": "markdown",
   "metadata": {},
   "source": [
    "This has multiple problems. \n",
    "- First, it will not be very fast for large arrays (because all the work is being done in interpreted Python code).\n",
    "- Second, it will not work with multidimensional arrays.\n",
    "\n",
    "With `numpy.where` you can do this with a single function call:"
   ]
  },
  {
   "cell_type": "code",
   "execution_count": null,
   "metadata": {},
   "outputs": [],
   "source": [
    "result = np.where(cond, xarr, yarr)\n",
    "result"
   ]
  },
  {
   "cell_type": "markdown",
   "metadata": {},
   "source": [
    "- The second and third arguments to `numpy.where` don't need to be arrays; one or both of them can be scalars.\n",
    "- A typical use of `where` in data\n",
    "analysis is to produce a new array of values based on another array.\n",
    "\n",
    "Suppose you had a matrix of randomly generated data and you wanted to\n",
    "replace all positive values with 2 and all negative values with -2.\n",
    "This is possible to do with `numpy.where`:\n",
    "\n"
   ]
  },
  {
   "cell_type": "code",
   "execution_count": null,
   "metadata": {},
   "outputs": [],
   "source": [
    "arr = rng.standard_normal((4, 4))\n",
    "arr"
   ]
  },
  {
   "cell_type": "code",
   "execution_count": null,
   "metadata": {},
   "outputs": [],
   "source": [
    "np.where(arr > 0, 2, -2)"
   ]
  },
  {
   "cell_type": "markdown",
   "metadata": {},
   "source": [
    "You can combine scalars and arrays when using `numpy.where`. For\n",
    "example, I can trim all values larger than 1 in `arr` to 1, like so:"
   ]
  },
  {
   "cell_type": "code",
   "execution_count": null,
   "metadata": {},
   "outputs": [],
   "source": [
    "np.where(arr > 1, 1, arr) # trim larger values to 1"
   ]
  },
  {
   "cell_type": "markdown",
   "metadata": {},
   "source": [
    "#### Mathematical and Statistical\n",
    "\n"
   ]
  },
  {
   "cell_type": "markdown",
   "metadata": {},
   "source": [
    "A set of mathematical functions that compute statistics about an entire\n",
    "array or about the data along an axis are accessible as methods of the\n",
    "array class. You can use aggregations (sometimes called *reductions*)\n",
    "like `sum`, `mean`, and `std` (standard deviation) either by calling the\n",
    "array instance method or using the top-level NumPy function. When you\n",
    "use the NumPy function, like `numpy.sum`, you have to pass the array you\n",
    "want to aggregate as the first argument.\n",
    "\n",
    "Here I generate some normally distributed random data and compute some\n",
    "aggregate statistics:\n",
    "\n"
   ]
  },
  {
   "cell_type": "code",
   "execution_count": null,
   "metadata": {},
   "outputs": [],
   "source": [
    "arr = rng.standard_normal((5, 4))\n",
    "arr"
   ]
  },
  {
   "cell_type": "code",
   "execution_count": null,
   "metadata": {},
   "outputs": [],
   "source": [
    "arr.mean()"
   ]
  },
  {
   "cell_type": "code",
   "execution_count": null,
   "metadata": {},
   "outputs": [],
   "source": [
    "np.mean(arr)"
   ]
  },
  {
   "cell_type": "code",
   "execution_count": null,
   "metadata": {},
   "outputs": [],
   "source": [
    "arr.sum()"
   ]
  },
  {
   "cell_type": "markdown",
   "metadata": {},
   "source": [
    "Functions like `mean` and `sum` take an optional `axis` argument that\n",
    "computes the statistic over the given axis, resulting in an array with\n",
    "one less dimension:\n",
    "\n"
   ]
  },
  {
   "cell_type": "code",
   "execution_count": null,
   "metadata": {},
   "outputs": [],
   "source": [
    "arr.mean(axis=1)"
   ]
  },
  {
   "cell_type": "code",
   "execution_count": null,
   "metadata": {},
   "outputs": [],
   "source": [
    "arr.sum(axis=0)"
   ]
  },
  {
   "cell_type": "markdown",
   "metadata": {},
   "source": [
    "Here, `arr.mean(axis=1)` means \"compute mean across the columns,\" where\n",
    "`arr.sum(axis=0)` means \"compute sum down the rows.\"\n",
    "\n",
    "Other methods like `cumsum` and `cumprod` do not aggregate, instead\n",
    "producing an array of the intermediate results:\n",
    "\n"
   ]
  },
  {
   "cell_type": "code",
   "execution_count": null,
   "metadata": {},
   "outputs": [],
   "source": [
    "arr = np.array([0, 1, 2, 3, 4, 5, 6, 7])\n",
    "arr.cumsum()"
   ]
  },
  {
   "cell_type": "markdown",
   "metadata": {},
   "source": [
    "In multidimensional arrays, accumulation functions like `cumsum` return\n",
    "an array of the same size but with the partial aggregates computed along\n",
    "the indicated axis according to each lower dimensional slice:\n",
    "\n"
   ]
  },
  {
   "cell_type": "code",
   "execution_count": null,
   "metadata": {},
   "outputs": [],
   "source": [
    "arr = np.array([[0, 1, 2], [3, 4, 5], [6, 7, 8]])\n",
    "arr"
   ]
  },
  {
   "cell_type": "markdown",
   "metadata": {},
   "source": [
    "The expression `arr.cumsum(axis=0)` computes the cumulative sum along\n",
    "the rows, while `arr.cumsum(axis=1)` computes the sums along the\n",
    "columns:\n",
    "\n"
   ]
  },
  {
   "cell_type": "code",
   "execution_count": null,
   "metadata": {},
   "outputs": [],
   "source": [
    "arr.cumsum(axis=0)"
   ]
  },
  {
   "cell_type": "code",
   "execution_count": null,
   "metadata": {},
   "outputs": [],
   "source": [
    "arr.cumsum(axis=1)"
   ]
  },
  {
   "cell_type": "markdown",
   "metadata": {},
   "source": [
    "\n",
    "| Method|Description|\n",
    "|---|---|\n",
    "| <code>sum</code>|Sum of all the elements in the array or along an axis; zero-length arrays have sum 0|\n",
    "| <code>mean</code>|Arithmetic mean; invalid (returns <code>NaN</code>) on zero-length arrays|\n",
    "| <code>std, var</code>|Standard deviation and variance, respectively|\n",
    "| <code>min, max</code>|Minimum and maximum|\n",
    "| <code>argmin, argmax</code>|Indices of minimum and maximum elements, respectively|\n",
    "| <code>cumsum</code>|Cumulative sum of elements starting from 0|\n",
    "| <code>cumprod</code>|Cumulative product of elements starting from 1|\n",
    "\n"
   ]
  },
  {
   "cell_type": "markdown",
   "metadata": {},
   "source": [
    "#### Methods for Boolean\n",
    "\n"
   ]
  },
  {
   "cell_type": "markdown",
   "metadata": {},
   "source": [
    "Boolean values are coerced to 1 (`True`) and 0 (`False`) in the\n",
    "preceding methods. Thus, `sum` is often used as a means of counting\n",
    "`True` values in a Boolean array:\n",
    "\n"
   ]
  },
  {
   "cell_type": "code",
   "execution_count": null,
   "metadata": {},
   "outputs": [],
   "source": [
    "arr = rng.standard_normal(100)\n",
    "(arr > 0).sum() # Number of positive values"
   ]
  },
  {
   "cell_type": "code",
   "execution_count": null,
   "metadata": {},
   "outputs": [],
   "source": [
    "(arr <= 0).sum() # Number of non-positive values"
   ]
  },
  {
   "cell_type": "markdown",
   "metadata": {},
   "source": [
    "The parentheses here in the expression `(arr > 0).sum()` are necessary\n",
    "to be able to call `sum()` on the temporary result of `arr > 0`.\n",
    "\n",
    "Two additional methods, `any` and `all`, are useful especially for\n",
    "Boolean arrays. `any` tests whether one or more values in an array is\n",
    "`True`, while `all` checks if every value is `True`:\n",
    "\n"
   ]
  },
  {
   "cell_type": "code",
   "execution_count": null,
   "metadata": {},
   "outputs": [],
   "source": [
    "bools = np.array([False, False, True, False])\n",
    "bools.any()"
   ]
  },
  {
   "cell_type": "code",
   "execution_count": null,
   "metadata": {},
   "outputs": [],
   "source": [
    "bools.all()"
   ]
  },
  {
   "cell_type": "markdown",
   "metadata": {},
   "source": [
    "These methods also work with non-Boolean arrays, where nonzero elements\n",
    "are treated as `True`.\n",
    "\n"
   ]
  },
  {
   "cell_type": "markdown",
   "metadata": {},
   "source": [
    "#### Sorting"
   ]
  },
  {
   "cell_type": "markdown",
   "metadata": {},
   "source": [
    "Like Python's built-in list type, NumPy arrays can be sorted in place\n",
    "with the `sort` method:\n",
    "\n"
   ]
  },
  {
   "cell_type": "code",
   "execution_count": null,
   "metadata": {},
   "outputs": [],
   "source": [
    "arr = rng.standard_normal(6)\n",
    "arr"
   ]
  },
  {
   "cell_type": "code",
   "execution_count": null,
   "metadata": {},
   "outputs": [],
   "source": [
    "arr.sort()\n",
    "arr"
   ]
  },
  {
   "cell_type": "markdown",
   "metadata": {},
   "source": [
    "You can sort each one-dimensional section of values in a\n",
    "multidimensional array in place along an axis by passing the axis number\n",
    "to `sort`. In this example data:\n",
    "\n"
   ]
  },
  {
   "cell_type": "code",
   "execution_count": null,
   "metadata": {},
   "outputs": [],
   "source": [
    "arr = rng.standard_normal((5, 3))\n",
    "arr"
   ]
  },
  {
   "cell_type": "markdown",
   "metadata": {},
   "source": [
    "`arr.sort(axis=0)` sorts the values within each column, while\n",
    "`arr.sort(axis=1)` sorts across each row:\n",
    "\n"
   ]
  },
  {
   "cell_type": "code",
   "execution_count": null,
   "metadata": {},
   "outputs": [],
   "source": [
    "arr.sort(axis=0)\n",
    "arr"
   ]
  },
  {
   "cell_type": "code",
   "execution_count": null,
   "metadata": {},
   "outputs": [],
   "source": [
    "arr.sort(axis=1)\n",
    "arr"
   ]
  },
  {
   "cell_type": "markdown",
   "metadata": {},
   "source": [
    "The top-level method `numpy.sort` returns a sorted copy of an array\n",
    "(like the Python built-in function `sorted`) instead of modifying the\n",
    "array in place. For example:\n",
    "\n"
   ]
  },
  {
   "cell_type": "code",
   "execution_count": null,
   "metadata": {},
   "outputs": [],
   "source": [
    "arr2 = np.array([5, -10, 7, 1, 0, -3])\n",
    "sorted_arr2 = np.sort(arr2)\n",
    "sorted_arr2"
   ]
  },
  {
   "cell_type": "markdown",
   "metadata": {},
   "source": [
    "#### Unique and Other Set\n",
    "\n"
   ]
  },
  {
   "cell_type": "markdown",
   "metadata": {},
   "source": [
    "NumPy has some basic set operations for one-dimensional ndarrays. A\n",
    "commonly used one is `numpy.unique`, which returns the sorted unique\n",
    "values in an array:\n",
    "\n"
   ]
  },
  {
   "cell_type": "code",
   "execution_count": null,
   "metadata": {},
   "outputs": [],
   "source": [
    "names = np.array([\"Bob\", \"Will\", \"Joe\", \"Bob\", \"Will\", \"Joe\", \"Joe\"])\n",
    "np.unique(names)"
   ]
  },
  {
   "cell_type": "code",
   "execution_count": null,
   "metadata": {},
   "outputs": [],
   "source": [
    "ints = np.array([3, 3, 3, 2, 2, 1, 1, 4, 4])\n",
    "np.unique(ints)"
   ]
  },
  {
   "cell_type": "markdown",
   "metadata": {},
   "source": [
    "Contrast `numpy.unique` with the pure Python alternative:\n",
    "\n"
   ]
  },
  {
   "cell_type": "code",
   "execution_count": null,
   "metadata": {},
   "outputs": [],
   "source": [
    "sorted(set(names))"
   ]
  },
  {
   "cell_type": "markdown",
   "metadata": {},
   "source": [
    "In many cases, the NumPy version is faster and returns a NumPy array\n",
    "rather than a Python list.\n",
    "\n",
    "Another function, `numpy.in1d`, tests membership of the values in one\n",
    "array in another, returning a Boolean array:\n",
    "\n"
   ]
  },
  {
   "cell_type": "code",
   "execution_count": null,
   "metadata": {},
   "outputs": [],
   "source": [
    "values = np.array([6, 0, 0, 3, 2, 5, 6])\n",
    "np.in1d(values, [2, 3, 6])"
   ]
  },
  {
   "cell_type": "markdown",
   "metadata": {},
   "source": [
    "Here is a listing of array set operations in NumPy.\n",
    "\n",
    "\n",
    "| Method|Description|\n",
    "|---|---|\n",
    "| <code>unique(x)</code>|Compute the sorted, unique elements in <code>x</code>|\n",
    "| <code>intersect1d(x, y)</code>|Compute the sorted, common elements in <code>x</code> and <code>y</code>|\n",
    "| <code>union1d(x, y)</code>|Compute the sorted union of elements|\n",
    "| <code>in1d(x, y)</code>|Compute a Boolean array indicating whether each element of <code>x</code> is contained in <code>y</code>|\n",
    "| <code>setdiff1d(x, y)</code>|Set difference, elements in <code>x</code> that are not in <code>y</code>|\n",
    "| <code>setxor1d(x, y)</code>|Set symmetric differences; elements that are in either of the arrays, but not both|\n",
    "\n"
   ]
  },
  {
   "cell_type": "markdown",
   "metadata": {},
   "source": [
    "### File Input and Output with\n",
    "\n"
   ]
  },
  {
   "cell_type": "markdown",
   "metadata": {},
   "source": [
    "NumPy is able to save and load data to and from disk in some text or\n",
    "binary formats.\n",
    "\n",
    "`numpy.save` and `numpy.load` are the two workhorse functions for\n",
    "efficiently saving and loading array data on disk. Arrays are saved by\n",
    "default in an uncompressed raw binary format with file extension *.npy*:\n",
    "\n"
   ]
  },
  {
   "cell_type": "code",
   "execution_count": null,
   "metadata": {},
   "outputs": [],
   "source": [
    "arr = np.arange(10)\n",
    "np.save(\"some_array\", arr)"
   ]
  },
  {
   "cell_type": "markdown",
   "metadata": {},
   "source": [
    "If the file path does not already end in *.npy*, the extension will be\n",
    "appended. The array on disk can then be loaded with `numpy.load`:\n",
    "\n"
   ]
  },
  {
   "cell_type": "code",
   "execution_count": null,
   "metadata": {},
   "outputs": [],
   "source": [
    "np.load(\"some_array.npy\")"
   ]
  },
  {
   "cell_type": "markdown",
   "metadata": {},
   "source": [
    "You can save multiple arrays in an uncompressed archive using\n",
    "`numpy.savez` and passing the arrays as keyword arguments:\n",
    "\n"
   ]
  },
  {
   "cell_type": "code",
   "execution_count": null,
   "metadata": {},
   "outputs": [],
   "source": [
    "np.savez(\"array_archive.npz\", a=arr, b=arr)"
   ]
  },
  {
   "cell_type": "markdown",
   "metadata": {},
   "source": [
    "When loading an *.npz* file, you get back a dictionary-like object that\n",
    "loads the individual arrays lazily:\n",
    "\n"
   ]
  },
  {
   "cell_type": "code",
   "execution_count": null,
   "metadata": {},
   "outputs": [],
   "source": [
    "arch = np.load(\"array_archive.npz\")\n",
    "arch[\"b\"]"
   ]
  },
  {
   "cell_type": "markdown",
   "metadata": {},
   "source": [
    "If your data compresses well, you may wish to use\n",
    "`numpy.savez_compressed` instead:\n",
    "\n"
   ]
  },
  {
   "cell_type": "code",
   "execution_count": null,
   "metadata": {},
   "outputs": [],
   "source": [
    "np.savez_compressed(\"arrays_compressed.npz\", a=arr, b=arr)"
   ]
  },
  {
   "cell_type": "markdown",
   "metadata": {},
   "source": [
    "### Linear Algebra\n",
    "\n"
   ]
  },
  {
   "cell_type": "markdown",
   "metadata": {},
   "source": [
    "Linear algebra operations, like matrix multiplication, decompositions,\n",
    "determinants, and other square matrix math, are an important part of\n",
    "many array libraries. Multiplying two two-dimensional arrays with `*` is\n",
    "an element-wise product, while matrix multiplications require either\n",
    "using the `dot` function or the `@` infix operator. `dot` is both an\n",
    "array method and a function in the `numpy` namespace for doing matrix\n",
    "multiplication:\n",
    "\n"
   ]
  },
  {
   "cell_type": "code",
   "execution_count": null,
   "metadata": {},
   "outputs": [],
   "source": [
    "x = np.array([[1., 2., 3.], [4., 5., 6.]])\n",
    "x"
   ]
  },
  {
   "cell_type": "code",
   "execution_count": null,
   "metadata": {},
   "outputs": [],
   "source": [
    "y = np.array([[6., 23.], [-1, 7], [8, 9]])\n",
    "y"
   ]
  },
  {
   "cell_type": "code",
   "execution_count": null,
   "metadata": {},
   "outputs": [],
   "source": [
    "x.dot(y)"
   ]
  },
  {
   "cell_type": "markdown",
   "metadata": {},
   "source": [
    "`x.dot(y)` is equivalent to `np.dot(x, y)`:\n",
    "\n"
   ]
  },
  {
   "cell_type": "code",
   "execution_count": null,
   "metadata": {},
   "outputs": [],
   "source": [
    "np.dot(x, y)"
   ]
  },
  {
   "cell_type": "markdown",
   "metadata": {},
   "source": [
    "A matrix product between a two-dimensional array and a suitably sized\n",
    "one-dimensional array results in a one-dimensional array:\n",
    "\n"
   ]
  },
  {
   "cell_type": "code",
   "execution_count": null,
   "metadata": {},
   "outputs": [],
   "source": [
    "x @ np.ones(3)"
   ]
  },
  {
   "cell_type": "markdown",
   "metadata": {},
   "source": [
    "`numpy.linalg` has a standard set of matrix decompositions and things\n",
    "like inverse and determinant:\n",
    "\n"
   ]
  },
  {
   "cell_type": "code",
   "execution_count": null,
   "metadata": {},
   "outputs": [],
   "source": [
    "from numpy.linalg import inv, qr\n",
    "X = rng.standard_normal((5, 5))\n",
    "X"
   ]
  },
  {
   "cell_type": "code",
   "execution_count": null,
   "metadata": {},
   "outputs": [],
   "source": [
    "mat = X.T @ X\n",
    "inv(mat)"
   ]
  },
  {
   "cell_type": "code",
   "execution_count": null,
   "metadata": {},
   "outputs": [],
   "source": [
    "mat @ inv(mat)"
   ]
  },
  {
   "cell_type": "markdown",
   "metadata": {},
   "source": [
    "The expression `X.T.dot(X)` computes the dot product of `X` with its\n",
    "transpose `X.T`.\n",
    "\n",
    "Here is a list of some of the most commonly used linear algebra functions.\n",
    "\n",
    "\n",
    "| Function|Description|\n",
    "|---|---|\n",
    "| <code>diag</code>|Return the diagonal (or off-diagonal) elements of a square matrix as a 1D array, or convert a 1D array into a square matrix with zeros on the off-diagonal|\n",
    "| <code>dot</code>|Matrix multiplication|\n",
    "| <code>trace</code>|Compute the sum of the diagonal elements|\n",
    "| <code>det</code>|Compute the matrix determinant|\n",
    "| <code>eig</code>|Compute the eigenvalues and eigenvectors of a square matrix|\n",
    "| <code>inv</code>|Compute the inverse of a square matrix|\n",
    "| <code>pinv</code>|Compute the Moore-Penrose pseudoinverse of a matrix|\n",
    "| <code>qr</code>|Compute the QR decomposition|\n",
    "| <code>svd</code>|Compute the singular value decomposition (SVD)|\n",
    "| <code>solve</code>|Solve the linear system Ax = b for x, where A is a square matrix|\n",
    "| <code>lstsq</code>|Compute the least-squares solution to <code>Ax = b</code>|\n",
    "\n"
   ]
  },
  {
   "cell_type": "markdown",
   "metadata": {},
   "source": [
    "### Example: Random\n",
    "\n"
   ]
  },
  {
   "cell_type": "markdown",
   "metadata": {},
   "source": [
    "The simulation of [*random\n",
    "walks*](https://en.wikipedia.org/wiki/Random_walk) provides an illustrative application of utilizing array\n",
    "operations. Let's first consider a simple random walk starting at 0 with\n",
    "steps of 1 and &#x2013;1 occurring with equal probability.\n",
    "\n",
    "Here is a pure Python way to implement a single random walk with 1,000\n",
    "steps using the built-in `random` module:\n",
    "\n"
   ]
  },
  {
   "cell_type": "code",
   "execution_count": null,
   "metadata": {},
   "outputs": [],
   "source": [
    "import random\n",
    "position = 0\n",
    "walk = [position]\n",
    "nsteps = 1000\n",
    "for _ in range(nsteps):\n",
    "    step = 1 if random.randint(0, 1) else -1\n",
    "    position += step\n",
    "    walk.append(position)"
   ]
  },
  {
   "cell_type": "code",
   "execution_count": null,
   "metadata": {},
   "outputs": [],
   "source": [
    "plt.plot(walk[:100])\n",
    "plt.show()"
   ]
  },
  {
   "cell_type": "markdown",
   "metadata": {},
   "source": [
    "You might make the observation that `walk` is the cumulative sum of the\n",
    "random steps and could be evaluated as an array expression. Thus, I use\n",
    "the `numpy.random` module to draw 1,000 coin flips at once, set these to\n",
    "1 and &#x2013;1, and compute the cumulative sum:\n",
    "\n"
   ]
  },
  {
   "cell_type": "code",
   "execution_count": null,
   "metadata": {},
   "outputs": [],
   "source": [
    "nsteps = 1000\n",
    "rng = np.random.default_rng(seed=12345)  # fresh random generator\n",
    "draws = rng.integers(0, 2, size=nsteps)"
   ]
  },
  {
   "cell_type": "code",
   "execution_count": null,
   "metadata": {},
   "outputs": [],
   "source": [
    "steps = np.where(draws == 0, 1, -1)\n",
    "walk = steps.cumsum()"
   ]
  },
  {
   "cell_type": "code",
   "execution_count": null,
   "metadata": {},
   "outputs": [],
   "source": [
    "plt.plot(walk[:100])\n",
    "plt.show()"
   ]
  }
 ],
 "metadata": {
  "kernelspec": {
   "display_name": "Python 3 (ipykernel)",
   "language": "python",
   "name": "python3"
  },
  "language_info": {
   "codemirror_mode": {
    "name": "ipython",
    "version": 3
   },
   "file_extension": ".py",
   "mimetype": "text/x-python",
   "name": "python",
   "nbconvert_exporter": "python",
   "pygments_lexer": "ipython3",
   "version": "3.11.4"
  },
  "org": null
 },
 "nbformat": 4,
 "nbformat_minor": 4
}
