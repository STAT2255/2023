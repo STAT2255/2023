{
 "cells": [
  {
   "cell_type": "markdown",
   "metadata": {},
   "source": [
    "## NumPy Basics: Arrays and Vectorized Computation\n",
    "\n"
   ]
  },
  {
   "cell_type": "markdown",
   "metadata": {},
   "source": [
    "### Introduction\n",
    "\n"
   ]
  },
  {
   "cell_type": "markdown",
   "metadata": {},
   "source": [
    "NumPy, short for Numerical Python, is one of the most important\n",
    "foundational packages for numerical computing in Python. \n",
    "\n"
   ]
  },
  {
   "cell_type": "code",
   "execution_count": 2,
   "metadata": {},
   "outputs": [],
   "source": [
    "import numpy as np\n",
    "np.random.seed(2255)\n",
    "import matplotlib.pyplot as plt"
   ]
  },
  {
   "cell_type": "markdown",
   "metadata": {},
   "source": [
    "Here are some of the things in NumPy:\n",
    "\n",
    "-   ndarray, an efficient multidimensional array providing fast\n",
    "    array-oriented arithmetic operations and flexible *broadcasting*\n",
    "    capabilities;\n",
    "-   Mathematical functions for fast operations on entire arrays of data\n",
    "    without having to write loops;\n",
    "-   Tools for reading/writing array data to disk and working with\n",
    "    memory-mapped files;\n",
    "-   Linear algebra, random number generation, and Fourier transform\n",
    "    capabilities;\n",
    "-   A C API for connecting NumPy with libraries written in C, C++, or\n",
    "    FORTRAN.\n",
    "\n",
    "To see the performance difference, consider a NumPy array of one million integers, and the equivalent Python list\n",
    "\n"
   ]
  },
  {
   "cell_type": "code",
   "execution_count": 3,
   "metadata": {},
   "outputs": [],
   "source": [
    "my_arr = np.arange(1_000_000)\n",
    "my_list = list(range(1_000_000))"
   ]
  },
  {
   "cell_type": "markdown",
   "metadata": {},
   "source": [
    "Now let's multiply each sequence by 2:\n",
    "\n"
   ]
  },
  {
   "cell_type": "code",
   "execution_count": 4,
   "metadata": {},
   "outputs": [
    {
     "name": "stdout",
     "output_type": "stream",
     "text": [
      "0.008174657821655273\n",
      "0.03271913528442383\n"
     ]
    }
   ],
   "source": [
    "import time\n",
    "\n",
    "start = time.time()\n",
    "my_arr2 = my_arr * 2 \n",
    "print(time.time() - start)\n",
    "\n",
    "start = time.time()\n",
    "my_list2 = [x * 2 for x in my_list]\n",
    "print(time.time() - start)"
   ]
  },
  {
   "cell_type": "markdown",
   "metadata": {},
   "source": [
    "NumPy-based algorithms are generally 10 to 100 times faster (or more)\n",
    "than their pure Python counterparts and use significantly less memory.\n",
    "\n"
   ]
  },
  {
   "cell_type": "markdown",
   "metadata": {},
   "source": [
    "### The NumPy ndarray: A Multidimensional Array\n",
    "\n"
   ]
  },
  {
   "cell_type": "markdown",
   "metadata": {},
   "source": [
    "One of the key features of NumPy is its N-dimensional array object, or\n",
    "ndarray, which is a fast, flexible container for large datasets in\n",
    "Python. Arrays enable you to perform mathematical operations on whole\n",
    "blocks of data using similar syntax to the equivalent operations between\n",
    "scalar elements.\n",
    "\n"
   ]
  },
  {
   "cell_type": "code",
   "execution_count": 5,
   "metadata": {},
   "outputs": [
    {
     "data": {
      "text/plain": [
       "array([[ 1.5, -0.1,  3. ],\n",
       "       [ 0. , -3. ,  6.5]])"
      ]
     },
     "execution_count": 5,
     "metadata": {},
     "output_type": "execute_result"
    }
   ],
   "source": [
    "data = np.array([[1.5, -0.1, 3], [0, -3, 6.5]])\n",
    "data"
   ]
  },
  {
   "cell_type": "markdown",
   "metadata": {},
   "source": [
    "Mathematical operations with `data`:\n",
    "\n"
   ]
  },
  {
   "cell_type": "code",
   "execution_count": 8,
   "metadata": {},
   "outputs": [
    {
     "data": {
      "text/plain": [
       "[[1.5, -0.1, 3], [0, -3, 6.5]]"
      ]
     },
     "execution_count": 8,
     "metadata": {},
     "output_type": "execute_result"
    }
   ],
   "source": [
    "L = [[1.5, -0.1, 3], [0, -3, 6.5]]\n",
    "L"
   ]
  },
  {
   "cell_type": "code",
   "execution_count": 10,
   "metadata": {},
   "outputs": [
    {
     "data": {
      "text/plain": [
       "[[1.5, -0.1, 3], [0, -3, 6.5], [1.5, -0.1, 3], [0, -3, 6.5]]"
      ]
     },
     "execution_count": 10,
     "metadata": {},
     "output_type": "execute_result"
    }
   ],
   "source": [
    "L * 2"
   ]
  },
  {
   "cell_type": "code",
   "execution_count": 11,
   "metadata": {},
   "outputs": [
    {
     "data": {
      "text/plain": [
       "array([[ 15.,  -1.,  30.],\n",
       "       [  0., -30.,  65.]])"
      ]
     },
     "execution_count": 11,
     "metadata": {},
     "output_type": "execute_result"
    }
   ],
   "source": [
    "data * 10"
   ]
  },
  {
   "cell_type": "code",
   "execution_count": 12,
   "metadata": {},
   "outputs": [
    {
     "data": {
      "text/plain": [
       "array([[ 3. , -0.2,  6. ],\n",
       "       [ 0. , -6. , 13. ]])"
      ]
     },
     "execution_count": 12,
     "metadata": {},
     "output_type": "execute_result"
    }
   ],
   "source": [
    "data + data"
   ]
  },
  {
   "cell_type": "code",
   "execution_count": 13,
   "metadata": {},
   "outputs": [
    {
     "data": {
      "text/plain": [
       "[[1.5, -0.1, 3], [0, -3, 6.5], [1.5, -0.1, 3], [0, -3, 6.5]]"
      ]
     },
     "execution_count": 13,
     "metadata": {},
     "output_type": "execute_result"
    }
   ],
   "source": [
    "L + L"
   ]
  },
  {
   "cell_type": "markdown",
   "metadata": {},
   "source": [
    "-   An ndarray is a generic multidimensional container for homogeneous data; that is, all of the elements must be the same type.\n",
    "-   Every array has a `shape`, a tuple indicating the size of each dimension, and a `dtype`, an object describing the *data type* of the array:\n",
    "\n"
   ]
  },
  {
   "cell_type": "code",
   "execution_count": 14,
   "metadata": {},
   "outputs": [
    {
     "data": {
      "text/plain": [
       "(2, 3)"
      ]
     },
     "execution_count": 14,
     "metadata": {},
     "output_type": "execute_result"
    }
   ],
   "source": [
    "data.shape"
   ]
  },
  {
   "cell_type": "code",
   "execution_count": 15,
   "metadata": {},
   "outputs": [
    {
     "data": {
      "text/plain": [
       "dtype('float64')"
      ]
     },
     "execution_count": 15,
     "metadata": {},
     "output_type": "execute_result"
    }
   ],
   "source": [
    "data.dtype"
   ]
  },
  {
   "cell_type": "markdown",
   "metadata": {},
   "source": [
    "#### Creating\n",
    "\n"
   ]
  },
  {
   "cell_type": "markdown",
   "metadata": {},
   "source": [
    "The easiest way to create an array is to use the `array` function. This\n",
    "accepts any sequence-like object (including other arrays) and produces a\n",
    "new NumPy array containing the passed data. For example, a list is a\n",
    "good candidate for conversion:\n",
    "\n"
   ]
  },
  {
   "cell_type": "code",
   "execution_count": 16,
   "metadata": {},
   "outputs": [
    {
     "data": {
      "text/plain": [
       "array([6. , 7.5, 8. , 0. , 1. ])"
      ]
     },
     "execution_count": 16,
     "metadata": {},
     "output_type": "execute_result"
    }
   ],
   "source": [
    "data1 = [6, 7.5, 8, 0, 1]\n",
    "arr1 = np.array(data1)\n",
    "arr1"
   ]
  },
  {
   "cell_type": "markdown",
   "metadata": {},
   "source": [
    "Nested sequences, like a list of equal-length lists, will be converted\n",
    "into a multidimensional array:\n",
    "\n"
   ]
  },
  {
   "cell_type": "code",
   "execution_count": 17,
   "metadata": {},
   "outputs": [
    {
     "data": {
      "text/plain": [
       "array([[1, 2, 3, 4],\n",
       "       [5, 6, 7, 8]])"
      ]
     },
     "execution_count": 17,
     "metadata": {},
     "output_type": "execute_result"
    }
   ],
   "source": [
    "data2 = [[1, 2, 3, 4], [5, 6, 7, 8]]\n",
    "arr2 = np.array(data2)\n",
    "arr2"
   ]
  },
  {
   "cell_type": "markdown",
   "metadata": {},
   "source": [
    "Since `data2` was a list of lists, the NumPy array `arr2` has two\n",
    "dimensions, with shape inferred from the data. We can confirm this by\n",
    "inspecting the `ndim` and `shape` attributes:\n",
    "\n"
   ]
  },
  {
   "cell_type": "code",
   "execution_count": 19,
   "metadata": {},
   "outputs": [
    {
     "data": {
      "text/plain": [
       "2"
      ]
     },
     "execution_count": 19,
     "metadata": {},
     "output_type": "execute_result"
    }
   ],
   "source": [
    "arr2.ndim"
   ]
  },
  {
   "cell_type": "code",
   "execution_count": 18,
   "metadata": {},
   "outputs": [
    {
     "data": {
      "text/plain": [
       "(2, 4)"
      ]
     },
     "execution_count": 18,
     "metadata": {},
     "output_type": "execute_result"
    }
   ],
   "source": [
    "arr2.shape"
   ]
  },
  {
   "cell_type": "markdown",
   "metadata": {},
   "source": [
    "Unless explicitly specified, `numpy.array` tries to infer a good data type for the array\n",
    "that it creates. The data type is stored in a special `dtype` metadata\n",
    "object; for example, in the previous two examples we have:\n",
    "\n"
   ]
  },
  {
   "cell_type": "code",
   "execution_count": 20,
   "metadata": {},
   "outputs": [
    {
     "data": {
      "text/plain": [
       "dtype('float64')"
      ]
     },
     "execution_count": 20,
     "metadata": {},
     "output_type": "execute_result"
    }
   ],
   "source": [
    "arr1.dtype"
   ]
  },
  {
   "cell_type": "code",
   "execution_count": 21,
   "metadata": {},
   "outputs": [
    {
     "data": {
      "text/plain": [
       "dtype('int64')"
      ]
     },
     "execution_count": 21,
     "metadata": {},
     "output_type": "execute_result"
    }
   ],
   "source": [
    "arr2.dtype"
   ]
  },
  {
   "cell_type": "markdown",
   "metadata": {},
   "source": [
    "In addition to `numpy.array`, there are a number of other functions for\n",
    "creating new arrays. As examples, `numpy.zeros` and `numpy.ones` create\n",
    "arrays of 0s or 1s, respectively, with a given length or shape.\n",
    "`numpy.empty` creates an array without initializing its values to any\n",
    "particular value. To create a higher dimensional array with these\n",
    "methods, pass a tuple for the shape:\n",
    "\n"
   ]
  },
  {
   "cell_type": "code",
   "execution_count": 22,
   "metadata": {},
   "outputs": [
    {
     "data": {
      "text/plain": [
       "array([0., 0., 0., 0., 0., 0., 0., 0., 0., 0.])"
      ]
     },
     "execution_count": 22,
     "metadata": {},
     "output_type": "execute_result"
    }
   ],
   "source": [
    "np.zeros(10)"
   ]
  },
  {
   "cell_type": "code",
   "execution_count": 23,
   "metadata": {},
   "outputs": [
    {
     "data": {
      "text/plain": [
       "array([[0., 0., 0., 0., 0., 0.],\n",
       "       [0., 0., 0., 0., 0., 0.],\n",
       "       [0., 0., 0., 0., 0., 0.]])"
      ]
     },
     "execution_count": 23,
     "metadata": {},
     "output_type": "execute_result"
    }
   ],
   "source": [
    "np.zeros((3, 6))"
   ]
  },
  {
   "cell_type": "code",
   "execution_count": 29,
   "metadata": {},
   "outputs": [
    {
     "data": {
      "text/plain": [
       "array([[0., 0., 0., 0., 0., 0.],\n",
       "       [0., 0., 0., 0., 0., 0.],\n",
       "       [0., 0., 0., 0., 0., 0.]])"
      ]
     },
     "execution_count": 29,
     "metadata": {},
     "output_type": "execute_result"
    }
   ],
   "source": [
    "np.empty((3, 6))"
   ]
  },
  {
   "cell_type": "code",
   "execution_count": 32,
   "metadata": {},
   "outputs": [
    {
     "data": {
      "text/plain": [
       "array([[[2.65539743e-314, 2.65539744e-314, 2.65539744e-314,\n",
       "         0.00000000e+000, 0.00000000e+000, 0.00000000e+000,\n",
       "         2.65539743e-314, 2.65539744e-314, 5.43472210e-323,\n",
       "         0.00000000e+000, 3.95252517e-323, 2.12199579e-314,\n",
       "                     nan, 2.20866881e-314, 4.44659081e-323,\n",
       "         1.06099790e-313, 1.18575755e-322, 2.16545126e-314,\n",
       "         4.94065646e-324, 2.24578852e-314, 4.44659081e-323,\n",
       "         1.06099790e-313, 2.12199580e-314, 2.16545126e-314,\n",
       "         9.88131292e-324, 2.24587915e-314, 4.44659081e-323,\n",
       "         1.06099790e-313,             nan, 2.25886228e-314,\n",
       "         2.12199582e-314, 2.25886138e-314, 5.78056806e-321,\n",
       "         2.25886228e-314, 2.42092166e-322, 2.25886230e-314,\n",
       "                     nan, 2.16545126e-314, 2.12199579e-314,\n",
       "         2.33419537e-313, 4.44659081e-323, 1.06099790e-313,\n",
       "         2.12199580e-314, 2.16545126e-314,             nan,\n",
       "         2.20866881e-314, 4.44659081e-323, 1.06099790e-313,\n",
       "         5.54341655e-321, 2.25886254e-314, 2.86558075e-322,\n",
       "         2.25886231e-314,             nan, 2.25886254e-314,\n",
       "         2.12199582e-314, 2.25886238e-314, 5.55329786e-321,\n",
       "         2.25886254e-314, 2.12199582e-314, 2.25886239e-314,\n",
       "                     nan, 0.00000000e+000, 0.00000000e+000,\n",
       "         0.00000000e+000, 4.94065646e-324, 2.18141167e-310,\n",
       "         2.86558075e-322, 2.25886243e-314,             nan,\n",
       "         2.25886254e-314],\n",
       "        [2.12199582e-314, 2.25886244e-314, 5.58788245e-321,\n",
       "         2.25886254e-314, 2.86558075e-322, 2.25886246e-314,\n",
       "                     nan, 2.16545126e-314, 2.12199579e-314,\n",
       "         1.27319747e-313, 4.44659081e-323, 1.06099790e-313,\n",
       "         1.18575755e-322, 2.16552904e-314,             nan,\n",
       "         2.20866883e-314, 1.27319748e-313, 2.12199579e-313,\n",
       "         8.39911598e-323, 2.25886249e-314, 2.25886218e-314,\n",
       "         4.94065646e-324, 4.44659081e-323, 5.51718906e-313,\n",
       "         2.12199580e-314, 2.16545126e-314, 4.94065646e-324,\n",
       "         2.24587909e-314, 4.44659081e-323, 1.06099790e-313,\n",
       "                     nan, 2.25886254e-314, 2.12199582e-314,\n",
       "         2.25886247e-314, 5.57306049e-321, 2.25886254e-314,\n",
       "         2.86558075e-322, 2.25886258e-314,             nan,\n",
       "         2.25886254e-314, 2.12199582e-314, 2.25886260e-314,\n",
       "         5.47424736e-321, 2.25886254e-314, 2.86558075e-322,\n",
       "         2.25886262e-314,             nan, 2.25886254e-314,\n",
       "         2.12199582e-314, 2.25886263e-314, 5.42978145e-321,\n",
       "         2.25886254e-314, 2.86558075e-322, 2.25886265e-314,\n",
       "                     nan, 2.25886254e-314, 2.12199582e-314,\n",
       "         2.25886266e-314, 1.18575755e-322, 2.25886254e-314,\n",
       "         6.76869935e-322, 2.24578852e-314,             nan,\n",
       "         2.20866883e-314, 2.24587915e-314, 4.44659081e-323,\n",
       "         5.51718906e-313, 2.12199629e-314, 2.25886269e-314,\n",
       "         2.12199582e-314],\n",
       "        [2.25886268e-314, 4.94065646e-324, 2.25886275e-314,\n",
       "         2.25886269e-314, 5.80527134e-321, 0.00000000e+000,\n",
       "         2.91498731e-322, 0.00000000e+000,             nan,\n",
       "         0.00000000e+000, 2.12199582e-314, 2.25886276e-314,\n",
       "         5.78056806e-321, 0.00000000e+000, 8.61938671e+183,\n",
       "         2.25886277e-314,             nan, 0.00000000e+000,\n",
       "         2.12199582e-314, 2.25886279e-314, 5.54835720e-321,\n",
       "         0.00000000e+000, 2.91498731e-322, 2.25886280e-314,\n",
       "                     nan, 0.00000000e+000, 2.12199582e-314,\n",
       "         2.25886282e-314, 5.55823852e-321, 0.00000000e+000,\n",
       "         5.98185421e-154, 2.25886284e-314,             nan,\n",
       "         0.00000000e+000, 2.12199582e-314, 2.25886285e-314,\n",
       "         5.56811983e-321, 0.00000000e+000, 2.91498731e-322,\n",
       "         2.25886287e-314,             nan, 0.00000000e+000,\n",
       "         2.12199582e-314, 2.25886288e-314, 5.58294180e-321,\n",
       "         0.00000000e+000, 1.23966917e+214, 2.25886290e-314,\n",
       "                     nan, 0.00000000e+000, 1.69759664e-313,\n",
       "         2.12199580e-314, 5.47918801e-321, 0.00000000e+000,\n",
       "         2.91498731e-322, 2.25886293e-314,             nan,\n",
       "         2.20866883e-314, 2.24587916e-314, 2.33419537e-313,\n",
       "         9.08290283e-320, 2.24587916e-314, 8.25691926e-296,\n",
       "         2.12199579e-314,             nan, 2.20866881e-314,\n",
       "         2.24587916e-314, 1.27319747e-313, 9.11452303e-320,\n",
       "         2.24587909e-314]],\n",
       "\n",
       "       [[7.01573217e-322, 2.24578852e-314,             nan,\n",
       "         2.20866883e-314, 2.24587916e-314, 2.33419537e-313,\n",
       "         9.14614324e-320, 2.24587916e-314, 3.82368683e-297,\n",
       "         2.12199579e-314,             nan, 2.20866881e-314,\n",
       "         2.24587916e-314, 1.27319747e-313, 9.17776344e-320,\n",
       "         2.24587909e-314, 7.06513874e-322, 2.24578852e-314,\n",
       "                     nan, 2.20866883e-314, 2.24587916e-314,\n",
       "         2.33419537e-313, 9.20938364e-320, 2.24587916e-314,\n",
       "         0.00000000e+000, 2.12199579e-314,             nan,\n",
       "         2.20866881e-314, 2.24587916e-314, 1.27319747e-313,\n",
       "         9.24100384e-320, 2.24587909e-314, 7.11454530e-322,\n",
       "         2.24578852e-314,             nan, 2.20866883e-314,\n",
       "         2.24587916e-314, 2.33419537e-313, 9.27262404e-320,\n",
       "         2.24587916e-314, 5.83290216e-302, 2.12199579e-314,\n",
       "                     nan, 2.20866881e-314, 2.24587916e-314,\n",
       "         1.27319747e-313, 0.00000000e+000, 2.24305803e-321,\n",
       "         0.00000000e+000, 2.25886330e-314,             nan,\n",
       "         0.00000000e+000, 2.12199582e-314, 2.25886295e-314,\n",
       "         5.46930670e-321, 0.00000000e+000, 2.12199582e-314,\n",
       "         2.25886322e-314,             nan, 0.00000000e+000,\n",
       "         2.12199582e-314, 2.25886323e-314, 5.44460342e-321,\n",
       "         0.00000000e+000, 2.91498731e-322, 2.25886325e-314,\n",
       "                     nan, 0.00000000e+000, 2.12199582e-314,\n",
       "         2.25886326e-314],\n",
       "        [3.45845952e-323, 2.25886330e-314, 2.25885505e-314,\n",
       "         2.25885604e-314, 2.25885678e-314, 2.25885818e-314,\n",
       "         2.25885941e-314, 2.25886135e-314, 2.25886275e-314,\n",
       "         2.12199640e-314, 2.25886329e-314, 2.24858135e-314,\n",
       "         2.12199579e-314, 3.45845952e-323, 2.25886335e-314,\n",
       "         2.25885500e-314, 2.25885599e-314, 2.25885673e-314,\n",
       "         2.25885812e-314, 2.25885936e-314, 2.25886129e-314,\n",
       "         2.25886269e-314, 2.12199579e-314, 2.25886335e-314,\n",
       "         0.00000000e+000, 2.24587909e-314, 7.31217156e-322,\n",
       "         2.24578852e-314,             nan, 2.20866883e-314,\n",
       "         2.24587916e-314, 2.33419537e-313, 9.52558565e-320,\n",
       "         2.24587916e-314, 0.00000000e+000, 2.12199579e-314,\n",
       "                     nan, 2.20866881e-314, 2.24587916e-314,\n",
       "         1.27319747e-313, 9.55720585e-320, 2.24587909e-314,\n",
       "         7.36157812e-322, 2.24578852e-314,             nan,\n",
       "         2.20866883e-314, 2.24587916e-314, 2.33419537e-313,\n",
       "         9.58882605e-320, 2.24587916e-314, 0.00000000e+000,\n",
       "         2.12199579e-314,             nan, 2.20866881e-314,\n",
       "         2.24587916e-314, 1.27319747e-313, 9.62044626e-320,\n",
       "         2.24587909e-314, 7.41098469e-322, 2.24578852e-314,\n",
       "                     nan, 2.20866883e-314, 9.88131292e-324,\n",
       "         2.19084432e-314, 0.00000000e+000, 2.65539743e-314,\n",
       "         0.00000000e+000, 0.00000000e+000, 0.00000000e+000,\n",
       "         0.00000000e+000],\n",
       "        [2.65539743e-314, 2.65539743e-314, 0.00000000e+000,\n",
       "         0.00000000e+000, 0.00000000e+000, 2.12199579e-314,\n",
       "                     nan, 2.20866883e-314, 2.24587916e-314,\n",
       "         2.33419537e-313, 9.71530686e-320, 2.24587916e-314,\n",
       "         0.00000000e+000, 2.12199579e-314,             nan,\n",
       "         2.20866881e-314, 2.24587916e-314, 1.27319747e-313,\n",
       "         9.74692706e-320, 2.24587909e-314, 7.50979782e-322,\n",
       "         2.24578852e-314,             nan, 2.20866883e-314,\n",
       "         2.24587916e-314, 2.33419537e-313, 9.77854726e-320,\n",
       "         2.24587916e-314, 0.00000000e+000, 2.12199579e-314,\n",
       "                     nan, 2.20866881e-314, 2.24587916e-314,\n",
       "         1.27319747e-313, 0.00000000e+000, 2.24587916e-314,\n",
       "         0.00000000e+000, 2.24578860e-314,             nan,\n",
       "         2.20866883e-314, 2.24587916e-314, 2.33419537e-313,\n",
       "         9.84178767e-320, 2.24587916e-314, 1.69116342e-306,\n",
       "         2.12199579e-314,             nan, 2.20866881e-314,\n",
       "         2.24587916e-314, 1.27319747e-313, 9.87340787e-320,\n",
       "         2.24587909e-314, 7.60861095e-322, 2.24578852e-314,\n",
       "                     nan, 2.20866883e-314, 2.24587916e-314,\n",
       "         2.33419537e-313, 9.90502807e-320, 2.24587916e-314,\n",
       "                     nan, 2.12199579e-314,             nan,\n",
       "         2.20866881e-314, 2.24587916e-314, 1.27319747e-313,\n",
       "         9.93664827e-320, 2.24587909e-314, 7.65801751e-322,\n",
       "         2.24578852e-314]]])"
      ]
     },
     "execution_count": 32,
     "metadata": {},
     "output_type": "execute_result"
    }
   ],
   "source": [
    "np.empty((2, 3, 70))"
   ]
  },
  {
   "cell_type": "markdown",
   "metadata": {},
   "source": [
    "It's not safe to assume that `numpy.empty` will return an array of all\n",
    "zeros. This function returns uninitialized memory and thus may contain\n",
    "nonzero \"garbage\" values. You should use this function only if you\n",
    "intend to populate the new array with data.\n",
    "\n",
    "`numpy.arange` is an array-valued version of the built-in Python `range`\n",
    "function:\n",
    "\n"
   ]
  },
  {
   "cell_type": "code",
   "execution_count": null,
   "metadata": {},
   "outputs": [],
   "source": [
    "np.arange(15)"
   ]
  },
  {
   "cell_type": "markdown",
   "metadata": {},
   "source": [
    "Here is a short list of standard array creation functions. Since NumPy is\n",
    "focused on numerical computing, the data type, if not specified, will in\n",
    "many cases be `float64` (floating point).\n",
    "\n",
    "\n",
    "| Function|Description|\n",
    "|---|---|\n",
    "| <code>array</code>|Convert input data (list, tuple, array, or other sequence type) to an ndarray either by inferring a data type or explicitly specifying a data type; copies the input data by default|\n",
    "| <code>asarray</code>|Convert input to ndarray, but do not copy if the input is already an ndarray|\n",
    "| <code>arange</code>|Like the built-in <code>range</code> but returns an ndarray instead of a list|\n",
    "| <code>ones, ones_like</code>|Produce an array of all 1s with the given shape and data type; <code>ones_like</code> takes another array and produces a <code>ones</code> array of the same shape and data type|\n",
    "| <code>zeros, zeros_like</code>|Like <code>ones</code> and <code>ones_like</code> but producing arrays of 0s instead|\n",
    "| <code>empty, empty_like</code>|Create new arrays by allocating new memory, but do not populate with any values like <code>ones</code> and <code>zeros</code>|\n",
    "| <code>full, full_like</code>|Produce an array of the given shape and data type with all values set to the indicated \"fill value\"; <code>full_like</code> takes another array and produces a filled array of the same shape and data type|\n",
    "| <code>eye, identity</code>|Create a square N × N identity matrix (1s on the diagonal and 0s elsewhere)|\n",
    "\n"
   ]
  },
  {
   "cell_type": "markdown",
   "metadata": {},
   "source": [
    "#### Data Types"
   ]
  },
  {
   "cell_type": "markdown",
   "metadata": {},
   "source": [
    "The *data type* or `dtype` is a special object containing the\n",
    "information (or *metadata*, data about data) the ndarray needs to\n",
    "interpret a chunk of memory as a particular type of data:\n",
    "\n"
   ]
  },
  {
   "cell_type": "code",
   "execution_count": null,
   "metadata": {},
   "outputs": [],
   "source": [
    "arr1 = np.array([1, 2, 3], dtype=np.float64)\n",
    "arr2 = np.array([1, 2, 3], dtype=np.int32)\n",
    "arr1.dtype, arr2.dtype"
   ]
  },
  {
   "cell_type": "markdown",
   "metadata": {},
   "source": [
    "Data types are a source of NumPy's flexibility for interacting with data\n",
    "coming from other systems. In most cases they provide a mapping directly\n",
    "onto an underlying disk or memory representation, which makes it\n",
    "possible to read and write binary streams of data to disk and to connect\n",
    "to code written in a low-level language like C or FORTRAN. The numerical\n",
    "data types are named the same way: a type name, like `float` or `int`,\n",
    "followed by a number indicating the number of bits per element. A\n",
    "standard double-precision floating-point value (what's used under the\n",
    "hood in Python's `float` object) takes up 8 bytes or 64 bits. Thus, this\n",
    "type is known in NumPy as `float64`.\n",
    "\n",
    "Here is a full listing of NumPy's supported data types.\n",
    "\n",
    "\n",
    "| Type|Type code|Description|\n",
    "|---|---|---|\n",
    "| <code>int8, uint8</code>|<code>i1, u1</code>|Signed and unsigned 8-bit (1 byte) integer types|\n",
    "| <code>int16, uint16</code>|<code>i2, u2</code>|Signed and unsigned 16-bit integer types|\n",
    "| <code>int32, uint32</code>|<code>i4, u4</code>|Signed and unsigned 32-bit integer types|\n",
    "| <code>int64, uint64</code>|<code>i8, u8</code>|Signed and unsigned 64-bit integer types|\n",
    "| <code>float16</code>|<code>f2</code>|Half-precision floating point|\n",
    "| <code>float32</code>|<code>f4 or f</code>|Standard single-precision floating point; compatible with C float|\n",
    "| <code>float64</code>|<code>f8 or d</code>|Standard double-precision floating point; compatible with C double and Python <code>float</code> object|\n",
    "| <code>float128</code>|<code>f16 or g</code>|Extended-precision floating point|\n",
    "| <code>complex64</code>, <code>complex128</code>, <code>complex256</code>|<code>c8, c16, c32</code>|Complex numbers represented by two 32, 64, or 128 floats, respectively|\n",
    "| <code>bool</code>|?|Boolean type storing <code>True</code> and <code>False</code> values|\n",
    "| <code>object</code>|O|Python object type; a value can be any Python object|\n",
    "| <code>string_</code>|S|Fixed-length ASCII string type (1 byte per character); for example, to create a string data type with length 10, use <code>'S10'</code>|\n",
    "| <code>unicode_</code>|U|Fixed-length Unicode type (number of bytes platform specific); same specification semantics as <code>string_</code> (e.g., <code>'U10'</code>)|\n",
    "\n",
    "You can explicitly convert or *cast* an array from one data type to\n",
    "another using ndarray's `astype` method:\n",
    "\n"
   ]
  },
  {
   "cell_type": "code",
   "execution_count": null,
   "metadata": {},
   "outputs": [],
   "source": [
    "arr = np.array([1, 2, 3, 4, 5])\n",
    "arr.dtype"
   ]
  },
  {
   "cell_type": "code",
   "execution_count": null,
   "metadata": {},
   "outputs": [],
   "source": [
    "float_arr = arr.astype(np.float64)\n",
    "float_arr\n",
    "float_arr.dtype"
   ]
  },
  {
   "cell_type": "code",
   "execution_count": null,
   "metadata": {},
   "outputs": [],
   "source": [
    "arr = np.array([3.7, -1.2, -2.6, 0.5, 12.9, 10.1])\n",
    "arr"
   ]
  },
  {
   "cell_type": "code",
   "execution_count": null,
   "metadata": {},
   "outputs": [],
   "source": [
    "arr.astype(np.int32)"
   ]
  },
  {
   "cell_type": "markdown",
   "metadata": {},
   "source": [
    "If you have an array of strings representing numbers, you can use\n",
    "`astype` to convert them to numeric form:\n",
    "\n"
   ]
  },
  {
   "cell_type": "code",
   "execution_count": null,
   "metadata": {},
   "outputs": [],
   "source": [
    "numeric_strings = np.array([\"1.25\", \"-9.6\", \"42\"], dtype=np.string_)\n",
    "numeric_strings"
   ]
  },
  {
   "cell_type": "code",
   "execution_count": null,
   "metadata": {},
   "outputs": [],
   "source": [
    "numeric_strings.astype(float)"
   ]
  },
  {
   "cell_type": "markdown",
   "metadata": {},
   "source": [
    "Be cautious when using the `numpy.string_` type, as string data in NumPy\n",
    "is fixed size and may truncate input without warning. pandas has more\n",
    "intuitive out-of-the-box behavior on non-numeric data.\n",
    "\n",
    "You can also use another array's `dtype` attribute:\n",
    "\n"
   ]
  },
  {
   "cell_type": "code",
   "execution_count": null,
   "metadata": {},
   "outputs": [],
   "source": [
    "int_array = np.arange(10)\n",
    "calibers = np.array([.22, .270, .357, .380, .44, .50], dtype=np.float64)\n",
    "int_array.astype(calibers.dtype)"
   ]
  },
  {
   "cell_type": "markdown",
   "metadata": {},
   "source": [
    "#### Arithmetic with NumPy\n",
    "\n"
   ]
  },
  {
   "cell_type": "markdown",
   "metadata": {},
   "source": [
    "Arrays are important because they enable you to express batch operations\n",
    "on data without writing any `for` loops. NumPy users call this\n",
    "*vectorization*. Any arithmetic operations between equal-size arrays\n",
    "apply the operation element-wise:\n",
    "\n"
   ]
  },
  {
   "cell_type": "code",
   "execution_count": null,
   "metadata": {},
   "outputs": [],
   "source": [
    "arr = np.array([[1., 2., 3.], [4., 5., 6.]])\n",
    "arr"
   ]
  },
  {
   "cell_type": "code",
   "execution_count": null,
   "metadata": {},
   "outputs": [],
   "source": [
    "arr * arr"
   ]
  },
  {
   "cell_type": "code",
   "execution_count": null,
   "metadata": {},
   "outputs": [],
   "source": [
    "arr - arr"
   ]
  },
  {
   "cell_type": "markdown",
   "metadata": {},
   "source": [
    "Arithmetic operations with scalars propagate the scalar argument to each\n",
    "element in the array:\n",
    "\n"
   ]
  },
  {
   "cell_type": "code",
   "execution_count": null,
   "metadata": {},
   "outputs": [],
   "source": [
    "1 / arr"
   ]
  },
  {
   "cell_type": "code",
   "execution_count": null,
   "metadata": {},
   "outputs": [],
   "source": [
    "arr ** 2"
   ]
  },
  {
   "cell_type": "markdown",
   "metadata": {},
   "source": [
    "Comparisons between arrays of the same size yield Boolean arrays:\n",
    "\n"
   ]
  },
  {
   "cell_type": "code",
   "execution_count": null,
   "metadata": {},
   "outputs": [],
   "source": [
    "arr2 = np.array([[0., 4., 1.], [7., 2., 12.]])\n",
    "arr2"
   ]
  },
  {
   "cell_type": "code",
   "execution_count": null,
   "metadata": {},
   "outputs": [],
   "source": [
    "arr2 > arr"
   ]
  },
  {
   "cell_type": "markdown",
   "metadata": {},
   "source": [
    "#### Basic Indexing and slicing"
   ]
  },
  {
   "cell_type": "markdown",
   "metadata": {},
   "source": [
    "NumPy array indexing is a deep topic, as there are many ways you may\n",
    "want to select a subset of your data or individual elements.\n",
    "One-dimensional arrays are simple; on the surface they act similarly to\n",
    "Python lists:\n",
    "\n"
   ]
  },
  {
   "cell_type": "code",
   "execution_count": null,
   "metadata": {},
   "outputs": [],
   "source": [
    "arr = np.arange(10)\n",
    "arr"
   ]
  },
  {
   "cell_type": "code",
   "execution_count": null,
   "metadata": {},
   "outputs": [],
   "source": [
    "arr[5]"
   ]
  },
  {
   "cell_type": "code",
   "execution_count": null,
   "metadata": {},
   "outputs": [],
   "source": [
    "arr[5:8]"
   ]
  },
  {
   "cell_type": "code",
   "execution_count": null,
   "metadata": {},
   "outputs": [],
   "source": [
    "arr[5:8] = 12\n",
    "arr"
   ]
  },
  {
   "cell_type": "markdown",
   "metadata": {},
   "source": [
    "As you can see, if you assign a scalar value to a slice, as in\n",
    "`arr[5:8] = 12`, the value is propagated (or *broadcast* henceforth) to\n",
    "the entire selection.\n",
    "\n",
    "An important first distinction from Python's built-in lists is that\n",
    "array slices are views on the original array. This means that the data\n",
    "is not copied, and any modifications to the view will be reflected in\n",
    "the source array.\n",
    "\n",
    "To give an example of this, I first create a slice of `arr`:\n",
    "\n"
   ]
  },
  {
   "cell_type": "code",
   "execution_count": null,
   "metadata": {},
   "outputs": [],
   "source": [
    "arr_slice = arr[5:8]\n",
    "arr_slice"
   ]
  },
  {
   "cell_type": "markdown",
   "metadata": {},
   "source": [
    "Now, when I change values in `arr_slice`, the mutations are reflected in\n",
    "the original array `arr`:\n",
    "\n"
   ]
  },
  {
   "cell_type": "code",
   "execution_count": null,
   "metadata": {},
   "outputs": [],
   "source": [
    "arr_slice[1] = 12345\n",
    "arr"
   ]
  },
  {
   "cell_type": "markdown",
   "metadata": {},
   "source": [
    "The \"bare\" slice `[:]` will assign to all values in an array:\n",
    "\n"
   ]
  },
  {
   "cell_type": "code",
   "execution_count": null,
   "metadata": {},
   "outputs": [],
   "source": [
    "arr_slice[:] = 64\n",
    "arr"
   ]
  },
  {
   "cell_type": "markdown",
   "metadata": {},
   "source": [
    "If you are new to NumPy, you might be surprised by this, especially if\n",
    "you have used other array programming languages that copy data more\n",
    "eagerly. As NumPy has been designed to be able to work with very large\n",
    "arrays, you could imagine performance and memory problems if NumPy\n",
    "insisted on always copying data.\n",
    "\n",
    "If you want a copy of a slice of an ndarray instead of a view, you will\n",
    "need to explicitly copy the array&#x2014;for example, `arr[5:8].copy()`. As\n",
    "you will see, pandas works this way, too.\n",
    "\n",
    "With higher dimensional arrays, you have many more options. In a\n",
    "two-dimensional array, the elements at each index are no longer scalars\n",
    "but rather one-dimensional arrays:\n",
    "\n"
   ]
  },
  {
   "cell_type": "code",
   "execution_count": null,
   "metadata": {},
   "outputs": [],
   "source": [
    "arr2d = np.array([[1, 2, 3], [4, 5, 6], [7, 8, 9]])\n",
    "arr2d"
   ]
  },
  {
   "cell_type": "code",
   "execution_count": null,
   "metadata": {},
   "outputs": [],
   "source": [
    "arr2d[2]"
   ]
  },
  {
   "cell_type": "markdown",
   "metadata": {},
   "source": [
    "Thus, individual elements can be accessed recursively. But that is a bit\n",
    "too much work, so you can pass a comma-separated list of indices to\n",
    "select individual elements. So these are equivalent:\n",
    "\n"
   ]
  },
  {
   "cell_type": "code",
   "execution_count": null,
   "metadata": {},
   "outputs": [],
   "source": [
    "arr2d[0][2]"
   ]
  },
  {
   "cell_type": "code",
   "execution_count": null,
   "metadata": {},
   "outputs": [],
   "source": [
    "arr2d[0, 2]"
   ]
  },
  {
   "cell_type": "markdown",
   "metadata": {},
   "source": [
    "![img](./figures/pda3_0401.png)\n",
    "\n",
    "In multidimensional arrays, if you omit later indices, the returned\n",
    "object will be a lower dimensional ndarray consisting of all the data\n",
    "along the higher dimensions. So in the 2 × 2 × 3 array `arr3d`:\n",
    "\n"
   ]
  },
  {
   "cell_type": "code",
   "execution_count": null,
   "metadata": {},
   "outputs": [],
   "source": [
    "arr3d = np.array([[[1, 2, 3], [4, 5, 6]], [[7, 8, 9], [10, 11, 12]]])\n",
    "arr3d"
   ]
  },
  {
   "cell_type": "markdown",
   "metadata": {},
   "source": [
    "`arr3d[0]` is a 2 × 3 array:\n",
    "\n"
   ]
  },
  {
   "cell_type": "code",
   "execution_count": null,
   "metadata": {},
   "outputs": [],
   "source": [
    "arr3d[0]"
   ]
  },
  {
   "cell_type": "markdown",
   "metadata": {},
   "source": [
    "Both scalar values and arrays can be assigned to `arr3d[0]`:\n",
    "\n"
   ]
  },
  {
   "cell_type": "code",
   "execution_count": null,
   "metadata": {},
   "outputs": [],
   "source": [
    "old_values = arr3d[0].copy()\n",
    "arr3d[0] = 42\n",
    "arr3d"
   ]
  },
  {
   "cell_type": "code",
   "execution_count": null,
   "metadata": {},
   "outputs": [],
   "source": [
    "arr3d[0] = old_values\n",
    "arr3d"
   ]
  },
  {
   "cell_type": "markdown",
   "metadata": {},
   "source": [
    "Similarly, `arr3d[1, 0]` gives you all of the values whose indices start\n",
    "with `(1, 0)`, forming a one-dimensional array:\n",
    "\n"
   ]
  },
  {
   "cell_type": "code",
   "execution_count": null,
   "metadata": {},
   "outputs": [],
   "source": [
    "arr3d[1, 0]"
   ]
  },
  {
   "cell_type": "markdown",
   "metadata": {},
   "source": [
    "This expression is the same as though we had indexed in two steps:\n",
    "\n"
   ]
  },
  {
   "cell_type": "code",
   "execution_count": null,
   "metadata": {},
   "outputs": [],
   "source": [
    "x = arr3d[1]\n",
    "x\n",
    "x[0]"
   ]
  },
  {
   "cell_type": "markdown",
   "metadata": {},
   "source": [
    "Note that in all of these cases where subsections of the array have been\n",
    "selected, the returned arrays are views.\n",
    "\n",
    "This multidimensional indexing syntax for NumPy arrays will not work\n",
    "with regular Python objects, such as lists of lists.\n",
    "\n"
   ]
  },
  {
   "cell_type": "markdown",
   "metadata": {},
   "source": [
    "##### Indexing with slices"
   ]
  },
  {
   "cell_type": "markdown",
   "metadata": {},
   "source": [
    "Like one-dimensional objects such as Python lists, ndarrays can be\n",
    "sliced with the familiar syntax:\n",
    "\n"
   ]
  },
  {
   "cell_type": "code",
   "execution_count": null,
   "metadata": {},
   "outputs": [],
   "source": [
    "arr\n",
    "arr[1:6]"
   ]
  },
  {
   "cell_type": "markdown",
   "metadata": {},
   "source": [
    "Consider the two-dimensional array from before, `arr2d`. Slicing this\n",
    "array is a bit different:\n",
    "\n"
   ]
  },
  {
   "cell_type": "code",
   "execution_count": null,
   "metadata": {},
   "outputs": [],
   "source": [
    "arr2d"
   ]
  },
  {
   "cell_type": "code",
   "execution_count": null,
   "metadata": {},
   "outputs": [],
   "source": [
    "arr2d[:2]"
   ]
  },
  {
   "cell_type": "markdown",
   "metadata": {},
   "source": [
    "As you can see, it has sliced along axis 0, the first axis. A slice,\n",
    "therefore, selects a range of elements along an axis. It can be helpful\n",
    "to read the expression `arr2d[:2]` as \"select the first two rows of\n",
    "`arr2d`.\"\n",
    "\n",
    "You can pass multiple slices just like you can pass multiple indexes:\n",
    "\n"
   ]
  },
  {
   "cell_type": "code",
   "execution_count": null,
   "metadata": {},
   "outputs": [],
   "source": [
    "arr2d[:2, 1:]"
   ]
  },
  {
   "cell_type": "markdown",
   "metadata": {},
   "source": [
    "When slicing like this, you always obtain array views of the same number\n",
    "of dimensions. By mixing integer indexes and slices, you get lower\n",
    "dimensional slices.\n",
    "\n",
    "For example, I can select the second row but only the first two columns,\n",
    "like so:\n",
    "\n"
   ]
  },
  {
   "cell_type": "code",
   "execution_count": null,
   "metadata": {},
   "outputs": [],
   "source": [
    "lower_dim_slice = arr2d[1, :2]\n",
    "lower_dim_slice"
   ]
  },
  {
   "cell_type": "markdown",
   "metadata": {},
   "source": [
    "Here, while `arr2d` is two-dimensional, `lower_dim_slice` is\n",
    "one-dimensional, and its shape is a tuple with one axis size:\n",
    "\n"
   ]
  },
  {
   "cell_type": "code",
   "execution_count": null,
   "metadata": {},
   "outputs": [],
   "source": [
    "lower_dim_slice.shape"
   ]
  },
  {
   "cell_type": "markdown",
   "metadata": {},
   "source": [
    "Similarly, I can select the third column but only the first two rows,\n",
    "like so:\n",
    "\n"
   ]
  },
  {
   "cell_type": "code",
   "execution_count": null,
   "metadata": {},
   "outputs": [],
   "source": [
    "arr2d[:2, 2]"
   ]
  },
  {
   "cell_type": "markdown",
   "metadata": {},
   "source": [
    "Note that a colon by itself means to take the\n",
    "entire axis, so you can slice only higher dimensional axes by doing:\n",
    "\n"
   ]
  },
  {
   "cell_type": "code",
   "execution_count": null,
   "metadata": {},
   "outputs": [],
   "source": [
    "arr2d[:, :1]"
   ]
  },
  {
   "cell_type": "markdown",
   "metadata": {},
   "source": [
    "Of course, assigning to a slice expression assigns to the whole\n",
    "selection:\n",
    "\n"
   ]
  },
  {
   "cell_type": "code",
   "execution_count": null,
   "metadata": {},
   "outputs": [],
   "source": [
    "arr2d[:2, 1:] = 0\n",
    "arr2d"
   ]
  },
  {
   "cell_type": "markdown",
   "metadata": {},
   "source": [
    "![img](./figures/pda3_0402.png)\n",
    "\n"
   ]
  },
  {
   "cell_type": "markdown",
   "metadata": {},
   "source": [
    "#### Boolean\n",
    "\n"
   ]
  },
  {
   "cell_type": "markdown",
   "metadata": {},
   "source": [
    "Let's consider an example where we have some data in an array and an\n",
    "array of names with duplicates:\n",
    "\n"
   ]
  },
  {
   "cell_type": "code",
   "execution_count": null,
   "metadata": {},
   "outputs": [],
   "source": [
    "names = np.array([\"Bob\", \"Joe\", \"Will\", \"Bob\", \"Will\", \"Joe\", \"Joe\"])\n",
    "names"
   ]
  },
  {
   "cell_type": "code",
   "execution_count": null,
   "metadata": {},
   "outputs": [],
   "source": [
    "data = np.array([[4, 7], [0, 2], [-5, 6], [0, 0], [1, 2], [-12, -4], [3, 4]])\n",
    "data"
   ]
  },
  {
   "cell_type": "markdown",
   "metadata": {},
   "source": [
    "Suppose each name corresponds to a row in the `data` array and we wanted\n",
    "to select all the rows with the corresponding name `\"Bob\"`. Like\n",
    "arithmetic operations, comparisons (such as `==`) with arrays are also\n",
    "vectorized. Thus, comparing `names` with the string `\"Bob\"` yields a\n",
    "Boolean array:\n",
    "\n"
   ]
  },
  {
   "cell_type": "code",
   "execution_count": null,
   "metadata": {},
   "outputs": [],
   "source": [
    "names == \"Bob\""
   ]
  },
  {
   "cell_type": "markdown",
   "metadata": {},
   "source": [
    "This Boolean array can be passed when indexing the array:\n",
    "\n"
   ]
  },
  {
   "cell_type": "code",
   "execution_count": null,
   "metadata": {},
   "outputs": [],
   "source": [
    "data[names == \"Bob\"]"
   ]
  },
  {
   "cell_type": "markdown",
   "metadata": {},
   "source": [
    "The Boolean array must be of the same length as the array axis it's\n",
    "indexing. You can even mix and match Boolean arrays with slices or\n",
    "integers (or sequences of integers; more on this later).\n",
    "\n",
    "In these examples, I select from the rows where `names =` \"Bob\"= and\n",
    "index the columns, too:\n",
    "\n"
   ]
  },
  {
   "cell_type": "code",
   "execution_count": null,
   "metadata": {},
   "outputs": [],
   "source": [
    "data[names == \"Bob\", 1:]"
   ]
  },
  {
   "cell_type": "code",
   "execution_count": null,
   "metadata": {},
   "outputs": [],
   "source": [
    "data[names == \"Bob\", 1]"
   ]
  },
  {
   "cell_type": "markdown",
   "metadata": {},
   "source": [
    "To select everything but `\"Bob\"` you can either use `!=` or negate the\n",
    "condition using `~`:\n",
    "\n"
   ]
  },
  {
   "cell_type": "code",
   "execution_count": null,
   "metadata": {},
   "outputs": [],
   "source": [
    "names != \"Bob\""
   ]
  },
  {
   "cell_type": "code",
   "execution_count": null,
   "metadata": {},
   "outputs": [],
   "source": [
    "~(names == \"Bob\")"
   ]
  },
  {
   "cell_type": "code",
   "execution_count": null,
   "metadata": {},
   "outputs": [],
   "source": [
    "data[names != \"Bob\"]"
   ]
  },
  {
   "cell_type": "markdown",
   "metadata": {},
   "source": [
    "The `~` operator can be useful when you want to invert a Boolean array\n",
    "referenced by a variable:\n",
    "\n"
   ]
  },
  {
   "cell_type": "code",
   "execution_count": null,
   "metadata": {},
   "outputs": [],
   "source": [
    "cond = names == \"Bob\"\n",
    "data[~cond]"
   ]
  },
  {
   "cell_type": "markdown",
   "metadata": {},
   "source": [
    "To select two of the three names to combine multiple Boolean conditions,\n",
    "use Boolean arithmetic operators like `&` (and) and `|` (or):\n",
    "\n"
   ]
  },
  {
   "cell_type": "code",
   "execution_count": null,
   "metadata": {},
   "outputs": [],
   "source": [
    "mask = (names == \"Bob\") | (names == \"Will\")\n",
    "mask"
   ]
  },
  {
   "cell_type": "code",
   "execution_count": null,
   "metadata": {},
   "outputs": [],
   "source": [
    "data[mask]"
   ]
  },
  {
   "cell_type": "markdown",
   "metadata": {},
   "source": [
    "Selecting data from an array by Boolean indexing and assigning the\n",
    "result to a new variable *always* creates a copy of the data, even if\n",
    "the returned array is unchanged.\n",
    "\n",
    "The Python keywords `and` and `or` do not work with Boolean arrays. Use\n",
    "`&` (and) and `|` (or) instead.\n",
    "\n",
    "Setting values with Boolean arrays works by substituting the value or\n",
    "values on the righthand side into the locations where the Boolean\n",
    "array's values are `True`. To set all of the negative values in `data`\n",
    "to 0, we need only do:\n",
    "\n"
   ]
  },
  {
   "cell_type": "code",
   "execution_count": null,
   "metadata": {},
   "outputs": [],
   "source": [
    "data[data < 0] = 0\n",
    "data"
   ]
  },
  {
   "cell_type": "markdown",
   "metadata": {},
   "source": [
    "You can also set whole rows or columns using a one-dimensional Boolean\n",
    "array:\n",
    "\n"
   ]
  },
  {
   "cell_type": "code",
   "execution_count": null,
   "metadata": {},
   "outputs": [],
   "source": [
    "data[names != \"Joe\"] = 7\n",
    "data"
   ]
  },
  {
   "cell_type": "markdown",
   "metadata": {},
   "source": [
    "As we will see later, these types of operations on two-dimensional data\n",
    "are convenient to do with pandas.\n",
    "\n"
   ]
  },
  {
   "cell_type": "markdown",
   "metadata": {},
   "source": [
    "#### Fancy indexing"
   ]
  },
  {
   "cell_type": "markdown",
   "metadata": {},
   "source": [
    "*Fancy indexing* is a term adopted by NumPy to describe indexing using\n",
    "integer arrays. Suppose we had an 8 × 4 array:\n",
    "\n"
   ]
  },
  {
   "cell_type": "code",
   "execution_count": null,
   "metadata": {},
   "outputs": [],
   "source": [
    "arr = np.zeros((8, 4))\n",
    "for i in range(8):\n",
    "    arr[i] = i\n",
    "arr"
   ]
  },
  {
   "cell_type": "markdown",
   "metadata": {},
   "source": [
    "To select a subset of the rows in a particular order, you can simply\n",
    "pass a list or ndarray of integers specifying the desired order:\n",
    "\n"
   ]
  },
  {
   "cell_type": "code",
   "execution_count": null,
   "metadata": {},
   "outputs": [],
   "source": [
    "arr[[4, 3, 0, 6]]"
   ]
  },
  {
   "cell_type": "markdown",
   "metadata": {},
   "source": [
    "Hopefully this code did what you expected! Using negative indices\n",
    "selects rows from the end:\n",
    "\n"
   ]
  },
  {
   "cell_type": "code",
   "execution_count": null,
   "metadata": {},
   "outputs": [],
   "source": [
    "arr[[-3, -5, -7]]"
   ]
  },
  {
   "cell_type": "markdown",
   "metadata": {},
   "source": [
    "Passing multiple index arrays does something slightly different; it\n",
    "selects a one-dimensional array of elements corresponding to each tuple\n",
    "of indices:\n",
    "\n"
   ]
  },
  {
   "cell_type": "code",
   "execution_count": null,
   "metadata": {},
   "outputs": [],
   "source": [
    "arr = np.arange(32).reshape((8, 4))\n",
    "arr"
   ]
  },
  {
   "cell_type": "code",
   "execution_count": null,
   "metadata": {},
   "outputs": [],
   "source": [
    "arr[[1, 5, 7, 2], [0, 3, 1, 2]]"
   ]
  },
  {
   "cell_type": "markdown",
   "metadata": {},
   "source": [
    "Here the elements `(1, 0), (5, 3), (7, 1)`, and `(2, 2)` were selected.\n",
    "The result of fancy indexing with as many integer arrays as there are\n",
    "axes is always one-dimensional.\n",
    "\n",
    "The behavior of fancy indexing in this case is a bit different from what\n",
    "some users might have expected (myself included), which is the\n",
    "rectangular region formed by selecting a subset of the matrix's rows and\n",
    "columns. Here is one way to get that:\n",
    "\n"
   ]
  },
  {
   "cell_type": "code",
   "execution_count": null,
   "metadata": {},
   "outputs": [],
   "source": [
    "arr[[1, 5, 7, 2]][:, [0, 3, 1, 2]]"
   ]
  },
  {
   "cell_type": "markdown",
   "metadata": {},
   "source": [
    "Keep in mind that fancy indexing, unlike slicing, always copies the data\n",
    "into a new array when assigning the result to a new variable. If you\n",
    "assign values with fancy indexing, the indexed values will be modified:\n",
    "\n"
   ]
  },
  {
   "cell_type": "code",
   "execution_count": null,
   "metadata": {},
   "outputs": [],
   "source": [
    "arr[[1, 5, 7, 2], [0, 3, 1, 2]] = 0\n",
    "arr"
   ]
  },
  {
   "cell_type": "markdown",
   "metadata": {},
   "source": [
    "#### Transposing Arrays and Swapping\n",
    "\n"
   ]
  },
  {
   "cell_type": "markdown",
   "metadata": {},
   "source": [
    "Transposing is a special form of reshaping that similarly returns a view\n",
    "on the underlying data without copying anything. Arrays have the\n",
    "`transpose` method and the special `T` attribute:\n",
    "\n"
   ]
  },
  {
   "cell_type": "code",
   "execution_count": null,
   "metadata": {},
   "outputs": [],
   "source": [
    "arr = np.arange(15).reshape((3, 5))\n",
    "arr"
   ]
  },
  {
   "cell_type": "code",
   "execution_count": null,
   "metadata": {},
   "outputs": [],
   "source": [
    "arr.T"
   ]
  },
  {
   "cell_type": "markdown",
   "metadata": {},
   "source": [
    "When doing matrix computations, you may do this very often&#x2014;for\n",
    "example, when computing the inner matrix product using `numpy.dot`:\n",
    "\n"
   ]
  },
  {
   "cell_type": "code",
   "execution_count": null,
   "metadata": {},
   "outputs": [],
   "source": [
    "arr = np.array([[0, 1, 0], [1, 2, -2], [6, 3, 2], [-1, 0, -1], [1, 0, 1]])\n",
    "arr"
   ]
  },
  {
   "cell_type": "code",
   "execution_count": null,
   "metadata": {},
   "outputs": [],
   "source": [
    "np.dot(arr.T, arr)"
   ]
  },
  {
   "cell_type": "markdown",
   "metadata": {},
   "source": [
    "The `@` infix operator is another way to do matrix multiplication:\n",
    "\n"
   ]
  },
  {
   "cell_type": "code",
   "execution_count": null,
   "metadata": {},
   "outputs": [],
   "source": [
    "arr.T @ arr"
   ]
  },
  {
   "cell_type": "markdown",
   "metadata": {},
   "source": [
    "Simple transposing with `.T` is a special case of swapping axes. ndarray\n",
    "has the method `swapaxes`, which takes a pair of axis numbers and\n",
    "switches the indicated axes to rearrange the data:\n",
    "\n"
   ]
  },
  {
   "cell_type": "code",
   "execution_count": null,
   "metadata": {},
   "outputs": [],
   "source": [
    "arr.swapaxes(0, 1)"
   ]
  },
  {
   "cell_type": "markdown",
   "metadata": {},
   "source": [
    "`swapaxes` similarly returns a view on the data without making a copy.\n",
    "\n"
   ]
  },
  {
   "cell_type": "markdown",
   "metadata": {},
   "source": [
    "### Pseudorandom Number\n",
    "\n"
   ]
  },
  {
   "cell_type": "markdown",
   "metadata": {},
   "source": [
    "The `numpy.random` module supplements the built-in Python `random`\n",
    "module with functions for efficiently generating whole arrays of sample\n",
    "values from many kinds of probability distributions. For example, you\n",
    "can get a 4 × 4 array of samples from the standard normal distribution\n",
    "using `numpy.random.standard_normal`:\n",
    "\n"
   ]
  },
  {
   "cell_type": "code",
   "execution_count": null,
   "metadata": {},
   "outputs": [],
   "source": [
    "samples = np.random.standard_normal(size=(4, 4))\n",
    "samples"
   ]
  },
  {
   "cell_type": "markdown",
   "metadata": {},
   "source": [
    "Python's built-in `random` module, by contrast, samples only one value\n",
    "at a time. As you can see from this benchmark, `numpy.random` is well\n",
    "over an order of magnitude faster for generating very large samples:\n",
    "\n"
   ]
  },
  {
   "cell_type": "code",
   "execution_count": null,
   "metadata": {},
   "outputs": [],
   "source": [
    "from random import normalvariate\n",
    "N = 1_000_000\n",
    "\n",
    "start = time.time()\n",
    "samples = [normalvariate(0, 1) for _ in range(N)]\n",
    "print(time.time() - start)\n",
    "\n",
    "start = time.time()\n",
    "np.random.standard_normal(N)\n",
    "print(time.time() - start)"
   ]
  },
  {
   "cell_type": "markdown",
   "metadata": {},
   "source": [
    "These random numbers are not truly random (rather, *pseudorandom*) but\n",
    "instead are generated by a configurable random number generator that\n",
    "determines deterministically what values are created. Functions like\n",
    "`numpy.random.standard_normal` use the `numpy.random` module's default\n",
    "random number generator, but your code can be configured to use an\n",
    "explicit generator:\n",
    "\n"
   ]
  },
  {
   "cell_type": "code",
   "execution_count": null,
   "metadata": {},
   "outputs": [],
   "source": [
    "rng = np.random.default_rng(seed=12345)\n",
    "data = rng.standard_normal((2, 3))\n",
    "data"
   ]
  },
  {
   "cell_type": "markdown",
   "metadata": {},
   "source": [
    "The `seed` argument is what determines the initial state of the\n",
    "generator, and the state changes each time the `rng` object is used to\n",
    "generate data. The generator object `rng` is also isolated from other\n",
    "code which might use the `numpy.random` module:\n",
    "\n"
   ]
  },
  {
   "cell_type": "code",
   "execution_count": null,
   "metadata": {},
   "outputs": [],
   "source": [
    "type(rng)"
   ]
  },
  {
   "cell_type": "markdown",
   "metadata": {},
   "source": [
    "Here is a partial list of methods available on random generator objects like\n",
    "`rng`.\n",
    "\n",
    "\n",
    "| Method|Description|\n",
    "|---|---|\n",
    "| <code>permutation</code>|Return a random permutation of a sequence, or return a permuted range|\n",
    "| <code>shuffle</code>|Randomly permute a sequence in place|\n",
    "| <code>uniform</code>|Draw samples from a uniform distribution|\n",
    "| <code>integers</code>|Draw random integers from a given low-to-high range|\n",
    "| <code>standard_normal</code>|Draw samples from a normal distribution with mean 0 and standard deviation 1|\n",
    "| <code>binomial</code>|Draw samples from a binomial distribution|\n",
    "| <code>normal</code>|Draw samples from a normal (Gaussian) distribution|\n",
    "| <code>beta</code>|Draw samples from a beta distribution|\n",
    "| <code>chisquare</code>|Draw samples from a chi-square distribution|\n",
    "| <code>gamma</code>|Draw samples from a gamma distribution|\n",
    "| <code>uniform</code>|Draw samples from a uniform [0, 1) distribution|\n",
    "\n"
   ]
  },
  {
   "cell_type": "markdown",
   "metadata": {},
   "source": [
    "### Universal Functions: Fast Element-Wise Array\n",
    "\n"
   ]
  },
  {
   "cell_type": "markdown",
   "metadata": {},
   "source": [
    "A universal function, or *ufunc*, is a function that performs\n",
    "element-wise operations on data in ndarrays. You can think of them as\n",
    "fast vectorized wrappers for simple functions that take one or more\n",
    "scalar values and produce one or more scalar results.\n",
    "\n",
    "Many ufuncs are simple element-wise transformations, like `numpy.sqrt`\n",
    "or `numpy.exp`:\n",
    "\n"
   ]
  },
  {
   "cell_type": "code",
   "execution_count": null,
   "metadata": {},
   "outputs": [],
   "source": [
    "arr = np.arange(10)\n",
    "arr"
   ]
  },
  {
   "cell_type": "code",
   "execution_count": null,
   "metadata": {},
   "outputs": [],
   "source": [
    "np.sqrt(arr)"
   ]
  },
  {
   "cell_type": "code",
   "execution_count": null,
   "metadata": {},
   "outputs": [],
   "source": [
    "np.exp(arr)"
   ]
  },
  {
   "cell_type": "markdown",
   "metadata": {},
   "source": [
    "These are referred to as *unary* ufuncs. Others, such as `numpy.add` or\n",
    "`numpy.maximum`, take two arrays (thus, *binary* ufuncs) and return a\n",
    "single array as the result:\n",
    "\n"
   ]
  },
  {
   "cell_type": "code",
   "execution_count": null,
   "metadata": {},
   "outputs": [],
   "source": [
    "x = rng.standard_normal(8)\n",
    "x"
   ]
  },
  {
   "cell_type": "code",
   "execution_count": null,
   "metadata": {},
   "outputs": [],
   "source": [
    "y = rng.standard_normal(8)\n",
    "y"
   ]
  },
  {
   "cell_type": "code",
   "execution_count": null,
   "metadata": {},
   "outputs": [],
   "source": [
    "np.maximum(x, y)"
   ]
  },
  {
   "cell_type": "markdown",
   "metadata": {},
   "source": [
    "In this example, `numpy.maximum` computed the element-wise maximum of\n",
    "the elements in `x` and `y`.\n",
    "\n",
    "While not common, a ufunc can return multiple arrays. `numpy.modf` is\n",
    "one example: a vectorized version of the built-in Python `math.modf`, it\n",
    "returns the fractional and integral parts of a floating-point array:\n",
    "\n"
   ]
  },
  {
   "cell_type": "code",
   "execution_count": null,
   "metadata": {},
   "outputs": [],
   "source": [
    "arr = rng.standard_normal(7) * 5\n",
    "arr"
   ]
  },
  {
   "cell_type": "code",
   "execution_count": null,
   "metadata": {},
   "outputs": [],
   "source": [
    "remainder, whole_part = np.modf(arr)\n",
    "remainder"
   ]
  },
  {
   "cell_type": "code",
   "execution_count": null,
   "metadata": {},
   "outputs": [],
   "source": [
    "whole_part"
   ]
  },
  {
   "cell_type": "markdown",
   "metadata": {},
   "source": [
    "Ufuncs accept an optional `out` argument that allows them to assign\n",
    "their results into an existing array rather than create a new one:\n",
    "\n"
   ]
  },
  {
   "cell_type": "code",
   "execution_count": null,
   "metadata": {},
   "outputs": [],
   "source": [
    "arr"
   ]
  },
  {
   "cell_type": "code",
   "execution_count": null,
   "metadata": {},
   "outputs": [],
   "source": [
    "np.add(arr, 1)"
   ]
  },
  {
   "cell_type": "code",
   "execution_count": null,
   "metadata": {},
   "outputs": [],
   "source": [
    "out = np.zeros_like(arr)\n",
    "out"
   ]
  },
  {
   "cell_type": "code",
   "execution_count": null,
   "metadata": {},
   "outputs": [],
   "source": [
    "np.add(arr, 1, out=out)\n",
    "out"
   ]
  },
  {
   "cell_type": "markdown",
   "metadata": {},
   "source": [
    "Here are two lists of some of NumPy' ufuncs. New ufuncs continue to be added\n",
    "to NumPy, so consulting the online NumPy documentation is the best way\n",
    "to get a comprehensive listing and stay up to date.\n",
    "\n",
    "\n",
    "| Function|Description|\n",
    "|---|---|\n",
    "| <code>abs, fabs</code>|Compute the absolute value element-wise for integer, floating-point, or complex values|\n",
    "| <code>sqrt</code>|Compute the square root of each element (equivalent to <code>arr ** 0.5</code>)|\n",
    "| <code>square</code>|Compute the square of each element (equivalent to <code>arr ** 2</code>)|\n",
    "| <code>exp</code>|Compute the exponent e<sup>x</sup> of each element|\n",
    "| <code>log, log10, log2, log1p</code>|Natural logarithm (base <i>e</i>), log base 10, log base 2, and log(1 + x), respectively|\n",
    "| <code>sign</code>|Compute the sign of each element: 1 (positive), 0 (zero), or &#x2013;1 (negative)|\n",
    "| <code>ceil</code>|Compute the ceiling of each element (i.e., the smallest integer greater than or equal to that number)|\n",
    "| <code>floor</code>|Compute the floor of each element (i.e., the largest integer less than or equal to each element)|\n",
    "| <code>rint</code>|Round elements to the nearest integer, preserving the <code>dtype</code>|\n",
    "| <code>modf</code>|Return fractional and integral parts of array as separate arrays|\n",
    "| <code>isnan</code>|Return Boolean array indicating whether each value is <code>NaN</code> (Not a Number)|\n",
    "| <code>isfinite, isinf</code>|Return Boolean array indicating whether each element is finite (non-<code>inf</code>, non-<code>NaN</code>) or infinite, respectively|\n",
    "| <code>cos, cosh, sin, sinh, tan, tanh</code>|Regular and hyperbolic trigonometric functions|\n",
    "| <code>arccos, arccosh, arcsin, arcsinh, arctan, arctanh</code>|Inverse trigonometric functions|\n",
    "| <code>logical_not</code>|Compute truth value of <code>not</code> <code>x</code> element-wise (equivalent to <code>~arr</code>)|\n",
    "\n",
    "\n",
    "| Function|Description|\n",
    "|---|---|\n",
    "| <code>add</code>|Add corresponding elements in arrays|\n",
    "| <code>subtract</code>|Subtract elements in second array from first array|\n",
    "| <code>multiply</code>|Multiply array elements|\n",
    "| <code>divide, floor_divide</code>|Divide or floor divide (truncating the remainder)|\n",
    "| <code>power</code>|Raise elements in first array to powers indicated in second array|\n",
    "| <code>maximum, fmax</code>|Element-wise maximum; <code>fmax</code> ignores <code>NaN</code>|\n",
    "| <code>minimum, fmin</code>|Element-wise minimum; <code>fmin</code> ignores <code>NaN</code>|\n",
    "| <code>mod</code>|Element-wise modulus (remainder of division)|\n",
    "| <code>copysign</code>|Copy sign of values in second argument to values in first argument|\n",
    "| <code>greater, greater_equal, less, less_equal, equal, not_equal</code>|Perform element-wise comparison, yielding Boolean array (equivalent to infix operators <code>&gt;, &gt;</code>, &lt;, &lt;=, <code>=, !=</code>)|\n",
    "| <code>logical_and</code>|Compute element-wise truth value of AND (<code>&amp;</code>) logical operation|\n",
    "| <code>logical_or</code>|Compute element-wise truth value of OR (=|=) logical operation|\n",
    "| <code>logical_xor</code>|Compute element-wise truth value of XOR (<code>^</code>) logical operation|\n",
    "\n"
   ]
  },
  {
   "cell_type": "markdown",
   "metadata": {},
   "source": [
    "### Array-Oriented Programming with Arrays"
   ]
  },
  {
   "cell_type": "markdown",
   "metadata": {},
   "source": [
    "-   Using NumPy arrays enables you to express many kinds of data processing\n",
    "    tasks as concise array expressions that might otherwise require writing\n",
    "    loops. \n",
    "    -   This practice of replacing explicit loops with array expressions is referred to by some people as *vectorization*.\n",
    "    -   In general, vectorized array operations will usually be significantly faster than their pure Python equivalents, with the biggest impact in any kind of numerical computations.\n",
    "\n",
    "As a simple example, suppose we wished to evaluate the function\n",
    "`sqrt(x^2 + y^2)` across a regular grid of values.\n",
    "The `numpy.meshgrid`\n",
    "function takes two one-dimensional arrays and produces two\n",
    "two-dimensional matrices corresponding to all pairs of `(x, y)` in the\n",
    "two arrays:\n",
    "\n"
   ]
  },
  {
   "cell_type": "code",
   "execution_count": null,
   "metadata": {},
   "outputs": [],
   "source": [
    "points = np.arange(-5, 5, 0.01) # 100 equally spaced points\n",
    "xs, ys = np.meshgrid(points, points)\n",
    "ys"
   ]
  },
  {
   "cell_type": "markdown",
   "metadata": {},
   "source": [
    "Now, evaluating the function is a matter of writing the same expression\n",
    "you would write with two points:\n",
    "\n"
   ]
  },
  {
   "cell_type": "code",
   "execution_count": null,
   "metadata": {},
   "outputs": [],
   "source": [
    "z = np.sqrt(xs ** 2 + ys ** 2)\n",
    "z"
   ]
  },
  {
   "cell_type": "markdown",
   "metadata": {},
   "source": [
    "Here, I used the matplotlib function\n",
    "`imshow` to create an image plot from a two-dimensional array of\n",
    "function values.\n",
    "\n"
   ]
  },
  {
   "cell_type": "code",
   "execution_count": null,
   "metadata": {},
   "outputs": [],
   "source": [
    "import matplotlib.pyplot as plt\n",
    "plt.imshow(z, cmap=plt.cm.gray, extent=[-5, 5, -5, 5])\n",
    "plt.colorbar()\n",
    "plt.title(\"Image plot of $\\sqrt{x^2 + y^2}$ for a grid of values\")\n",
    "plt.show()"
   ]
  },
  {
   "cell_type": "markdown",
   "metadata": {},
   "source": [
    "#### Expressing Conditional Logic as Array\n",
    "\n"
   ]
  },
  {
   "cell_type": "markdown",
   "metadata": {},
   "source": [
    "The `numpy.where` function is a vectorized version of the ternary\n",
    "expression `x if condition else y`. Suppose we had a Boolean array and\n",
    "two arrays of values:\n",
    "\n"
   ]
  },
  {
   "cell_type": "code",
   "execution_count": null,
   "metadata": {},
   "outputs": [],
   "source": [
    "xarr = np.array([1.1, 1.2, 1.3, 1.4, 1.5])\n",
    "yarr = np.array([2.1, 2.2, 2.3, 2.4, 2.5])\n",
    "cond = np.array([True, False, True, True, False])"
   ]
  },
  {
   "cell_type": "markdown",
   "metadata": {},
   "source": [
    "Suppose we wanted to take a value from `xarr` whenever the corresponding\n",
    "value in `cond` is `True`, and otherwise take the value from `yarr`. A\n",
    "list comprehension doing this might look like:\n",
    "\n"
   ]
  },
  {
   "cell_type": "code",
   "execution_count": null,
   "metadata": {},
   "outputs": [],
   "source": [
    "result = [(x if c else y) for x, y, c in zip(xarr, yarr, cond)]\n",
    "result"
   ]
  },
  {
   "cell_type": "markdown",
   "metadata": {},
   "source": [
    "This has multiple problems. First, it will not be very fast for large\n",
    "arrays (because all the work is being done in interpreted Python code).\n",
    "Second, it will not work with multidimensional arrays. With\n",
    "`numpy.where` you can do this with a single function call:\n",
    "\n"
   ]
  },
  {
   "cell_type": "code",
   "execution_count": null,
   "metadata": {},
   "outputs": [],
   "source": [
    "result = np.where(cond, xarr, yarr)\n",
    "result"
   ]
  },
  {
   "cell_type": "markdown",
   "metadata": {},
   "source": [
    "The second and third arguments to `numpy.where` don't need to be arrays;\n",
    "one or both of them can be scalars. A typical use of `where` in data\n",
    "analysis is to produce a new array of values based on another array.\n",
    "Suppose you had a matrix of randomly generated data and you wanted to\n",
    "replace all positive values with 2 and all negative values with &#x2013;2.\n",
    "This is possible to do with `numpy.where`:\n",
    "\n"
   ]
  },
  {
   "cell_type": "code",
   "execution_count": null,
   "metadata": {},
   "outputs": [],
   "source": [
    "arr = rng.standard_normal((4, 4))\n",
    "arr\n",
    "arr > 0\n",
    "np.where(arr > 0, 2, -2)"
   ]
  },
  {
   "cell_type": "markdown",
   "metadata": {},
   "source": [
    "You can combine scalars and arrays when using `numpy.where`. For\n",
    "example, I can replace all positive values in `arr` with the constant 2,\n",
    "like so:\n",
    "\n"
   ]
  },
  {
   "cell_type": "code",
   "execution_count": null,
   "metadata": {},
   "outputs": [],
   "source": [
    "np.where(arr > 0, 2, arr) # set only positive values to 2"
   ]
  },
  {
   "cell_type": "markdown",
   "metadata": {},
   "source": [
    "#### Mathematical and Statistical\n",
    "\n"
   ]
  },
  {
   "cell_type": "markdown",
   "metadata": {},
   "source": [
    "A set of mathematical functions that compute statistics about an entire\n",
    "array or about the data along an axis are accessible as methods of the\n",
    "array class. You can use aggregations (sometimes called *reductions*)\n",
    "like `sum`, `mean`, and `std` (standard deviation) either by calling the\n",
    "array instance method or using the top-level NumPy function. When you\n",
    "use the NumPy function, like `numpy.sum`, you have to pass the array you\n",
    "want to aggregate as the first argument.\n",
    "\n",
    "Here I generate some normally distributed random data and compute some\n",
    "aggregate statistics:\n",
    "\n"
   ]
  },
  {
   "cell_type": "code",
   "execution_count": null,
   "metadata": {},
   "outputs": [],
   "source": [
    "arr = rng.standard_normal((5, 4))\n",
    "arr\n",
    "arr.mean()\n",
    "np.mean(arr)\n",
    "arr.sum()"
   ]
  },
  {
   "cell_type": "markdown",
   "metadata": {},
   "source": [
    "Functions like `mean` and `sum` take an optional `axis` argument that\n",
    "computes the statistic over the given axis, resulting in an array with\n",
    "one less dimension:\n",
    "\n"
   ]
  },
  {
   "cell_type": "code",
   "execution_count": null,
   "metadata": {},
   "outputs": [],
   "source": [
    "arr.mean(axis=1)\n",
    "arr.sum(axis=0)"
   ]
  },
  {
   "cell_type": "markdown",
   "metadata": {},
   "source": [
    "Here, `arr.mean(axis=1)` means \"compute mean across the columns,\" where\n",
    "`arr.sum(axis=0)` means \"compute sum down the rows.\"\n",
    "\n",
    "Other methods like `cumsum` and `cumprod` do not aggregate, instead\n",
    "producing an array of the intermediate results:\n",
    "\n"
   ]
  },
  {
   "cell_type": "code",
   "execution_count": null,
   "metadata": {},
   "outputs": [],
   "source": [
    "arr = np.array([0, 1, 2, 3, 4, 5, 6, 7])\n",
    "arr.cumsum()"
   ]
  },
  {
   "cell_type": "markdown",
   "metadata": {},
   "source": [
    "In multidimensional arrays, accumulation functions like `cumsum` return\n",
    "an array of the same size but with the partial aggregates computed along\n",
    "the indicated axis according to each lower dimensional slice:\n",
    "\n"
   ]
  },
  {
   "cell_type": "code",
   "execution_count": null,
   "metadata": {},
   "outputs": [],
   "source": [
    "arr = np.array([[0, 1, 2], [3, 4, 5], [6, 7, 8]])\n",
    "arr"
   ]
  },
  {
   "cell_type": "markdown",
   "metadata": {},
   "source": [
    "The expression `arr.cumsum(axis=0)` computes the cumulative sum along\n",
    "the rows, while `arr.cumsum(axis=1)` computes the sums along the\n",
    "columns:\n",
    "\n"
   ]
  },
  {
   "cell_type": "code",
   "execution_count": null,
   "metadata": {},
   "outputs": [],
   "source": [
    "arr.cumsum(axis=0)\n",
    "arr.cumsum(axis=1)"
   ]
  },
  {
   "cell_type": "markdown",
   "metadata": {},
   "source": [
    "\n",
    "| Method|Description|\n",
    "|---|---|\n",
    "| <code>sum</code>|Sum of all the elements in the array or along an axis; zero-length arrays have sum 0|\n",
    "| <code>mean</code>|Arithmetic mean; invalid (returns <code>NaN</code>) on zero-length arrays|\n",
    "| <code>std, var</code>|Standard deviation and variance, respectively|\n",
    "| <code>min, max</code>|Minimum and maximum|\n",
    "| <code>argmin, argmax</code>|Indices of minimum and maximum elements, respectively|\n",
    "| <code>cumsum</code>|Cumulative sum of elements starting from 0|\n",
    "| <code>cumprod</code>|Cumulative product of elements starting from 1|\n",
    "\n"
   ]
  },
  {
   "cell_type": "markdown",
   "metadata": {},
   "source": [
    "#### Methods for Boolean\n",
    "\n"
   ]
  },
  {
   "cell_type": "markdown",
   "metadata": {},
   "source": [
    "Boolean values are coerced to 1 (`True`) and 0 (`False`) in the\n",
    "preceding methods. Thus, `sum` is often used as a means of counting\n",
    "`True` values in a Boolean array:\n",
    "\n"
   ]
  },
  {
   "cell_type": "code",
   "execution_count": null,
   "metadata": {},
   "outputs": [],
   "source": [
    "arr = rng.standard_normal(100)\n",
    "(arr > 0).sum() # Number of positive values\n",
    "(arr <= 0).sum() # Number of non-positive values"
   ]
  },
  {
   "cell_type": "markdown",
   "metadata": {},
   "source": [
    "The parentheses here in the expression `(arr > 0).sum()` are necessary\n",
    "to be able to call `sum()` on the temporary result of `arr > 0`.\n",
    "\n",
    "Two additional methods, `any` and `all`, are useful especially for\n",
    "Boolean arrays. `any` tests whether one or more values in an array is\n",
    "`True`, while `all` checks if every value is `True`:\n",
    "\n"
   ]
  },
  {
   "cell_type": "code",
   "execution_count": null,
   "metadata": {},
   "outputs": [],
   "source": [
    "bools = np.array([False, False, True, False])\n",
    "bools.any()\n",
    "bools.all()"
   ]
  },
  {
   "cell_type": "markdown",
   "metadata": {},
   "source": [
    "These methods also work with non-Boolean arrays, where nonzero elements\n",
    "are treated as `True`.\n",
    "\n"
   ]
  },
  {
   "cell_type": "markdown",
   "metadata": {},
   "source": [
    "#### Sorting[[[https://wesmckinney.com/book/numpy-basics#numpy_sorting](https://wesmckinney.com/book/numpy-basics#numpy_sorting)][]]\n",
    "\n"
   ]
  },
  {
   "cell_type": "markdown",
   "metadata": {},
   "source": [
    "Like Python's built-in list type, NumPy arrays can be sorted in place\n",
    "with the `sort` method:\n",
    "\n"
   ]
  },
  {
   "cell_type": "code",
   "execution_count": null,
   "metadata": {},
   "outputs": [],
   "source": [
    "arr = rng.standard_normal(6)\n",
    "arr\n",
    "arr.sort()\n",
    "arr"
   ]
  },
  {
   "cell_type": "markdown",
   "metadata": {},
   "source": [
    "You can sort each one-dimensional section of values in a\n",
    "multidimensional array in place along an axis by passing the axis number\n",
    "to `sort`. In this example data:\n",
    "\n"
   ]
  },
  {
   "cell_type": "code",
   "execution_count": null,
   "metadata": {},
   "outputs": [],
   "source": [
    "arr = rng.standard_normal((5, 3))\n",
    "arr"
   ]
  },
  {
   "cell_type": "markdown",
   "metadata": {},
   "source": [
    "`arr.sort(axis=0)` sorts the values within each column, while\n",
    "`arr.sort(axis=1)` sorts across each row:\n",
    "\n"
   ]
  },
  {
   "cell_type": "code",
   "execution_count": null,
   "metadata": {},
   "outputs": [],
   "source": [
    "arr.sort(axis=0)\n",
    "arr\n",
    "arr.sort(axis=1)\n",
    "arr"
   ]
  },
  {
   "cell_type": "markdown",
   "metadata": {},
   "source": [
    "The top-level method `numpy.sort` returns a sorted copy of an array\n",
    "(like the Python built-in function `sorted`) instead of modifying the\n",
    "array in place. For example:\n",
    "\n"
   ]
  },
  {
   "cell_type": "code",
   "execution_count": null,
   "metadata": {},
   "outputs": [],
   "source": [
    "arr2 = np.array([5, -10, 7, 1, 0, -3])\n",
    "sorted_arr2 = np.sort(arr2)\n",
    "sorted_arr2"
   ]
  },
  {
   "cell_type": "markdown",
   "metadata": {},
   "source": [
    "#### Unique and Other Set\n",
    "\n"
   ]
  },
  {
   "cell_type": "markdown",
   "metadata": {},
   "source": [
    "NumPy has some basic set operations for one-dimensional ndarrays. A\n",
    "commonly used one is `numpy.unique`, which returns the sorted unique\n",
    "values in an array:\n",
    "\n"
   ]
  },
  {
   "cell_type": "code",
   "execution_count": null,
   "metadata": {},
   "outputs": [],
   "source": [
    "names = np.array([\"Bob\", \"Will\", \"Joe\", \"Bob\", \"Will\", \"Joe\", \"Joe\"])\n",
    "np.unique(names)\n",
    "ints = np.array([3, 3, 3, 2, 2, 1, 1, 4, 4])\n",
    "np.unique(ints)"
   ]
  },
  {
   "cell_type": "markdown",
   "metadata": {},
   "source": [
    "Contrast `numpy.unique` with the pure Python alternative:\n",
    "\n"
   ]
  },
  {
   "cell_type": "code",
   "execution_count": null,
   "metadata": {},
   "outputs": [],
   "source": [
    "sorted(set(names))"
   ]
  },
  {
   "cell_type": "markdown",
   "metadata": {},
   "source": [
    "In many cases, the NumPy version is faster and returns a NumPy array\n",
    "rather than a Python list.\n",
    "\n",
    "Another function, `numpy.in1d`, tests membership of the values in one\n",
    "array in another, returning a Boolean array:\n",
    "\n"
   ]
  },
  {
   "cell_type": "code",
   "execution_count": null,
   "metadata": {},
   "outputs": [],
   "source": [
    "values = np.array([6, 0, 0, 3, 2, 5, 6])\n",
    "np.in1d(values, [2, 3, 6])"
   ]
  },
  {
   "cell_type": "markdown",
   "metadata": {},
   "source": [
    "Here is a listing of array set operations in NumPy.\n",
    "\n",
    "\n",
    "| Method|Description|\n",
    "|---|---|\n",
    "| <code>unique(x)</code>|Compute the sorted, unique elements in <code>x</code>|\n",
    "| <code>intersect1d(x, y)</code>|Compute the sorted, common elements in <code>x</code> and <code>y</code>|\n",
    "| <code>union1d(x, y)</code>|Compute the sorted union of elements|\n",
    "| <code>in1d(x, y)</code>|Compute a Boolean array indicating whether each element of <code>x</code> is contained in <code>y</code>|\n",
    "| <code>setdiff1d(x, y)</code>|Set difference, elements in <code>x</code> that are not in <code>y</code>|\n",
    "| <code>setxor1d(x, y)</code>|Set symmetric differences; elements that are in either of the arrays, but not both|\n",
    "\n"
   ]
  },
  {
   "cell_type": "markdown",
   "metadata": {},
   "source": [
    "### File Input and Output with\n",
    "\n"
   ]
  },
  {
   "cell_type": "markdown",
   "metadata": {},
   "source": [
    "NumPy is able to save and load data to and from disk in some text or\n",
    "binary formats.\n",
    "\n",
    "`numpy.save` and `numpy.load` are the two workhorse functions for\n",
    "efficiently saving and loading array data on disk. Arrays are saved by\n",
    "default in an uncompressed raw binary format with file extension *.npy*:\n",
    "\n"
   ]
  },
  {
   "cell_type": "code",
   "execution_count": null,
   "metadata": {},
   "outputs": [],
   "source": [
    "arr = np.arange(10)\n",
    "np.save(\"some_array\", arr)"
   ]
  },
  {
   "cell_type": "markdown",
   "metadata": {},
   "source": [
    "If the file path does not already end in *.npy*, the extension will be\n",
    "appended. The array on disk can then be loaded with `numpy.load`:\n",
    "\n"
   ]
  },
  {
   "cell_type": "code",
   "execution_count": null,
   "metadata": {},
   "outputs": [],
   "source": [
    "np.load(\"some_array.npy\")"
   ]
  },
  {
   "cell_type": "markdown",
   "metadata": {},
   "source": [
    "You can save multiple arrays in an uncompressed archive using\n",
    "`numpy.savez` and passing the arrays as keyword arguments:\n",
    "\n"
   ]
  },
  {
   "cell_type": "code",
   "execution_count": null,
   "metadata": {},
   "outputs": [],
   "source": [
    "np.savez(\"array_archive.npz\", a=arr, b=arr)"
   ]
  },
  {
   "cell_type": "markdown",
   "metadata": {},
   "source": [
    "When loading an *.npz* file, you get back a dictionary-like object that\n",
    "loads the individual arrays lazily:\n",
    "\n"
   ]
  },
  {
   "cell_type": "code",
   "execution_count": null,
   "metadata": {},
   "outputs": [],
   "source": [
    "arch = np.load(\"array_archive.npz\")\n",
    "arch[\"b\"]"
   ]
  },
  {
   "cell_type": "markdown",
   "metadata": {},
   "source": [
    "If your data compresses well, you may wish to use\n",
    "`numpy.savez_compressed` instead:\n",
    "\n"
   ]
  },
  {
   "cell_type": "code",
   "execution_count": null,
   "metadata": {},
   "outputs": [],
   "source": [
    "np.savez_compressed(\"arrays_compressed.npz\", a=arr, b=arr)"
   ]
  },
  {
   "cell_type": "markdown",
   "metadata": {},
   "source": [
    "### Linear Algebra\n",
    "\n"
   ]
  },
  {
   "cell_type": "markdown",
   "metadata": {},
   "source": [
    "Linear algebra operations, like matrix multiplication, decompositions,\n",
    "determinants, and other square matrix math, are an important part of\n",
    "many array libraries. Multiplying two two-dimensional arrays with `*` is\n",
    "an element-wise product, while matrix multiplications require either\n",
    "using the `dot` function or the `@` infix operator. `dot` is both an\n",
    "array method and a function in the `numpy` namespace for doing matrix\n",
    "multiplication:\n",
    "\n"
   ]
  },
  {
   "cell_type": "code",
   "execution_count": null,
   "metadata": {},
   "outputs": [],
   "source": [
    "x = np.array([[1., 2., 3.], [4., 5., 6.]])\n",
    "y = np.array([[6., 23.], [-1, 7], [8, 9]])\n",
    "x\n",
    "y\n",
    "x.dot(y)"
   ]
  },
  {
   "cell_type": "markdown",
   "metadata": {},
   "source": [
    "`x.dot(y)` is equivalent to `np.dot(x, y)`:\n",
    "\n"
   ]
  },
  {
   "cell_type": "code",
   "execution_count": null,
   "metadata": {},
   "outputs": [],
   "source": [
    "np.dot(x, y)"
   ]
  },
  {
   "cell_type": "markdown",
   "metadata": {},
   "source": [
    "A matrix product between a two-dimensional array and a suitably sized\n",
    "one-dimensional array results in a one-dimensional array:\n",
    "\n"
   ]
  },
  {
   "cell_type": "code",
   "execution_count": null,
   "metadata": {},
   "outputs": [],
   "source": [
    "x @ np.ones(3)"
   ]
  },
  {
   "cell_type": "markdown",
   "metadata": {},
   "source": [
    "`numpy.linalg` has a standard set of matrix decompositions and things\n",
    "like inverse and determinant:\n",
    "\n"
   ]
  },
  {
   "cell_type": "code",
   "execution_count": null,
   "metadata": {},
   "outputs": [],
   "source": [
    "from numpy.linalg import inv, qr\n",
    "X = rng.standard_normal((5, 5))\n",
    "mat = X.T @ X\n",
    "inv(mat)\n",
    "mat @ inv(mat)"
   ]
  },
  {
   "cell_type": "markdown",
   "metadata": {},
   "source": [
    "The expression `X.T.dot(X)` computes the dot product of `X` with its\n",
    "transpose `X.T`.\n",
    "\n",
    "Here is a list of some of the most commonly used linear algebra functions.\n",
    "\n",
    "\n",
    "| Function|Description|\n",
    "|---|---|\n",
    "| <code>diag</code>|Return the diagonal (or off-diagonal) elements of a square matrix as a 1D array, or convert a 1D array into a square matrix with zeros on the off-diagonal|\n",
    "| <code>dot</code>|Matrix multiplication|\n",
    "| <code>trace</code>|Compute the sum of the diagonal elements|\n",
    "| <code>det</code>|Compute the matrix determinant|\n",
    "| <code>eig</code>|Compute the eigenvalues and eigenvectors of a square matrix|\n",
    "| <code>inv</code>|Compute the inverse of a square matrix|\n",
    "| <code>pinv</code>|Compute the Moore-Penrose pseudoinverse of a matrix|\n",
    "| <code>qr</code>|Compute the QR decomposition|\n",
    "| <code>svd</code>|Compute the singular value decomposition (SVD)|\n",
    "| <code>solve</code>|Solve the linear system Ax = b for x, where A is a square matrix|\n",
    "| <code>lstsq</code>|Compute the least-squares solution to <code>Ax = b</code>|\n",
    "\n"
   ]
  },
  {
   "cell_type": "markdown",
   "metadata": {},
   "source": [
    "### Example: Random\n",
    "\n"
   ]
  },
  {
   "cell_type": "markdown",
   "metadata": {},
   "source": [
    "The simulation of [*random\n",
    "walks*](https://en.wikipedia.org/wiki/Random_walk) provides an illustrative application of utilizing array\n",
    "operations. Let's first consider a simple random walk starting at 0 with\n",
    "steps of 1 and &#x2013;1 occurring with equal probability.\n",
    "\n",
    "Here is a pure Python way to implement a single random walk with 1,000\n",
    "steps using the built-in `random` module:\n",
    "\n"
   ]
  },
  {
   "cell_type": "code",
   "execution_count": null,
   "metadata": {},
   "outputs": [],
   "source": [
    "#! blockstart\n",
    "import random\n",
    "position = 0\n",
    "walk = [position]\n",
    "nsteps = 1000\n",
    "for _ in range(nsteps):\n",
    "    step = 1 if random.randint(0, 1) else -1\n",
    "    position += step\n",
    "    walk.append(position)\n",
    "#! blockend"
   ]
  },
  {
   "cell_type": "code",
   "execution_count": null,
   "metadata": {},
   "outputs": [],
   "source": [
    "plt.plot(walk[:100])\n",
    "plt.show()"
   ]
  },
  {
   "cell_type": "markdown",
   "metadata": {},
   "source": [
    "You might make the observation that `walk` is the cumulative sum of the\n",
    "random steps and could be evaluated as an array expression. Thus, I use\n",
    "the `numpy.random` module to draw 1,000 coin flips at once, set these to\n",
    "1 and &#x2013;1, and compute the cumulative sum:\n",
    "\n"
   ]
  },
  {
   "cell_type": "code",
   "execution_count": null,
   "metadata": {},
   "outputs": [],
   "source": [
    "nsteps = 1000\n",
    "rng = np.random.default_rng(seed=12345)  # fresh random generator\n",
    "draws = rng.integers(0, 2, size=nsteps)\n",
    "steps = np.where(draws == 0, 1, -1)\n",
    "walk = steps.cumsum()"
   ]
  },
  {
   "cell_type": "markdown",
   "metadata": {},
   "source": [
    "From this we can begin to extract statistics like the minimum and\n",
    "maximum value along the walk's trajectory:\n",
    "\n"
   ]
  },
  {
   "cell_type": "code",
   "execution_count": null,
   "metadata": {},
   "outputs": [],
   "source": [
    "walk.min()\n",
    "walk.max()"
   ]
  },
  {
   "cell_type": "markdown",
   "metadata": {},
   "source": [
    "A more complicated statistic is the *first crossing time*, the step at\n",
    "which the random walk reaches a particular value. Here we might want to\n",
    "know how long it took the random walk to get at least 10 steps away from\n",
    "the origin 0 in either direction. `np.abs(walk) >` 10= gives us a\n",
    "Boolean array indicating where the walk has reached or exceeded 10, but\n",
    "we want the index of the *first* 10 or &#x2013;10. Turns out, we can compute\n",
    "this using `argmax`, which returns the first index of the maximum value\n",
    "in the Boolean array (`True` is the maximum value):\n",
    "\n"
   ]
  },
  {
   "cell_type": "code",
   "execution_count": null,
   "metadata": {},
   "outputs": [],
   "source": [
    "(np.abs(walk) >= 10).argmax()"
   ]
  },
  {
   "cell_type": "markdown",
   "metadata": {},
   "source": [
    "Note that using `argmax` here is not always efficient because it always\n",
    "makes a full scan of the array. In this special case, once a `True` is\n",
    "observed we know it to be the maximum value.\n",
    "\n"
   ]
  },
  {
   "cell_type": "markdown",
   "metadata": {},
   "source": [
    "#### Simulating Many Random Walks at\n",
    "\n"
   ]
  },
  {
   "cell_type": "markdown",
   "metadata": {},
   "source": [
    "If your goal was to simulate many random walks, say five thousand of\n",
    "them, you can generate all of the random walks with minor modifications\n",
    "to the preceding code. If passed a 2-tuple, the `numpy.random` functions\n",
    "will generate a two-dimensional array of draws, and we can compute the\n",
    "cumulative sum for each row to compute all five thousand random walks in\n",
    "one shot:\n",
    "\n"
   ]
  },
  {
   "cell_type": "code",
   "execution_count": null,
   "metadata": {},
   "outputs": [],
   "source": [
    "nwalks = 5000\n",
    "nsteps = 1000\n",
    "draws = rng.integers(0, 2, size=(nwalks, nsteps)) # 0 or 1\n",
    "steps = np.where(draws > 0, 1, -1)\n",
    "walks = steps.cumsum(axis=1)\n",
    "walks"
   ]
  },
  {
   "cell_type": "markdown",
   "metadata": {},
   "source": [
    "Now, we can compute the maximum and minimum values obtained over all of\n",
    "the walks:\n",
    "\n"
   ]
  },
  {
   "cell_type": "code",
   "execution_count": null,
   "metadata": {},
   "outputs": [],
   "source": [
    "walks.max()\n",
    "walks.min()"
   ]
  },
  {
   "cell_type": "markdown",
   "metadata": {},
   "source": [
    "Out of these walks, let's compute the minimum crossing time to 30 or\n",
    "&#x2013;30. This is slightly tricky because not all 5,000 of them reach 30. We\n",
    "can check this using the `any` method:\n",
    "\n"
   ]
  },
  {
   "cell_type": "code",
   "execution_count": null,
   "metadata": {},
   "outputs": [],
   "source": [
    "hits30 = (np.abs(walks) >= 30).any(axis=1)\n",
    "hits30\n",
    "hits30.sum() # Number that hit 30 or -30"
   ]
  },
  {
   "cell_type": "markdown",
   "metadata": {},
   "source": [
    "We can use this Boolean array to select the rows of `walks` that\n",
    "actually cross the absolute 30 level, and call `argmax` across axis 1 to\n",
    "get the crossing times:\n",
    "\n"
   ]
  },
  {
   "cell_type": "code",
   "execution_count": null,
   "metadata": {},
   "outputs": [],
   "source": [
    "crossing_times = (np.abs(walks[hits30]) >= 30).argmax(axis=1)\n",
    "crossing_times"
   ]
  },
  {
   "cell_type": "markdown",
   "metadata": {},
   "source": [
    "Lastly, we compute the average minimum crossing time:\n",
    "\n"
   ]
  },
  {
   "cell_type": "code",
   "execution_count": null,
   "metadata": {},
   "outputs": [],
   "source": [
    "crossing_times.mean()"
   ]
  },
  {
   "cell_type": "markdown",
   "metadata": {},
   "source": [
    "Feel free to experiment with other distributions for the steps other\n",
    "than equal-sized coin flips. You need only use a different random\n",
    "generator method, like `standard_normal` to generate normally\n",
    "distributed steps with some mean and standard deviation:\n",
    "\n"
   ]
  },
  {
   "cell_type": "code",
   "execution_count": null,
   "metadata": {},
   "outputs": [],
   "source": [
    "draws = 0.25 * rng.standard_normal((nwalks, nsteps))"
   ]
  }
 ],
 "metadata": {
  "kernelspec": {
   "display_name": "Python 3 (ipykernel)",
   "language": "python",
   "name": "python3"
  },
  "language_info": {
   "codemirror_mode": {
    "name": "ipython",
    "version": 3
   },
   "file_extension": ".py",
   "mimetype": "text/x-python",
   "name": "python",
   "nbconvert_exporter": "python",
   "pygments_lexer": "ipython3",
   "version": "3.11.2"
  },
  "org": null
 },
 "nbformat": 4,
 "nbformat_minor": 4
}
