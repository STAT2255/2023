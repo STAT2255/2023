{
 "cells": [
  {
   "cell_type": "markdown",
   "id": "a03433d9",
   "metadata": {},
   "source": [
    "# Statistical Inference\n",
    "\n",
    "- Statistics is a science about collecting, summarizing and making inference from data.\n",
    "- Statistical inference involves drawing conclusions about populations from samples.\n",
    "\n",
    "Here, we will focus on two of the most common population parameters:\n",
    "\n",
    "* Population mean $\\mu$:\n",
    "  - average height of all American;\n",
    "  - average salary of all Connecticut resideents, and etc.\n",
    "* Population proportion $p$:\n",
    "  - Proportion of American who support Biden;\n",
    "  - Proportion of people who have taken COVID19 vaccine."
   ]
  },
  {
   "cell_type": "markdown",
   "id": "22803be1",
   "metadata": {},
   "source": [
    "# Hypothesis Testing\n",
    "\n",
    "- Sometimes, we may have some preconceived ideas regarding to the unknown population parameters.\n",
    "- The sample data we collect can help us decide the plausibility of these ideas and this is accomplished by **Hypothesis Testing**. \n",
    "\n",
    "\n",
    "Hypothesis testing involves drawing inferences about two contrasting propositions (each called a hypothesis) relating to the value of one or more population parameters.\n",
    "\n",
    "* $H_0$ **Null hypothesis**: describes an existing theory or status quo\n",
    "* $H_1$ (or $H_a$) **Alternative hypothesis**: Usually is our research interest (a challenge or alternative to accepted view).\n",
    "\n",
    "**Note**: Using sample data, we either:\n",
    "* Reject $H_0$ and conclude the sample data is in favor of $H_1$, or\n",
    "* Fail to reject $H_0$\n",
    "  - Fail to reject $H_0$ does not mean $H_0$ is true.\n",
    "  - It only mean there is no sufficient evidence to disprove it with the data we have collect."
   ]
  },
  {
   "cell_type": "markdown",
   "id": "d4e4b524-7589-477b-8091-625a38780621",
   "metadata": {},
   "source": [
    "## How to test?\n",
    "\n",
    "1. **Set up hypotheses**: Statistically, we cannot “prove” that $H_0$ is true. We can only fail to reject it. So, what we want to test (our research of interest) is usually set as alternative hypothesis ($H_1$).\n",
    "\n",
    "\n",
    "2. To conduct a Hypothesis Test, we initially assume that $H_0$ is true. Then, we calculate the chance of observing the sample data under this assumption. This also gives us an idea of whether or not our assumption ($H_0$ is true) is correct and leads us to a decision whether or not reject the null hypothesis.\n",
    "\n",
    "## Intuition (A Legal Analogy for Hypothesis Testing)\n",
    "\n",
    "The idea of hypothesis testing follows close to the idea of proof by contradiction. Here, we use a legal analogy to explain the hypothesis testing:\n",
    "\n",
    "In the U.S. legal system, a defendant is innocent until proven guilty.\n",
    "\n",
    "  *  $H_0$: Innocent\n",
    "  *  $H_1$: Guilty\n",
    "\n",
    "1. So, we start by assuming the defendant is innocent ($H_0$).\n",
    "2. The sample data we collect can be seen as the evidence.\n",
    "   * Under the assumption of innocent ($H_0$), what is the chance of getting the evidence (sample data) that we have in hand.\n",
    "   * If the chance is small, then, this means our assumption of innocent is questionable and our evidence is in favor of the alternative guilty ($H_1$).\n",
    "   * If the chance is large, then, this means our data does not provide enough evidence to rule the defendant is guilty. "
   ]
  },
  {
   "cell_type": "markdown",
   "id": "cb386fbb-99bc-4496-9970-63703e415986",
   "metadata": {},
   "source": [
    "## Type of tests:\n",
    "\n",
    "### One Sample tests\n",
    "\n",
    "Primary interest is on one single population:\n",
    "* 1-sample t test\n",
    "* 1-sample proportion test\n",
    "\n",
    "### Two Sample tests\n",
    "\n",
    "Primary interest is to make comparison between two population:\n",
    "* 2-sample t test\n",
    "* paired t test\n",
    "\n",
    "For the above tests, we are going to use the ```stats``` submodule from library ```statsmodels``` and ```scipy```."
   ]
  },
  {
   "cell_type": "code",
   "execution_count": 4,
   "id": "19c86433",
   "metadata": {},
   "outputs": [],
   "source": [
    "import scipy.stats as scs\n",
    "import statsmodels.stats.api as sms"
   ]
  },
  {
   "cell_type": "markdown",
   "id": "2fe5c1c8",
   "metadata": {},
   "source": [
    "## One sample tests\n",
    "\n",
    "### 1-sample t test\n",
    "\n",
    "For one sample test for population mean, the hypotheses in general has the following form:\n",
    "$$H_0: \\mu = \\mu_0.$$\n",
    "$$H_1: \\mu > \\mu_0, \\mu < \\mu_0, \\text{ or } \\mu \\ne \\mu_0.$$\n",
    "\n",
    "where $\\mu_0$ is the preconceived idea you have ahead of time.\n",
    "\n",
    "We start with the simplest case:\n",
    "* Sample are independent.\n",
    "* We have a large sample size ($\\ge 30$).\n",
    "\n",
    "Under this senario, the appropriate test is 1-sample t test. The function you want to use is ```scs.ttest_1samp```.\n",
    "\n",
    "Example:\n",
    "\n",
    "According to the Food and Nutrition Board of the National Academy of Sciences, the recommended daily allowance (RDA) of calcium for adults is 800 milligrams. You have the data of the daily calcium intake (in mg.) for a sample of people with poverty level incomes. <u>The researchers believe that the mean daily calcium intake for poverty level income people is **below** the recommended 800 mg</u>. Conduct a hypothesis test to test this claim.\n",
    "\n",
    "$$H_0: \\mu = 800.$$\n",
    "$$H_1: \\mu < 800.$$"
   ]
  },
  {
   "cell_type": "code",
   "execution_count": 1,
   "id": "c2d286ce",
   "metadata": {},
   "outputs": [
    {
     "data": {
      "text/plain": [
       "(40, 1)"
      ]
     },
     "execution_count": 1,
     "metadata": {},
     "output_type": "execute_result"
    }
   ],
   "source": [
    "import pandas as pd\n",
    "calcium = pd.read_csv(\"data/calcium.csv\")\n",
    "calcium.shape"
   ]
  },
  {
   "cell_type": "code",
   "execution_count": 2,
   "id": "b8e9bd61-c82f-4416-9338-b1deb1a96663",
   "metadata": {},
   "outputs": [
    {
     "data": {
      "text/html": [
       "<div>\n",
       "<style scoped>\n",
       "    .dataframe tbody tr th:only-of-type {\n",
       "        vertical-align: middle;\n",
       "    }\n",
       "\n",
       "    .dataframe tbody tr th {\n",
       "        vertical-align: top;\n",
       "    }\n",
       "\n",
       "    .dataframe thead th {\n",
       "        text-align: right;\n",
       "    }\n",
       "</style>\n",
       "<table border=\"1\" class=\"dataframe\">\n",
       "  <thead>\n",
       "    <tr style=\"text-align: right;\">\n",
       "      <th></th>\n",
       "      <th>Calcium</th>\n",
       "    </tr>\n",
       "  </thead>\n",
       "  <tbody>\n",
       "    <tr>\n",
       "      <th>0</th>\n",
       "      <td>870</td>\n",
       "    </tr>\n",
       "    <tr>\n",
       "      <th>1</th>\n",
       "      <td>791</td>\n",
       "    </tr>\n",
       "    <tr>\n",
       "      <th>2</th>\n",
       "      <td>677</td>\n",
       "    </tr>\n",
       "    <tr>\n",
       "      <th>3</th>\n",
       "      <td>748</td>\n",
       "    </tr>\n",
       "    <tr>\n",
       "      <th>4</th>\n",
       "      <td>699</td>\n",
       "    </tr>\n",
       "    <tr>\n",
       "      <th>5</th>\n",
       "      <td>668</td>\n",
       "    </tr>\n",
       "    <tr>\n",
       "      <th>6</th>\n",
       "      <td>806</td>\n",
       "    </tr>\n",
       "    <tr>\n",
       "      <th>7</th>\n",
       "      <td>812</td>\n",
       "    </tr>\n",
       "    <tr>\n",
       "      <th>8</th>\n",
       "      <td>828</td>\n",
       "    </tr>\n",
       "    <tr>\n",
       "      <th>9</th>\n",
       "      <td>808</td>\n",
       "    </tr>\n",
       "    <tr>\n",
       "      <th>10</th>\n",
       "      <td>829</td>\n",
       "    </tr>\n",
       "    <tr>\n",
       "      <th>11</th>\n",
       "      <td>793</td>\n",
       "    </tr>\n",
       "    <tr>\n",
       "      <th>12</th>\n",
       "      <td>739</td>\n",
       "    </tr>\n",
       "    <tr>\n",
       "      <th>13</th>\n",
       "      <td>860</td>\n",
       "    </tr>\n",
       "    <tr>\n",
       "      <th>14</th>\n",
       "      <td>705</td>\n",
       "    </tr>\n",
       "    <tr>\n",
       "      <th>15</th>\n",
       "      <td>683</td>\n",
       "    </tr>\n",
       "    <tr>\n",
       "      <th>16</th>\n",
       "      <td>650</td>\n",
       "    </tr>\n",
       "    <tr>\n",
       "      <th>17</th>\n",
       "      <td>798</td>\n",
       "    </tr>\n",
       "    <tr>\n",
       "      <th>18</th>\n",
       "      <td>848</td>\n",
       "    </tr>\n",
       "    <tr>\n",
       "      <th>19</th>\n",
       "      <td>901</td>\n",
       "    </tr>\n",
       "    <tr>\n",
       "      <th>20</th>\n",
       "      <td>698</td>\n",
       "    </tr>\n",
       "    <tr>\n",
       "      <th>21</th>\n",
       "      <td>774</td>\n",
       "    </tr>\n",
       "    <tr>\n",
       "      <th>22</th>\n",
       "      <td>778</td>\n",
       "    </tr>\n",
       "    <tr>\n",
       "      <th>23</th>\n",
       "      <td>776</td>\n",
       "    </tr>\n",
       "    <tr>\n",
       "      <th>24</th>\n",
       "      <td>791</td>\n",
       "    </tr>\n",
       "    <tr>\n",
       "      <th>25</th>\n",
       "      <td>750</td>\n",
       "    </tr>\n",
       "    <tr>\n",
       "      <th>26</th>\n",
       "      <td>768</td>\n",
       "    </tr>\n",
       "    <tr>\n",
       "      <th>27</th>\n",
       "      <td>649</td>\n",
       "    </tr>\n",
       "    <tr>\n",
       "      <th>28</th>\n",
       "      <td>684</td>\n",
       "    </tr>\n",
       "    <tr>\n",
       "      <th>29</th>\n",
       "      <td>713</td>\n",
       "    </tr>\n",
       "    <tr>\n",
       "      <th>30</th>\n",
       "      <td>670</td>\n",
       "    </tr>\n",
       "    <tr>\n",
       "      <th>31</th>\n",
       "      <td>720</td>\n",
       "    </tr>\n",
       "    <tr>\n",
       "      <th>32</th>\n",
       "      <td>720</td>\n",
       "    </tr>\n",
       "    <tr>\n",
       "      <th>33</th>\n",
       "      <td>729</td>\n",
       "    </tr>\n",
       "    <tr>\n",
       "      <th>34</th>\n",
       "      <td>790</td>\n",
       "    </tr>\n",
       "    <tr>\n",
       "      <th>35</th>\n",
       "      <td>689</td>\n",
       "    </tr>\n",
       "    <tr>\n",
       "      <th>36</th>\n",
       "      <td>795</td>\n",
       "    </tr>\n",
       "    <tr>\n",
       "      <th>37</th>\n",
       "      <td>811</td>\n",
       "    </tr>\n",
       "    <tr>\n",
       "      <th>38</th>\n",
       "      <td>773</td>\n",
       "    </tr>\n",
       "    <tr>\n",
       "      <th>39</th>\n",
       "      <td>792</td>\n",
       "    </tr>\n",
       "  </tbody>\n",
       "</table>\n",
       "</div>"
      ],
      "text/plain": [
       "    Calcium\n",
       "0       870\n",
       "1       791\n",
       "2       677\n",
       "3       748\n",
       "4       699\n",
       "5       668\n",
       "6       806\n",
       "7       812\n",
       "8       828\n",
       "9       808\n",
       "10      829\n",
       "11      793\n",
       "12      739\n",
       "13      860\n",
       "14      705\n",
       "15      683\n",
       "16      650\n",
       "17      798\n",
       "18      848\n",
       "19      901\n",
       "20      698\n",
       "21      774\n",
       "22      778\n",
       "23      776\n",
       "24      791\n",
       "25      750\n",
       "26      768\n",
       "27      649\n",
       "28      684\n",
       "29      713\n",
       "30      670\n",
       "31      720\n",
       "32      720\n",
       "33      729\n",
       "34      790\n",
       "35      689\n",
       "36      795\n",
       "37      811\n",
       "38      773\n",
       "39      792"
      ]
     },
     "execution_count": 2,
     "metadata": {},
     "output_type": "execute_result"
    }
   ],
   "source": [
    "calcium"
   ]
  },
  {
   "cell_type": "code",
   "execution_count": 36,
   "id": "9942afbf",
   "metadata": {},
   "outputs": [
    {
     "name": "stdout",
     "output_type": "stream",
     "text": [
      "Help on function ttest_1samp in module scipy.stats._stats_py:\n",
      "\n",
      "ttest_1samp(a, popmean, axis=0, nan_policy='propagate', alternative='two-sided', *, keepdims=False)\n",
      "    Calculate the T-test for the mean of ONE group of scores.\n",
      "    \n",
      "    This is a test for the null hypothesis that the expected value\n",
      "    (mean) of a sample of independent observations `a` is equal to the given\n",
      "    population mean, `popmean`.\n",
      "    \n",
      "    Parameters\n",
      "    ----------\n",
      "    a : array_like\n",
      "        Sample observation.\n",
      "    popmean : float or array_like\n",
      "        Expected value in null hypothesis. If array_like, then its length along\n",
      "        `axis` must equal 1, and it must otherwise be broadcastable with `a`.\n",
      "    axis : int or None, default: 0\n",
      "        If an int, the axis of the input along which to compute the statistic.\n",
      "        The statistic of each axis-slice (e.g. row) of the input will appear in a\n",
      "        corresponding element of the output.\n",
      "        If ``None``, the input will be raveled before computing the statistic.\n",
      "    nan_policy : {'propagate', 'omit', 'raise'}\n",
      "        Defines how to handle input NaNs.\n",
      "        \n",
      "        - ``propagate``: if a NaN is present in the axis slice (e.g. row) along\n",
      "          which the  statistic is computed, the corresponding entry of the output\n",
      "          will be NaN.\n",
      "        - ``omit``: NaNs will be omitted when performing the calculation.\n",
      "          If insufficient data remains in the axis slice along which the\n",
      "          statistic is computed, the corresponding entry of the output will be\n",
      "          NaN.\n",
      "        - ``raise``: if a NaN is present, a ``ValueError`` will be raised.\n",
      "    alternative : {'two-sided', 'less', 'greater'}, optional\n",
      "        Defines the alternative hypothesis.\n",
      "        The following options are available (default is 'two-sided'):\n",
      "        \n",
      "        * 'two-sided': the mean of the underlying distribution of the sample\n",
      "          is different than the given population mean (`popmean`)\n",
      "        * 'less': the mean of the underlying distribution of the sample is\n",
      "          less than the given population mean (`popmean`)\n",
      "        * 'greater': the mean of the underlying distribution of the sample is\n",
      "          greater than the given population mean (`popmean`)\n",
      "    keepdims : bool, default: False\n",
      "        If this is set to True, the axes which are reduced are left\n",
      "        in the result as dimensions with size one. With this option,\n",
      "        the result will broadcast correctly against the input array.\n",
      "    \n",
      "    Returns\n",
      "    -------\n",
      "    result : `~scipy.stats._result_classes.TtestResult`\n",
      "        An object with the following attributes:\n",
      "        \n",
      "        statistic : float or array\n",
      "            The t-statistic.\n",
      "        pvalue : float or array\n",
      "            The p-value associated with the given alternative.\n",
      "        df : float or array\n",
      "            The number of degrees of freedom used in calculation of the\n",
      "            t-statistic; this is one less than the size of the sample\n",
      "            (``a.shape[axis]``).\n",
      "        \n",
      "            .. versionadded:: 1.10.0\n",
      "        \n",
      "        The object also has the following method:\n",
      "        \n",
      "        confidence_interval(confidence_level=0.95)\n",
      "            Computes a confidence interval around the population\n",
      "            mean for the given confidence level.\n",
      "            The confidence interval is returned in a ``namedtuple`` with\n",
      "            fields `low` and `high`.\n",
      "        \n",
      "            .. versionadded:: 1.10.0\n",
      "    \n",
      "    Notes\n",
      "    -----\n",
      "    The statistic is calculated as ``(np.mean(a) - popmean)/se``, where\n",
      "    ``se`` is the standard error. Therefore, the statistic will be positive\n",
      "    when the sample mean is greater than the population mean and negative when\n",
      "    the sample mean is less than the population mean.\n",
      "    \n",
      "    Beginning in SciPy 1.9, ``np.matrix`` inputs (not recommended for new\n",
      "    code) are converted to ``np.ndarray`` before the calculation is performed. In\n",
      "    this case, the output will be a scalar or ``np.ndarray`` of appropriate shape\n",
      "    rather than a 2D ``np.matrix``. Similarly, while masked elements of masked\n",
      "    arrays are ignored, the output will be a scalar or ``np.ndarray`` rather than a\n",
      "    masked array with ``mask=False``.\n",
      "    \n",
      "    Examples\n",
      "    --------\n",
      "    Suppose we wish to test the null hypothesis that the mean of a population\n",
      "    is equal to 0.5. We choose a confidence level of 99%; that is, we will\n",
      "    reject the null hypothesis in favor of the alternative if the p-value is\n",
      "    less than 0.01.\n",
      "    \n",
      "    When testing random variates from the standard uniform distribution, which\n",
      "    has a mean of 0.5, we expect the data to be consistent with the null\n",
      "    hypothesis most of the time.\n",
      "    \n",
      "    >>> import numpy as np\n",
      "    >>> from scipy import stats\n",
      "    >>> rng = np.random.default_rng()\n",
      "    >>> rvs = stats.uniform.rvs(size=50, random_state=rng)\n",
      "    >>> stats.ttest_1samp(rvs, popmean=0.5)\n",
      "    TtestResult(statistic=2.456308468440, pvalue=0.017628209047638, df=49)\n",
      "    \n",
      "    As expected, the p-value of 0.017 is not below our threshold of 0.01, so\n",
      "    we cannot reject the null hypothesis.\n",
      "    \n",
      "    When testing data from the standard *normal* distribution, which has a mean\n",
      "    of 0, we would expect the null hypothesis to be rejected.\n",
      "    \n",
      "    >>> rvs = stats.norm.rvs(size=50, random_state=rng)\n",
      "    >>> stats.ttest_1samp(rvs, popmean=0.5)\n",
      "    TtestResult(statistic=-7.433605518875, pvalue=1.416760157221e-09, df=49)\n",
      "    \n",
      "    Indeed, the p-value is lower than our threshold of 0.01, so we reject the\n",
      "    null hypothesis in favor of the default \"two-sided\" alternative: the mean\n",
      "    of the population is *not* equal to 0.5.\n",
      "    \n",
      "    However, suppose we were to test the null hypothesis against the\n",
      "    one-sided alternative that the mean of the population is *greater* than\n",
      "    0.5. Since the mean of the standard normal is less than 0.5, we would not\n",
      "    expect the null hypothesis to be rejected.\n",
      "    \n",
      "    >>> stats.ttest_1samp(rvs, popmean=0.5, alternative='greater')\n",
      "    TtestResult(statistic=-7.433605518875, pvalue=0.99999999929, df=49)\n",
      "    \n",
      "    Unsurprisingly, with a p-value greater than our threshold, we would not\n",
      "    reject the null hypothesis.\n",
      "    \n",
      "    Note that when working with a confidence level of 99%, a true null\n",
      "    hypothesis will be rejected approximately 1% of the time.\n",
      "    \n",
      "    >>> rvs = stats.uniform.rvs(size=(100, 50), random_state=rng)\n",
      "    >>> res = stats.ttest_1samp(rvs, popmean=0.5, axis=1)\n",
      "    >>> np.sum(res.pvalue < 0.01)\n",
      "    1\n",
      "    \n",
      "    Indeed, even though all 100 samples above were drawn from the standard\n",
      "    uniform distribution, which *does* have a population mean of 0.5, we would\n",
      "    mistakenly reject the null hypothesis for one of them.\n",
      "    \n",
      "    `ttest_1samp` can also compute a confidence interval around the population\n",
      "    mean.\n",
      "    \n",
      "    >>> rvs = stats.norm.rvs(size=50, random_state=rng)\n",
      "    >>> res = stats.ttest_1samp(rvs, popmean=0)\n",
      "    >>> ci = res.confidence_interval(confidence_level=0.95)\n",
      "    >>> ci\n",
      "    ConfidenceInterval(low=-0.3193887540880017, high=0.2898583388980972)\n",
      "    \n",
      "    The bounds of the 95% confidence interval are the\n",
      "    minimum and maximum values of the parameter `popmean` for which the\n",
      "    p-value of the test would be 0.05.\n",
      "    \n",
      "    >>> res = stats.ttest_1samp(rvs, popmean=ci.low)\n",
      "    >>> np.testing.assert_allclose(res.pvalue, 0.05)\n",
      "    >>> res = stats.ttest_1samp(rvs, popmean=ci.high)\n",
      "    >>> np.testing.assert_allclose(res.pvalue, 0.05)\n",
      "    \n",
      "    Under certain assumptions about the population from which a sample\n",
      "    is drawn, the confidence interval with confidence level 95% is expected\n",
      "    to contain the true population mean in 95% of sample replications.\n",
      "    \n",
      "    >>> rvs = stats.norm.rvs(size=(50, 1000), loc=1, random_state=rng)\n",
      "    >>> res = stats.ttest_1samp(rvs, popmean=0)\n",
      "    >>> ci = res.confidence_interval()\n",
      "    >>> contains_pop_mean = (ci.low < 1) & (ci.high > 1)\n",
      "    >>> contains_pop_mean.sum()\n",
      "    953\n",
      "\n"
     ]
    }
   ],
   "source": [
    "help(scs.ttest_1samp)"
   ]
  },
  {
   "cell_type": "code",
   "execution_count": 6,
   "id": "f1049100-75c4-4061-955b-bbf8be59ff00",
   "metadata": {},
   "outputs": [
    {
     "data": {
      "text/plain": [
       "TtestResult(statistic=array([-3.99532412]), pvalue=array([0.00013886]), df=array([39]))"
      ]
     },
     "execution_count": 6,
     "metadata": {},
     "output_type": "execute_result"
    }
   ],
   "source": [
    "scs.ttest_1samp(calcium, popmean=800, alternative='less')"
   ]
  },
  {
   "cell_type": "code",
   "execution_count": 7,
   "id": "cb2250ca",
   "metadata": {},
   "outputs": [
    {
     "name": "stdout",
     "output_type": "stream",
     "text": [
      "The test statistics is -3.9953, and the p value is 0.0001.\n"
     ]
    }
   ],
   "source": [
    "t_score, p_value = scs.ttest_1samp(calcium, popmean=800, alternative='less')\n",
    "# popmean is mu_0.\n",
    "# Possible values for alternative: 'two-sided'; 'greater'; 'less'.\n",
    "print('The test statistics is {}, and the p value is {}.'.format(t_score.round(4)[0], p_value.round(4)[0]))"
   ]
  },
  {
   "cell_type": "markdown",
   "id": "f2e68a87",
   "metadata": {},
   "source": [
    "### Making decision\n",
    "\n",
    "Now, we need to make a decision whether or not to reject the null hypothesis. The decision depends on the p-value and significance level ($\\alpha$). \n",
    "\n",
    "* The p-value is the probability of obtaining a test statistic value equal to or more extreme than observed when the null hypothesis is true.\n",
    "* The significance level is usually specified ahead of time and common values are: 0.1, 0.05, 0.01.\n",
    "\n",
    "In the end\n",
    "* we reject the null hypothesis, and in favor of the alternative hypothesis if p-value< $\\alpha$.\n",
    "* we fail to reject the null hypothesis if p-value $\\ge\\alpha$. **Remember**, this is not saying $H_0$ is correct.\n",
    "\n",
    "In this case, using $\\alpha = 0.05$, \n",
    "1. We will reject the null hypothesis.\n",
    "2. Conclude that the mean daily calcium intake for poverty level income people is below the recommended level. "
   ]
  },
  {
   "cell_type": "markdown",
   "id": "97eb6e2b",
   "metadata": {},
   "source": [
    "### small sample case\n",
    "\n",
    "- When the sample size is large, we do not need to pose any assumption on the distribution of our data.\n",
    "- As long as they are independent, the t test will be valid by the **Central Limit Theorem**.\n",
    "- However, it maybe the case that our sample is smaller than 30.\n",
    "- Under this case, it is required to check the normality assumption before conducting the t test. \n",
    "\n",
    "### check normality assumption\n",
    "\n",
    "To check whether or not our data are from a normal distribution, we can simply plot the data to see"
   ]
  },
  {
   "cell_type": "markdown",
   "id": "5174454a",
   "metadata": {},
   "source": [
    "### histogram"
   ]
  },
  {
   "cell_type": "code",
   "execution_count": 8,
   "id": "395258a7",
   "metadata": {},
   "outputs": [
    {
     "data": {
      "text/plain": [
       "<Axes: ylabel='Count'>"
      ]
     },
     "execution_count": 8,
     "metadata": {},
     "output_type": "execute_result"
    },
    {
     "data": {
      "image/png": "[encoded data removed]",
      "text/plain": [
       "<Figure size 640x480 with 1 Axes>"
      ]
     },
     "metadata": {},
     "output_type": "display_data"
    }
   ],
   "source": [
    "data = [58,  67,  63,  65,  59,  57,  51,  64,  59,  54, 65,  56,  59,  58,  62,  64,  55,  59,  61, 55]\n",
    "import seaborn as sns\n",
    "sns.histplot(data, kde=True)"
   ]
  },
  {
   "cell_type": "markdown",
   "id": "48d1a28a",
   "metadata": {},
   "source": [
    "### quantile-quantile plot (qq plot)"
   ]
  },
  {
   "cell_type": "code",
   "execution_count": 39,
   "id": "36f698b6",
   "metadata": {},
   "outputs": [
    {
     "data": {
      "image/png": "[encoded data removed]",
      "text/plain": [
       "<Figure size 1000x800 with 1 Axes>"
      ]
     },
     "metadata": {},
     "output_type": "display_data"
    }
   ],
   "source": [
    "import matplotlib.pyplot as plt\n",
    "import statsmodels.api as sm\n",
    "import numpy as np\n",
    "fig = sm.qqplot(np.array(data))\n",
    "fig.set_size_inches(10, 8)"
   ]
  },
  {
   "cell_type": "markdown",
   "id": "94d88140",
   "metadata": {},
   "source": [
    "### shapiro wilk test\n",
    "\n",
    "The above checkings for normality assumption by visualization are relative subjective. To make it formal, we can use shapiro wilk test to test the normality assumption.\n",
    "\n",
    "$$H_0: \\text{The data is from normal distribution}$$\n",
    "$$H_1: \\text{The data is not from normal distribution}$$"
   ]
  },
  {
   "cell_type": "code",
   "execution_count": 40,
   "id": "2d3029ca",
   "metadata": {},
   "outputs": [
    {
     "data": {
      "text/plain": [
       "ShapiroResult(statistic=0.9724052548408508, pvalue=0.8046454191207886)"
      ]
     },
     "execution_count": 40,
     "metadata": {},
     "output_type": "execute_result"
    }
   ],
   "source": [
    "scs.shapiro(data)"
   ]
  },
  {
   "cell_type": "markdown",
   "id": "e7f9b5ed",
   "metadata": {},
   "source": [
    "Use $\\alpha = 0.05$, we can say the normality assumption is appropriate for this data."
   ]
  },
  {
   "cell_type": "markdown",
   "id": "1a665107",
   "metadata": {},
   "source": [
    "## 1-sample proportion test\n",
    "\n",
    "For one sample test for populationproportion, the hypotheses in general has the following form:\n",
    "$$H_0: p = p_0.$$\n",
    "$$H_1: p > p_0; p < p_0; \\text{ or } p \\ne p_0.$$\n",
    "\n",
    "where $p_0$ is the preconceived idea you have ahead of time.\n",
    "\n",
    "We start with the simplest case:\n",
    "\n",
    "* Sample are independent.\n",
    "* $np_0(1-p_0) \\ge 5$\n",
    "\n",
    "Under this senario, the appropriate test is 1-sample proportion test. The function you want to use is ```sms.proportions_ztest```.\n",
    "\n",
    "Example:\n",
    "\n",
    "A recent survey claimed that 45% of college students named \"Pretty Little Liars\" as their favorite of the two shows.  Fans of \"Breaking Bad\" believed that percentage was inflated (<u>that is, these fans believe that the proportion of college students who would say \"Pretty Little Liars\" was their favorite show is actually **less that** 45%</u>). They decided to take a survey of 100 college students.  Each student was asked the question: “Did you prefer ‘Pretty Little Liars’ over \"Breaking Bad\" during the years 2012-2013?\"  Each person could answer either Yes or No. \n",
    "\n",
    "$$H_0: p = 0.45.$$\n",
    "$$H_1: p < 0.45.$$"
   ]
  },
  {
   "cell_type": "code",
   "execution_count": 9,
   "id": "f0683463",
   "metadata": {},
   "outputs": [],
   "source": [
    "import pandas as pd\n",
    "tv = pd.read_csv('data/tv.csv')"
   ]
  },
  {
   "cell_type": "code",
   "execution_count": 10,
   "id": "da863bf5",
   "metadata": {},
   "outputs": [
    {
     "data": {
      "text/html": [
       "<div>\n",
       "<style scoped>\n",
       "    .dataframe tbody tr th:only-of-type {\n",
       "        vertical-align: middle;\n",
       "    }\n",
       "\n",
       "    .dataframe tbody tr th {\n",
       "        vertical-align: top;\n",
       "    }\n",
       "\n",
       "    .dataframe thead th {\n",
       "        text-align: right;\n",
       "    }\n",
       "</style>\n",
       "<table border=\"1\" class=\"dataframe\">\n",
       "  <thead>\n",
       "    <tr style=\"text-align: right;\">\n",
       "      <th></th>\n",
       "      <th>ANSWER</th>\n",
       "    </tr>\n",
       "  </thead>\n",
       "  <tbody>\n",
       "    <tr>\n",
       "      <th>0</th>\n",
       "      <td>NO</td>\n",
       "    </tr>\n",
       "    <tr>\n",
       "      <th>1</th>\n",
       "      <td>NO</td>\n",
       "    </tr>\n",
       "    <tr>\n",
       "      <th>2</th>\n",
       "      <td>NO</td>\n",
       "    </tr>\n",
       "    <tr>\n",
       "      <th>3</th>\n",
       "      <td>YES</td>\n",
       "    </tr>\n",
       "    <tr>\n",
       "      <th>4</th>\n",
       "      <td>NO</td>\n",
       "    </tr>\n",
       "  </tbody>\n",
       "</table>\n",
       "</div>"
      ],
      "text/plain": [
       "  ANSWER\n",
       "0    NO \n",
       "1    NO \n",
       "2    NO \n",
       "3    YES\n",
       "4    NO "
      ]
     },
     "execution_count": 10,
     "metadata": {},
     "output_type": "execute_result"
    }
   ],
   "source": [
    "tv.head()"
   ]
  },
  {
   "cell_type": "code",
   "execution_count": 43,
   "id": "f155e515",
   "metadata": {},
   "outputs": [
    {
     "name": "stdout",
     "output_type": "stream",
     "text": [
      "Help on function proportions_ztest in module statsmodels.stats.proportion:\n",
      "\n",
      "proportions_ztest(count, nobs, value=None, alternative='two-sided', prop_var=False)\n",
      "    Test for proportions based on normal (z) test\n",
      "    \n",
      "    Parameters\n",
      "    ----------\n",
      "    count : {int, array_like}\n",
      "        the number of successes in nobs trials. If this is array_like, then\n",
      "        the assumption is that this represents the number of successes for\n",
      "        each independent sample\n",
      "    nobs : {int, array_like}\n",
      "        the number of trials or observations, with the same length as\n",
      "        count.\n",
      "    value : float, array_like or None, optional\n",
      "        This is the value of the null hypothesis equal to the proportion in the\n",
      "        case of a one sample test. In the case of a two-sample test, the\n",
      "        null hypothesis is that prop[0] - prop[1] = value, where prop is the\n",
      "        proportion in the two samples. If not provided value = 0 and the null\n",
      "        is prop[0] = prop[1]\n",
      "    alternative : str in ['two-sided', 'smaller', 'larger']\n",
      "        The alternative hypothesis can be either two-sided or one of the one-\n",
      "        sided tests, smaller means that the alternative hypothesis is\n",
      "        ``prop < value`` and larger means ``prop > value``. In the two sample\n",
      "        test, smaller means that the alternative hypothesis is ``p1 < p2`` and\n",
      "        larger means ``p1 > p2`` where ``p1`` is the proportion of the first\n",
      "        sample and ``p2`` of the second one.\n",
      "    prop_var : False or float in (0, 1)\n",
      "        If prop_var is false, then the variance of the proportion estimate is\n",
      "        calculated based on the sample proportion. Alternatively, a proportion\n",
      "        can be specified to calculate this variance. Common use case is to\n",
      "        use the proportion under the Null hypothesis to specify the variance\n",
      "        of the proportion estimate.\n",
      "    \n",
      "    Returns\n",
      "    -------\n",
      "    zstat : float\n",
      "        test statistic for the z-test\n",
      "    p-value : float\n",
      "        p-value for the z-test\n",
      "    \n",
      "    Examples\n",
      "    --------\n",
      "    >>> count = 5\n",
      "    >>> nobs = 83\n",
      "    >>> value = .05\n",
      "    >>> stat, pval = proportions_ztest(count, nobs, value)\n",
      "    >>> print('{0:0.3f}'.format(pval))\n",
      "    0.695\n",
      "    \n",
      "    >>> import numpy as np\n",
      "    >>> from statsmodels.stats.proportion import proportions_ztest\n",
      "    >>> count = np.array([5, 12])\n",
      "    >>> nobs = np.array([83, 99])\n",
      "    >>> stat, pval = proportions_ztest(count, nobs)\n",
      "    >>> print('{0:0.3f}'.format(pval))\n",
      "    0.159\n",
      "    \n",
      "    Notes\n",
      "    -----\n",
      "    This uses a simple normal test for proportions. It should be the same as\n",
      "    running the mean z-test on the data encoded 1 for event and 0 for no event\n",
      "    so that the sum corresponds to the count.\n",
      "    \n",
      "    In the one and two sample cases with two-sided alternative, this test\n",
      "    produces the same p-value as ``proportions_chisquare``, since the\n",
      "    chisquare is the distribution of the square of a standard normal\n",
      "    distribution.\n",
      "\n"
     ]
    }
   ],
   "source": [
    "help(sms.proportions_ztest)"
   ]
  },
  {
   "cell_type": "code",
   "execution_count": 11,
   "id": "fd657d11-4924-4377-aef3-5ba0164d30d6",
   "metadata": {},
   "outputs": [
    {
     "data": {
      "text/plain": [
       "ANSWER\n",
       "NO     64\n",
       "YES    36\n",
       "dtype: int64"
      ]
     },
     "execution_count": 11,
     "metadata": {},
     "output_type": "execute_result"
    }
   ],
   "source": [
    "tv.groupby(\"ANSWER\").size()"
   ]
  },
  {
   "cell_type": "code",
   "execution_count": 45,
   "id": "814c3aa4-d660-476e-879c-dce34dc28ca3",
   "metadata": {},
   "outputs": [
    {
     "data": {
      "text/html": [
       "<div>\n",
       "<style scoped>\n",
       "    .dataframe tbody tr th:only-of-type {\n",
       "        vertical-align: middle;\n",
       "    }\n",
       "\n",
       "    .dataframe tbody tr th {\n",
       "        vertical-align: top;\n",
       "    }\n",
       "\n",
       "    .dataframe thead th {\n",
       "        text-align: right;\n",
       "    }\n",
       "</style>\n",
       "<table border=\"1\" class=\"dataframe\">\n",
       "  <thead>\n",
       "    <tr style=\"text-align: right;\">\n",
       "      <th>col_0</th>\n",
       "      <th>count</th>\n",
       "      <th>All</th>\n",
       "    </tr>\n",
       "    <tr>\n",
       "      <th>ANSWER</th>\n",
       "      <th></th>\n",
       "      <th></th>\n",
       "    </tr>\n",
       "  </thead>\n",
       "  <tbody>\n",
       "    <tr>\n",
       "      <th>NO</th>\n",
       "      <td>64</td>\n",
       "      <td>64</td>\n",
       "    </tr>\n",
       "    <tr>\n",
       "      <th>YES</th>\n",
       "      <td>36</td>\n",
       "      <td>36</td>\n",
       "    </tr>\n",
       "    <tr>\n",
       "      <th>All</th>\n",
       "      <td>100</td>\n",
       "      <td>100</td>\n",
       "    </tr>\n",
       "  </tbody>\n",
       "</table>\n",
       "</div>"
      ],
      "text/plain": [
       "col_0   count  All\n",
       "ANSWER            \n",
       "NO         64   64\n",
       "YES        36   36\n",
       "All       100  100"
      ]
     },
     "execution_count": 45,
     "metadata": {},
     "output_type": "execute_result"
    }
   ],
   "source": [
    "pd.crosstab(index = tv.ANSWER, columns='count', margins=True)"
   ]
  },
  {
   "cell_type": "code",
   "execution_count": 13,
   "id": "2696dbc5",
   "metadata": {},
   "outputs": [
    {
     "data": {
      "text/plain": [
       "(-1.809068067466582, 0.035220214636043974)"
      ]
     },
     "execution_count": 13,
     "metadata": {},
     "output_type": "execute_result"
    }
   ],
   "source": [
    "sms.proportions_ztest(count = 36, nobs = 100, value = 0.45, alternative='smaller', prop_var=0.45)"
   ]
  },
  {
   "cell_type": "code",
   "execution_count": 15,
   "id": "dff0e00e-6cd9-487e-a3e2-74d0392fa31f",
   "metadata": {},
   "outputs": [
    {
     "name": "stdout",
     "output_type": "stream",
     "text": [
      "The test statistics is -1.8091, and the p value is 0.0352.\n"
     ]
    }
   ],
   "source": [
    "z_score, p_value = sms.proportions_ztest(count = 36, nobs = 100, value = 0.45, alternative='smaller', prop_var=0.45)\n",
    "print('The test statistics is {}, and the p value is {}.'.format(z_score.round(4), p_value.round(4)))"
   ]
  },
  {
   "cell_type": "markdown",
   "id": "ab391619",
   "metadata": {},
   "source": [
    "In this case, using $\\alpha = 0.05$, \n",
    "\n",
    "1. We will reject the null hypothesis.\n",
    "2. Conclude that the percentage from the survey is inflated."
   ]
  },
  {
   "cell_type": "markdown",
   "id": "9fb93723",
   "metadata": {},
   "source": [
    "## Two sample tests\n",
    "\n",
    "For a two sample test for population means, the hypotheses in general has the following form:\n",
    "$$H_0: \\mu_1 = \\mu_2.$$\n",
    "$$H_1: \\mu_1 > \\mu_2; \\mu_1 < \\mu_2; \\mu_1 \\ne \\mu_2.$$\n",
    "\n",
    "where $\\mu_1$ and $\\mu_2$ stand for means of populations 1 and 2.\n",
    "\n",
    "\n",
    "When\n",
    "\n",
    "* Two populations are independent.\n",
    "* Samples are from normal distribution (can be relaxed if sample size $\\ge$30).\n",
    "\n",
    "Under this senario, the appropriate test is 2-sample t test. The function you want to use is ```sms.ttest_ind```.\n",
    "\n",
    "Example:\n",
    "\n",
    "Suppose you suspect that the engineering students will have a higher average SAT math score than business students, and you would like to do a test of hypothesis to check if your suspicions are confirmed.\n",
    "\n",
    "$$H_0: \\mu_1 = \\mu_2.$$\n",
    "$$H_1: \\mu_1 > \\mu_2.$$"
   ]
  },
  {
   "cell_type": "code",
   "execution_count": 16,
   "id": "ccb5dc05",
   "metadata": {},
   "outputs": [],
   "source": [
    "sat = pd.read_csv(\"data/mathsat.csv\")"
   ]
  },
  {
   "cell_type": "code",
   "execution_count": 17,
   "id": "eb3ce70b",
   "metadata": {},
   "outputs": [
    {
     "data": {
      "text/html": [
       "<div>\n",
       "<style scoped>\n",
       "    .dataframe tbody tr th:only-of-type {\n",
       "        vertical-align: middle;\n",
       "    }\n",
       "\n",
       "    .dataframe tbody tr th {\n",
       "        vertical-align: top;\n",
       "    }\n",
       "\n",
       "    .dataframe thead th {\n",
       "        text-align: right;\n",
       "    }\n",
       "</style>\n",
       "<table border=\"1\" class=\"dataframe\">\n",
       "  <thead>\n",
       "    <tr style=\"text-align: right;\">\n",
       "      <th></th>\n",
       "      <th>Engineering</th>\n",
       "      <th>Business</th>\n",
       "    </tr>\n",
       "  </thead>\n",
       "  <tbody>\n",
       "    <tr>\n",
       "      <th>0</th>\n",
       "      <td>735</td>\n",
       "      <td>635.0</td>\n",
       "    </tr>\n",
       "    <tr>\n",
       "      <th>1</th>\n",
       "      <td>609</td>\n",
       "      <td>584.0</td>\n",
       "    </tr>\n",
       "    <tr>\n",
       "      <th>2</th>\n",
       "      <td>464</td>\n",
       "      <td>525.0</td>\n",
       "    </tr>\n",
       "    <tr>\n",
       "      <th>3</th>\n",
       "      <td>587</td>\n",
       "      <td>629.0</td>\n",
       "    </tr>\n",
       "    <tr>\n",
       "      <th>4</th>\n",
       "      <td>628</td>\n",
       "      <td>568.0</td>\n",
       "    </tr>\n",
       "    <tr>\n",
       "      <th>5</th>\n",
       "      <td>468</td>\n",
       "      <td>586.0</td>\n",
       "    </tr>\n",
       "    <tr>\n",
       "      <th>6</th>\n",
       "      <td>536</td>\n",
       "      <td>659.0</td>\n",
       "    </tr>\n",
       "    <tr>\n",
       "      <th>7</th>\n",
       "      <td>736</td>\n",
       "      <td>467.0</td>\n",
       "    </tr>\n",
       "    <tr>\n",
       "      <th>8</th>\n",
       "      <td>614</td>\n",
       "      <td>542.0</td>\n",
       "    </tr>\n",
       "    <tr>\n",
       "      <th>9</th>\n",
       "      <td>447</td>\n",
       "      <td>571.0</td>\n",
       "    </tr>\n",
       "    <tr>\n",
       "      <th>10</th>\n",
       "      <td>638</td>\n",
       "      <td>588.0</td>\n",
       "    </tr>\n",
       "    <tr>\n",
       "      <th>11</th>\n",
       "      <td>388</td>\n",
       "      <td>578.0</td>\n",
       "    </tr>\n",
       "    <tr>\n",
       "      <th>12</th>\n",
       "      <td>712</td>\n",
       "      <td>564.0</td>\n",
       "    </tr>\n",
       "    <tr>\n",
       "      <th>13</th>\n",
       "      <td>632</td>\n",
       "      <td>589.0</td>\n",
       "    </tr>\n",
       "    <tr>\n",
       "      <th>14</th>\n",
       "      <td>606</td>\n",
       "      <td>430.0</td>\n",
       "    </tr>\n",
       "    <tr>\n",
       "      <th>15</th>\n",
       "      <td>577</td>\n",
       "      <td>457.0</td>\n",
       "    </tr>\n",
       "    <tr>\n",
       "      <th>16</th>\n",
       "      <td>596</td>\n",
       "      <td>572.0</td>\n",
       "    </tr>\n",
       "    <tr>\n",
       "      <th>17</th>\n",
       "      <td>749</td>\n",
       "      <td>588.0</td>\n",
       "    </tr>\n",
       "    <tr>\n",
       "      <th>18</th>\n",
       "      <td>526</td>\n",
       "      <td>490.0</td>\n",
       "    </tr>\n",
       "    <tr>\n",
       "      <th>19</th>\n",
       "      <td>504</td>\n",
       "      <td>617.0</td>\n",
       "    </tr>\n",
       "    <tr>\n",
       "      <th>20</th>\n",
       "      <td>752</td>\n",
       "      <td>591.0</td>\n",
       "    </tr>\n",
       "    <tr>\n",
       "      <th>21</th>\n",
       "      <td>629</td>\n",
       "      <td>508.0</td>\n",
       "    </tr>\n",
       "    <tr>\n",
       "      <th>22</th>\n",
       "      <td>556</td>\n",
       "      <td>NaN</td>\n",
       "    </tr>\n",
       "    <tr>\n",
       "      <th>23</th>\n",
       "      <td>525</td>\n",
       "      <td>NaN</td>\n",
       "    </tr>\n",
       "    <tr>\n",
       "      <th>24</th>\n",
       "      <td>572</td>\n",
       "      <td>NaN</td>\n",
       "    </tr>\n",
       "    <tr>\n",
       "      <th>25</th>\n",
       "      <td>664</td>\n",
       "      <td>NaN</td>\n",
       "    </tr>\n",
       "    <tr>\n",
       "      <th>26</th>\n",
       "      <td>488</td>\n",
       "      <td>NaN</td>\n",
       "    </tr>\n",
       "    <tr>\n",
       "      <th>27</th>\n",
       "      <td>567</td>\n",
       "      <td>NaN</td>\n",
       "    </tr>\n",
       "  </tbody>\n",
       "</table>\n",
       "</div>"
      ],
      "text/plain": [
       "    Engineering  Business\n",
       "0           735     635.0\n",
       "1           609     584.0\n",
       "2           464     525.0\n",
       "3           587     629.0\n",
       "4           628     568.0\n",
       "5           468     586.0\n",
       "6           536     659.0\n",
       "7           736     467.0\n",
       "8           614     542.0\n",
       "9           447     571.0\n",
       "10          638     588.0\n",
       "11          388     578.0\n",
       "12          712     564.0\n",
       "13          632     589.0\n",
       "14          606     430.0\n",
       "15          577     457.0\n",
       "16          596     572.0\n",
       "17          749     588.0\n",
       "18          526     490.0\n",
       "19          504     617.0\n",
       "20          752     591.0\n",
       "21          629     508.0\n",
       "22          556       NaN\n",
       "23          525       NaN\n",
       "24          572       NaN\n",
       "25          664       NaN\n",
       "26          488       NaN\n",
       "27          567       NaN"
      ]
     },
     "execution_count": 17,
     "metadata": {},
     "output_type": "execute_result"
    }
   ],
   "source": [
    "sat"
   ]
  },
  {
   "cell_type": "code",
   "execution_count": 18,
   "id": "5c29ed11",
   "metadata": {},
   "outputs": [
    {
     "data": {
      "text/plain": [
       "(28, 2)"
      ]
     },
     "execution_count": 18,
     "metadata": {},
     "output_type": "execute_result"
    }
   ],
   "source": [
    "sat.shape # small sample size"
   ]
  },
  {
   "cell_type": "markdown",
   "id": "c7083758",
   "metadata": {},
   "source": [
    "### normality check"
   ]
  },
  {
   "cell_type": "code",
   "execution_count": 50,
   "id": "068bf824",
   "metadata": {},
   "outputs": [
    {
     "data": {
      "text/plain": [
       "ShapiroResult(statistic=0.9728718400001526, pvalue=0.6593040227890015)"
      ]
     },
     "execution_count": 50,
     "metadata": {},
     "output_type": "execute_result"
    }
   ],
   "source": [
    "scs.shapiro(sat.Engineering)"
   ]
  },
  {
   "cell_type": "code",
   "execution_count": 51,
   "id": "6c737b9d",
   "metadata": {},
   "outputs": [
    {
     "data": {
      "text/plain": [
       "ShapiroResult(statistic=0.9339437484741211, pvalue=0.14823628962039948)"
      ]
     },
     "execution_count": 51,
     "metadata": {},
     "output_type": "execute_result"
    }
   ],
   "source": [
    "scs.shapiro(sat.Business.dropna())"
   ]
  },
  {
   "cell_type": "code",
   "execution_count": 52,
   "id": "7e44676f",
   "metadata": {},
   "outputs": [
    {
     "data": {
      "text/plain": [
       "0     635.0\n",
       "1     584.0\n",
       "2     525.0\n",
       "3     629.0\n",
       "4     568.0\n",
       "5     586.0\n",
       "6     659.0\n",
       "7     467.0\n",
       "8     542.0\n",
       "9     571.0\n",
       "10    588.0\n",
       "11    578.0\n",
       "12    564.0\n",
       "13    589.0\n",
       "14    430.0\n",
       "15    457.0\n",
       "16    572.0\n",
       "17    588.0\n",
       "18    490.0\n",
       "19    617.0\n",
       "20    591.0\n",
       "21    508.0\n",
       "Name: Business, dtype: float64"
      ]
     },
     "execution_count": 52,
     "metadata": {},
     "output_type": "execute_result"
    }
   ],
   "source": [
    "sat.Business.dropna()"
   ]
  },
  {
   "cell_type": "code",
   "execution_count": 53,
   "id": "e57f92ee",
   "metadata": {},
   "outputs": [
    {
     "name": "stdout",
     "output_type": "stream",
     "text": [
      "The test statistics is 1.3004, and the p value is 0.1.\n"
     ]
    }
   ],
   "source": [
    "t_score, p_value, degree_fr = sms.ttest_ind(sat.Engineering, sat.Business.dropna(),\n",
    "                                            alternative='larger', usevar = 'unequal')\n",
    "\n",
    "print('The test statistics is {}, and the p value is {}.'.format(t_score.round(4), p_value.round(4)))"
   ]
  },
  {
   "cell_type": "markdown",
   "id": "b7787583",
   "metadata": {},
   "source": [
    "### Decision\n",
    "\n",
    "In this case, using $\\alpha = 0.05$, \n",
    "\n",
    "1. We fail reject the null hypothesis.\n",
    "2. Conclude that there is no enough evidence to support the claim that engineering students will have a higher average SAT math score. "
   ]
  },
  {
   "cell_type": "markdown",
   "id": "23c42287",
   "metadata": {},
   "source": [
    "## two sample test for dependent population\n",
    "\n",
    "Sometime, we want to compare two populations that are dependent. For example, the performance of a student before and after some study session; reaction time for left and right hand, and etc. \n",
    "\n",
    "In this case, the appropriate test is the paired t-test. The hypotheses take the general form:\n",
    "\n",
    "$$H_0: \\mu_1 = \\mu_2.$$\n",
    "$$H_1: \\mu_1 > \\mu_2; \\mu_1 < \\mu_2; \\mu_1 \\ne \\mu_2.$$\n",
    "\n",
    "Because of the unique feature of the data (data comes in pair), conducting the paired t test is equivalent to test:\n",
    "\n",
    "$$H_0: d = 0$$\n",
    "$$H_1: d>0; d<0; d\\ne0.$$\n",
    "where $d = \\mu_1 - \\mu_2$. Notice that the different is independent. So, we have a 1-sample problem and this test can be done using 1-sample t test.\n",
    "\n",
    "Example:\n",
    "\n",
    "Many students take a course which is advertised to boost scores on the LSAT.  <u>The agency that teaches the course claims the course is an **effective** way to raise scores on the LSAT</u>.  To test this claim, a group of students are given the LSAT and their scores are recorded.  They then attend the course for 5 weeks and retake the exam.  Their scores are recorded again.  \n",
    "\n",
    "$$H_0: \\mu_1 = \\mu_2 \\text{ or } d = 0$$\n",
    "$$H_1: \\mu_1 < \\mu_2\\text{ or } d < 0.$$"
   ]
  },
  {
   "cell_type": "code",
   "execution_count": 54,
   "id": "e255e0f0",
   "metadata": {},
   "outputs": [],
   "source": [
    "lsat = pd.read_csv('data/lsat.csv')"
   ]
  },
  {
   "cell_type": "code",
   "execution_count": 55,
   "id": "f039cc22",
   "metadata": {},
   "outputs": [
    {
     "data": {
      "text/html": [
       "<div>\n",
       "<style scoped>\n",
       "    .dataframe tbody tr th:only-of-type {\n",
       "        vertical-align: middle;\n",
       "    }\n",
       "\n",
       "    .dataframe tbody tr th {\n",
       "        vertical-align: top;\n",
       "    }\n",
       "\n",
       "    .dataframe thead th {\n",
       "        text-align: right;\n",
       "    }\n",
       "</style>\n",
       "<table border=\"1\" class=\"dataframe\">\n",
       "  <thead>\n",
       "    <tr style=\"text-align: right;\">\n",
       "      <th></th>\n",
       "      <th>POSTSCORE</th>\n",
       "      <th>PRESCORE</th>\n",
       "    </tr>\n",
       "  </thead>\n",
       "  <tbody>\n",
       "    <tr>\n",
       "      <th>0</th>\n",
       "      <td>146</td>\n",
       "      <td>148</td>\n",
       "    </tr>\n",
       "    <tr>\n",
       "      <th>1</th>\n",
       "      <td>165</td>\n",
       "      <td>140</td>\n",
       "    </tr>\n",
       "    <tr>\n",
       "      <th>2</th>\n",
       "      <td>132</td>\n",
       "      <td>140</td>\n",
       "    </tr>\n",
       "    <tr>\n",
       "      <th>3</th>\n",
       "      <td>165</td>\n",
       "      <td>148</td>\n",
       "    </tr>\n",
       "    <tr>\n",
       "      <th>4</th>\n",
       "      <td>152</td>\n",
       "      <td>157</td>\n",
       "    </tr>\n",
       "  </tbody>\n",
       "</table>\n",
       "</div>"
      ],
      "text/plain": [
       "   POSTSCORE  PRESCORE\n",
       "0        146       148\n",
       "1        165       140\n",
       "2        132       140\n",
       "3        165       148\n",
       "4        152       157"
      ]
     },
     "execution_count": 55,
     "metadata": {},
     "output_type": "execute_result"
    }
   ],
   "source": [
    "lsat.head()"
   ]
  },
  {
   "cell_type": "code",
   "execution_count": 56,
   "id": "8e52d84f",
   "metadata": {},
   "outputs": [
    {
     "data": {
      "text/plain": [
       "0      2\n",
       "1    -25\n",
       "2      8\n",
       "3    -17\n",
       "4      5\n",
       "5     12\n",
       "6     -9\n",
       "7     22\n",
       "8     -9\n",
       "9    -27\n",
       "10    26\n",
       "11    -6\n",
       "12    12\n",
       "13    -3\n",
       "14     7\n",
       "15   -12\n",
       "16   -10\n",
       "17    22\n",
       "18   -23\n",
       "19     1\n",
       "20   -12\n",
       "21   -39\n",
       "22   -16\n",
       "23   -15\n",
       "24    -5\n",
       "25   -27\n",
       "26   -19\n",
       "27   -16\n",
       "28    -7\n",
       "29    23\n",
       "dtype: int64"
      ]
     },
     "execution_count": 56,
     "metadata": {},
     "output_type": "execute_result"
    }
   ],
   "source": [
    "diff = lsat.PRESCORE - lsat.POSTSCORE\n",
    "diff"
   ]
  },
  {
   "cell_type": "code",
   "execution_count": 57,
   "id": "46027714",
   "metadata": {},
   "outputs": [
    {
     "data": {
      "text/plain": [
       "ShapiroResult(statistic=0.9714736938476562, pvalue=0.5802393555641174)"
      ]
     },
     "execution_count": 57,
     "metadata": {},
     "output_type": "execute_result"
    }
   ],
   "source": [
    "scs.shapiro(diff)"
   ]
  },
  {
   "cell_type": "code",
   "execution_count": 58,
   "id": "851199e1",
   "metadata": {},
   "outputs": [
    {
     "name": "stdout",
     "output_type": "stream",
     "text": [
      "The test statistics is -1.7289, and the p value is 0.0472.\n"
     ]
    }
   ],
   "source": [
    "t_score, p_value = scs.ttest_1samp(diff, popmean=0, alternative='less')\n",
    "print('The test statistics is {}, and the p value is {}.'.format(t_score.round(4), p_value.round(4)))"
   ]
  },
  {
   "cell_type": "markdown",
   "id": "b6e9518d",
   "metadata": {},
   "source": [
    "### Decision\n",
    "\n",
    "In this case, using $\\alpha = 0.05$, \n",
    "\n",
    "1. We reject the null hypothesis.\n",
    "2. Conclude that the course is effective."
   ]
  }
 ],
 "metadata": {
  "kernelspec": {
   "display_name": "Python 3 (ipykernel)",
   "language": "python",
   "name": "python3"
  },
  "language_info": {
   "codemirror_mode": {
    "name": "ipython",
    "version": 3
   },
   "file_extension": ".py",
   "mimetype": "text/x-python",
   "name": "python",
   "nbconvert_exporter": "python",
   "pygments_lexer": "ipython3",
   "version": "3.11.4"
  }
 },
 "nbformat": 4,
 "nbformat_minor": 5
}
